{
 "cells": [
  {
   "cell_type": "markdown",
   "id": "6f1d8b22",
   "metadata": {},
   "source": [
    "# Part 1-  Preparing the data for analysis\n"
   ]
  },
  {
   "cell_type": "markdown",
   "id": "962d009e",
   "metadata": {},
   "source": [
    "## Before beginning our analysis, it is critical that we first examine and clean the dataset, to make working with it a more efficient process. In this part, we will practice fixing data types, handling missing values, and dropping columns and rows while learning about the Stanford Open Policing Project dataset."
   ]
  },
  {
   "cell_type": "markdown",
   "id": "e45a86f1",
   "metadata": {},
   "source": [
    "### Examining the dataset\n",
    "Throughout this project, we'll be analyzing a dataset of traffic stops in Rhode Island that was collected by the [Stanford Open Policing Project.](https://openpolicing.stanford.edu/)\n",
    "\n",
    "Before beginning our analysis, it's important that we familiarize ourself with the dataset. In this exercise, we'll read the dataset into pandas, examine the first few rows, and then count the number of missing values."
   ]
  },
  {
   "cell_type": "code",
   "execution_count": 1,
   "id": "5c0a12f5",
   "metadata": {},
   "outputs": [],
   "source": [
    "import numpy as np\n",
    "import pandas as pd\n",
    "import matplotlib.pyplot as plt"
   ]
  },
  {
   "cell_type": "code",
   "execution_count": 2,
   "id": "09cf4b76",
   "metadata": {},
   "outputs": [],
   "source": [
    "from IPython import InteractiveShell\n",
    "InteractiveShell.ast_node_interactivity = 'all'"
   ]
  },
  {
   "cell_type": "code",
   "execution_count": 3,
   "id": "9158b832",
   "metadata": {},
   "outputs": [
    {
     "data": {
      "text/html": [
       "<div>\n",
       "<style scoped>\n",
       "    .dataframe tbody tr th:only-of-type {\n",
       "        vertical-align: middle;\n",
       "    }\n",
       "\n",
       "    .dataframe tbody tr th {\n",
       "        vertical-align: top;\n",
       "    }\n",
       "\n",
       "    .dataframe thead th {\n",
       "        text-align: right;\n",
       "    }\n",
       "</style>\n",
       "<table border=\"1\" class=\"dataframe\">\n",
       "  <thead>\n",
       "    <tr style=\"text-align: right;\">\n",
       "      <th></th>\n",
       "      <th>state</th>\n",
       "      <th>stop_date</th>\n",
       "      <th>stop_time</th>\n",
       "      <th>county_name</th>\n",
       "      <th>driver_gender</th>\n",
       "      <th>driver_race</th>\n",
       "      <th>violation_raw</th>\n",
       "      <th>violation</th>\n",
       "      <th>search_conducted</th>\n",
       "      <th>search_type</th>\n",
       "      <th>stop_outcome</th>\n",
       "      <th>is_arrested</th>\n",
       "      <th>stop_duration</th>\n",
       "      <th>drugs_related_stop</th>\n",
       "      <th>district</th>\n",
       "    </tr>\n",
       "  </thead>\n",
       "  <tbody>\n",
       "    <tr>\n",
       "      <th>0</th>\n",
       "      <td>RI</td>\n",
       "      <td>2005-01-04</td>\n",
       "      <td>12:55</td>\n",
       "      <td>NaN</td>\n",
       "      <td>M</td>\n",
       "      <td>White</td>\n",
       "      <td>Equipment/Inspection Violation</td>\n",
       "      <td>Equipment</td>\n",
       "      <td>False</td>\n",
       "      <td>NaN</td>\n",
       "      <td>Citation</td>\n",
       "      <td>False</td>\n",
       "      <td>0-15 Min</td>\n",
       "      <td>False</td>\n",
       "      <td>Zone X4</td>\n",
       "    </tr>\n",
       "    <tr>\n",
       "      <th>1</th>\n",
       "      <td>RI</td>\n",
       "      <td>2005-01-23</td>\n",
       "      <td>23:15</td>\n",
       "      <td>NaN</td>\n",
       "      <td>M</td>\n",
       "      <td>White</td>\n",
       "      <td>Speeding</td>\n",
       "      <td>Speeding</td>\n",
       "      <td>False</td>\n",
       "      <td>NaN</td>\n",
       "      <td>Citation</td>\n",
       "      <td>False</td>\n",
       "      <td>0-15 Min</td>\n",
       "      <td>False</td>\n",
       "      <td>Zone K3</td>\n",
       "    </tr>\n",
       "    <tr>\n",
       "      <th>2</th>\n",
       "      <td>RI</td>\n",
       "      <td>2005-02-17</td>\n",
       "      <td>04:15</td>\n",
       "      <td>NaN</td>\n",
       "      <td>M</td>\n",
       "      <td>White</td>\n",
       "      <td>Speeding</td>\n",
       "      <td>Speeding</td>\n",
       "      <td>False</td>\n",
       "      <td>NaN</td>\n",
       "      <td>Citation</td>\n",
       "      <td>False</td>\n",
       "      <td>0-15 Min</td>\n",
       "      <td>False</td>\n",
       "      <td>Zone X4</td>\n",
       "    </tr>\n",
       "    <tr>\n",
       "      <th>3</th>\n",
       "      <td>RI</td>\n",
       "      <td>2005-02-20</td>\n",
       "      <td>17:15</td>\n",
       "      <td>NaN</td>\n",
       "      <td>M</td>\n",
       "      <td>White</td>\n",
       "      <td>Call for Service</td>\n",
       "      <td>Other</td>\n",
       "      <td>False</td>\n",
       "      <td>NaN</td>\n",
       "      <td>Arrest Driver</td>\n",
       "      <td>True</td>\n",
       "      <td>16-30 Min</td>\n",
       "      <td>False</td>\n",
       "      <td>Zone X1</td>\n",
       "    </tr>\n",
       "    <tr>\n",
       "      <th>4</th>\n",
       "      <td>RI</td>\n",
       "      <td>2005-02-24</td>\n",
       "      <td>01:20</td>\n",
       "      <td>NaN</td>\n",
       "      <td>F</td>\n",
       "      <td>White</td>\n",
       "      <td>Speeding</td>\n",
       "      <td>Speeding</td>\n",
       "      <td>False</td>\n",
       "      <td>NaN</td>\n",
       "      <td>Citation</td>\n",
       "      <td>False</td>\n",
       "      <td>0-15 Min</td>\n",
       "      <td>False</td>\n",
       "      <td>Zone X3</td>\n",
       "    </tr>\n",
       "  </tbody>\n",
       "</table>\n",
       "</div>"
      ],
      "text/plain": [
       "  state   stop_date stop_time  county_name driver_gender driver_race  \\\n",
       "0    RI  2005-01-04     12:55          NaN             M       White   \n",
       "1    RI  2005-01-23     23:15          NaN             M       White   \n",
       "2    RI  2005-02-17     04:15          NaN             M       White   \n",
       "3    RI  2005-02-20     17:15          NaN             M       White   \n",
       "4    RI  2005-02-24     01:20          NaN             F       White   \n",
       "\n",
       "                    violation_raw  violation  search_conducted search_type  \\\n",
       "0  Equipment/Inspection Violation  Equipment             False         NaN   \n",
       "1                        Speeding   Speeding             False         NaN   \n",
       "2                        Speeding   Speeding             False         NaN   \n",
       "3                Call for Service      Other             False         NaN   \n",
       "4                        Speeding   Speeding             False         NaN   \n",
       "\n",
       "    stop_outcome is_arrested stop_duration  drugs_related_stop district  \n",
       "0       Citation       False      0-15 Min               False  Zone X4  \n",
       "1       Citation       False      0-15 Min               False  Zone K3  \n",
       "2       Citation       False      0-15 Min               False  Zone X4  \n",
       "3  Arrest Driver        True     16-30 Min               False  Zone X1  \n",
       "4       Citation       False      0-15 Min               False  Zone X3  "
      ]
     },
     "execution_count": 3,
     "metadata": {},
     "output_type": "execute_result"
    },
    {
     "data": {
      "text/plain": [
       "state                     0\n",
       "stop_date                 0\n",
       "stop_time                 0\n",
       "county_name           91741\n",
       "driver_gender          5205\n",
       "driver_race            5202\n",
       "violation_raw          5202\n",
       "violation              5202\n",
       "search_conducted          0\n",
       "search_type           88434\n",
       "stop_outcome           5202\n",
       "is_arrested            5202\n",
       "stop_duration          5202\n",
       "drugs_related_stop        0\n",
       "district                  0\n",
       "dtype: int64"
      ]
     },
     "execution_count": 3,
     "metadata": {},
     "output_type": "execute_result"
    }
   ],
   "source": [
    "# Read 'police.csv' into a DataFrame named ri\n",
    "ri = pd.read_csv('police.csv')\n",
    "\n",
    "# Examine the head of the DataFrame\n",
    "ri.head()\n",
    "\n",
    "# Count the number of missing values in each column\n",
    "ri.isnull().sum()"
   ]
  },
  {
   "cell_type": "raw",
   "id": "833a58fe",
   "metadata": {},
   "source": [
    "It looks like most of the columns have at least some missing values. We'll figure out how to handle these values in the next exercise!"
   ]
  },
  {
   "cell_type": "markdown",
   "id": "4b58fb5f",
   "metadata": {},
   "source": [
    "### Dropping columns\n",
    "Often, a DataFrame will contain columns that are not useful to your analysis. Such columns should be dropped from the DataFrame, to make it easier for us to focus on the remaining columns.\n",
    "\n",
    "In this exercise, we'll drop the __county_name__ column because it only contains missing values, and we'll drop the __state__ column because all of the traffic stops took place in one state (Rhode Island). Thus, these columns can be dropped because they contain no useful information."
   ]
  },
  {
   "cell_type": "code",
   "execution_count": 4,
   "id": "74babbee",
   "metadata": {},
   "outputs": [
    {
     "data": {
      "text/plain": [
       "(91741, 15)"
      ]
     },
     "execution_count": 4,
     "metadata": {},
     "output_type": "execute_result"
    },
    {
     "data": {
      "text/plain": [
       "(91741, 13)"
      ]
     },
     "execution_count": 4,
     "metadata": {},
     "output_type": "execute_result"
    }
   ],
   "source": [
    "# Examine the shape of the DataFrame\n",
    "ri.shape\n",
    "\n",
    "# Drop the 'county_name' and 'state' columns\n",
    "ri.drop(['county_name', 'state'], axis='columns', inplace=True)\n",
    "\n",
    "# Examine the shape of the DataFrame (again)\n",
    "ri.shape"
   ]
  },
  {
   "cell_type": "markdown",
   "id": "ed18a596",
   "metadata": {},
   "source": [
    "### Dropping rows\n",
    "When you know that a specific column will be critical to your analysis, and only a small fraction of rows are missing a value in that column, it often makes sense to remove those rows from the dataset.\n",
    "\n",
    "During this project, the __driver_gender__ column will be critical to many of your analyses. Because only a small fraction of rows are missing driver_gender, we'll drop those rows from the dataset."
   ]
  },
  {
   "cell_type": "code",
   "execution_count": 5,
   "id": "fc94ff2a",
   "metadata": {},
   "outputs": [
    {
     "data": {
      "text/plain": [
       "stop_date                 0\n",
       "stop_time                 0\n",
       "driver_gender          5205\n",
       "driver_race            5202\n",
       "violation_raw          5202\n",
       "violation              5202\n",
       "search_conducted          0\n",
       "search_type           88434\n",
       "stop_outcome           5202\n",
       "is_arrested            5202\n",
       "stop_duration          5202\n",
       "drugs_related_stop        0\n",
       "district                  0\n",
       "dtype: int64"
      ]
     },
     "execution_count": 5,
     "metadata": {},
     "output_type": "execute_result"
    }
   ],
   "source": [
    "# Count the number of missing values in each column\n",
    "ri.isnull().sum()"
   ]
  },
  {
   "cell_type": "code",
   "execution_count": 6,
   "id": "477b939b",
   "metadata": {},
   "outputs": [
    {
     "data": {
      "text/plain": [
       "stop_date                 0\n",
       "stop_time                 0\n",
       "driver_gender             0\n",
       "driver_race               0\n",
       "violation_raw             0\n",
       "violation                 0\n",
       "search_conducted          0\n",
       "search_type           83229\n",
       "stop_outcome              0\n",
       "is_arrested               0\n",
       "stop_duration             0\n",
       "drugs_related_stop        0\n",
       "district                  0\n",
       "dtype: int64"
      ]
     },
     "execution_count": 6,
     "metadata": {},
     "output_type": "execute_result"
    },
    {
     "data": {
      "text/plain": [
       "(86536, 13)"
      ]
     },
     "execution_count": 6,
     "metadata": {},
     "output_type": "execute_result"
    }
   ],
   "source": [
    "# Drop all rows that are missing 'driver_gender'\n",
    "ri.dropna(subset=['driver_gender'], inplace=True)\n",
    "\n",
    "# Count the number of missing values in each column (again)\n",
    "ri.isnull().sum()\n",
    "\n",
    "# Examine the shape of the DataFrame\n",
    "ri.shape"
   ]
  },
  {
   "cell_type": "raw",
   "id": "7e6a2710",
   "metadata": {},
   "source": [
    "Excellent! We dropped around 5,000 rows, which is a small fraction of the dataset, and now only one column remains with any missing values."
   ]
  },
  {
   "cell_type": "markdown",
   "id": "f042d57b",
   "metadata": {},
   "source": [
    "### Finding an incorrect data type\n",
    "Our task is to explore the ri DataFrame to determine which column's data type should be changed. Check the dtypes attribute of the ri DataFrame."
   ]
  },
  {
   "cell_type": "code",
   "execution_count": 7,
   "id": "2218c6eb",
   "metadata": {},
   "outputs": [
    {
     "data": {
      "text/plain": [
       "stop_date             object\n",
       "stop_time             object\n",
       "driver_gender         object\n",
       "driver_race           object\n",
       "violation_raw         object\n",
       "violation             object\n",
       "search_conducted        bool\n",
       "search_type           object\n",
       "stop_outcome          object\n",
       "is_arrested           object\n",
       "stop_duration         object\n",
       "drugs_related_stop      bool\n",
       "district              object\n",
       "dtype: object"
      ]
     },
     "execution_count": 7,
     "metadata": {},
     "output_type": "execute_result"
    }
   ],
   "source": [
    "ri.dtypes"
   ]
  },
  {
   "cell_type": "raw",
   "id": "ac7657eb",
   "metadata": {},
   "source": [
    "is_arrested should have a data type of bool. We'll fix the data type of the is_arrested column in the next exercise."
   ]
  },
  {
   "cell_type": "markdown",
   "id": "15b5f7af",
   "metadata": {},
   "source": [
    "### Fixing a data type\n",
    "We saw in the previous exercise that the __is_arrested__ column currently has the object data type. In this exercise, we'll change the data type to bool, which is the most suitable type for a column containing True and False values.\n",
    "\n",
    "Fixing the data type will enable us to use mathematical operations on the is_arrested column that would not be possible otherwise."
   ]
  },
  {
   "cell_type": "code",
   "execution_count": 8,
   "id": "ce65125d",
   "metadata": {},
   "outputs": [
    {
     "data": {
      "text/plain": [
       "0    False\n",
       "1    False\n",
       "2    False\n",
       "3     True\n",
       "4    False\n",
       "Name: is_arrested, dtype: object"
      ]
     },
     "execution_count": 8,
     "metadata": {},
     "output_type": "execute_result"
    },
    {
     "data": {
      "text/plain": [
       "dtype('O')"
      ]
     },
     "execution_count": 8,
     "metadata": {},
     "output_type": "execute_result"
    },
    {
     "data": {
      "text/plain": [
       "dtype('bool')"
      ]
     },
     "execution_count": 8,
     "metadata": {},
     "output_type": "execute_result"
    }
   ],
   "source": [
    "# Examine the head of the 'is_arrested' column\n",
    "ri.is_arrested.head()\n",
    "\n",
    "# Check the data type of 'is_arrested'\n",
    "ri.is_arrested.dtype\n",
    "\n",
    "# Change the data type of 'is_arrested' to 'bool'\n",
    "ri['is_arrested'] = ri.is_arrested.astype('bool')\n",
    "\n",
    "# Check the data type of 'is_arrested' (again)\n",
    "ri.is_arrested.dtype"
   ]
  },
  {
   "cell_type": "raw",
   "id": "c8802874",
   "metadata": {},
   "source": [
    "Great! It's best to fix these data type problems early, before you begin your analysis."
   ]
  },
  {
   "cell_type": "markdown",
   "id": "923925f2",
   "metadata": {},
   "source": [
    "### Combining object columns\n",
    "Currently, the date and time of each traffic stop are stored in separate object columns: __stop_date__ and __stop_time__.\n",
    "\n",
    "In this exercise, we'll combine these two columns into a single column, and then convert it to datetime format. This will enable convenient date-based attributes that we'll use later in the course."
   ]
  },
  {
   "cell_type": "code",
   "execution_count": 9,
   "id": "5bfc1d1b",
   "metadata": {},
   "outputs": [
    {
     "data": {
      "text/html": [
       "<div>\n",
       "<style scoped>\n",
       "    .dataframe tbody tr th:only-of-type {\n",
       "        vertical-align: middle;\n",
       "    }\n",
       "\n",
       "    .dataframe tbody tr th {\n",
       "        vertical-align: top;\n",
       "    }\n",
       "\n",
       "    .dataframe thead th {\n",
       "        text-align: right;\n",
       "    }\n",
       "</style>\n",
       "<table border=\"1\" class=\"dataframe\">\n",
       "  <thead>\n",
       "    <tr style=\"text-align: right;\">\n",
       "      <th></th>\n",
       "      <th>stop_date</th>\n",
       "      <th>stop_time</th>\n",
       "    </tr>\n",
       "  </thead>\n",
       "  <tbody>\n",
       "    <tr>\n",
       "      <th>0</th>\n",
       "      <td>2005-01-04</td>\n",
       "      <td>12:55</td>\n",
       "    </tr>\n",
       "    <tr>\n",
       "      <th>1</th>\n",
       "      <td>2005-01-23</td>\n",
       "      <td>23:15</td>\n",
       "    </tr>\n",
       "    <tr>\n",
       "      <th>2</th>\n",
       "      <td>2005-02-17</td>\n",
       "      <td>04:15</td>\n",
       "    </tr>\n",
       "    <tr>\n",
       "      <th>3</th>\n",
       "      <td>2005-02-20</td>\n",
       "      <td>17:15</td>\n",
       "    </tr>\n",
       "    <tr>\n",
       "      <th>4</th>\n",
       "      <td>2005-02-24</td>\n",
       "      <td>01:20</td>\n",
       "    </tr>\n",
       "  </tbody>\n",
       "</table>\n",
       "</div>"
      ],
      "text/plain": [
       "    stop_date stop_time\n",
       "0  2005-01-04     12:55\n",
       "1  2005-01-23     23:15\n",
       "2  2005-02-17     04:15\n",
       "3  2005-02-20     17:15\n",
       "4  2005-02-24     01:20"
      ]
     },
     "execution_count": 9,
     "metadata": {},
     "output_type": "execute_result"
    }
   ],
   "source": [
    "ri[['stop_date', 'stop_time']].head()"
   ]
  },
  {
   "cell_type": "code",
   "execution_count": 10,
   "id": "9b7e9ef1",
   "metadata": {},
   "outputs": [
    {
     "data": {
      "text/plain": [
       "stop_date                     object\n",
       "stop_time                     object\n",
       "driver_gender                 object\n",
       "driver_race                   object\n",
       "violation_raw                 object\n",
       "violation                     object\n",
       "search_conducted                bool\n",
       "search_type                   object\n",
       "stop_outcome                  object\n",
       "is_arrested                     bool\n",
       "stop_duration                 object\n",
       "drugs_related_stop              bool\n",
       "district                      object\n",
       "stop_datetime         datetime64[ns]\n",
       "dtype: object"
      ]
     },
     "execution_count": 10,
     "metadata": {},
     "output_type": "execute_result"
    }
   ],
   "source": [
    "# Concatenate 'stop_date' and 'stop_time' (separated by a space)\n",
    "combined = ri.stop_date.str.cat(ri.stop_time, sep = ' ')\n",
    "\n",
    "# Convert 'combined' to datetime format\n",
    "ri['stop_datetime'] = pd.to_datetime(combined)\n",
    "\n",
    "# Examine the data types of the DataFrame\n",
    "ri.dtypes"
   ]
  },
  {
   "cell_type": "code",
   "execution_count": 11,
   "id": "6609c467",
   "metadata": {},
   "outputs": [
    {
     "data": {
      "text/html": [
       "<div>\n",
       "<style scoped>\n",
       "    .dataframe tbody tr th:only-of-type {\n",
       "        vertical-align: middle;\n",
       "    }\n",
       "\n",
       "    .dataframe tbody tr th {\n",
       "        vertical-align: top;\n",
       "    }\n",
       "\n",
       "    .dataframe thead th {\n",
       "        text-align: right;\n",
       "    }\n",
       "</style>\n",
       "<table border=\"1\" class=\"dataframe\">\n",
       "  <thead>\n",
       "    <tr style=\"text-align: right;\">\n",
       "      <th></th>\n",
       "      <th>stop_date</th>\n",
       "      <th>stop_time</th>\n",
       "      <th>stop_datetime</th>\n",
       "    </tr>\n",
       "  </thead>\n",
       "  <tbody>\n",
       "    <tr>\n",
       "      <th>0</th>\n",
       "      <td>2005-01-04</td>\n",
       "      <td>12:55</td>\n",
       "      <td>2005-01-04 12:55:00</td>\n",
       "    </tr>\n",
       "    <tr>\n",
       "      <th>1</th>\n",
       "      <td>2005-01-23</td>\n",
       "      <td>23:15</td>\n",
       "      <td>2005-01-23 23:15:00</td>\n",
       "    </tr>\n",
       "    <tr>\n",
       "      <th>2</th>\n",
       "      <td>2005-02-17</td>\n",
       "      <td>04:15</td>\n",
       "      <td>2005-02-17 04:15:00</td>\n",
       "    </tr>\n",
       "    <tr>\n",
       "      <th>3</th>\n",
       "      <td>2005-02-20</td>\n",
       "      <td>17:15</td>\n",
       "      <td>2005-02-20 17:15:00</td>\n",
       "    </tr>\n",
       "    <tr>\n",
       "      <th>4</th>\n",
       "      <td>2005-02-24</td>\n",
       "      <td>01:20</td>\n",
       "      <td>2005-02-24 01:20:00</td>\n",
       "    </tr>\n",
       "  </tbody>\n",
       "</table>\n",
       "</div>"
      ],
      "text/plain": [
       "    stop_date stop_time       stop_datetime\n",
       "0  2005-01-04     12:55 2005-01-04 12:55:00\n",
       "1  2005-01-23     23:15 2005-01-23 23:15:00\n",
       "2  2005-02-17     04:15 2005-02-17 04:15:00\n",
       "3  2005-02-20     17:15 2005-02-20 17:15:00\n",
       "4  2005-02-24     01:20 2005-02-24 01:20:00"
      ]
     },
     "execution_count": 11,
     "metadata": {},
     "output_type": "execute_result"
    }
   ],
   "source": [
    "ri[['stop_date', 'stop_time', 'stop_datetime']].head()"
   ]
  },
  {
   "cell_type": "raw",
   "id": "318ab064",
   "metadata": {},
   "source": [
    "Excellent! Now we're ready to set the stop_datetime column as the index."
   ]
  },
  {
   "cell_type": "markdown",
   "id": "c3b87df2",
   "metadata": {},
   "source": [
    "### Setting the index\n",
    "The last step that we'll take in this part 1  is to set the `stop_datetime` column as the DataFrame's index. By replacing the default index with a DatetimeIndex, we'll make it easier to analyze the dataset by date and time, which will come in handy later in the project!"
   ]
  },
  {
   "cell_type": "code",
   "execution_count": 12,
   "id": "37271d93",
   "metadata": {},
   "outputs": [
    {
     "data": {
      "text/plain": [
       "DatetimeIndex(['2005-01-04 12:55:00', '2005-01-23 23:15:00',\n",
       "               '2005-02-17 04:15:00', '2005-02-20 17:15:00',\n",
       "               '2005-02-24 01:20:00', '2005-03-14 10:00:00',\n",
       "               '2005-03-29 21:55:00', '2005-04-04 21:25:00',\n",
       "               '2005-07-14 11:20:00', '2005-07-14 19:55:00',\n",
       "               ...\n",
       "               '2015-12-31 13:23:00', '2015-12-31 18:59:00',\n",
       "               '2015-12-31 19:13:00', '2015-12-31 20:20:00',\n",
       "               '2015-12-31 20:50:00', '2015-12-31 21:21:00',\n",
       "               '2015-12-31 21:59:00', '2015-12-31 22:04:00',\n",
       "               '2015-12-31 22:09:00', '2015-12-31 22:47:00'],\n",
       "              dtype='datetime64[ns]', name='stop_datetime', length=86536, freq=None)"
      ]
     },
     "execution_count": 12,
     "metadata": {},
     "output_type": "execute_result"
    },
    {
     "data": {
      "text/plain": [
       "Index(['stop_date', 'stop_time', 'driver_gender', 'driver_race',\n",
       "       'violation_raw', 'violation', 'search_conducted', 'search_type',\n",
       "       'stop_outcome', 'is_arrested', 'stop_duration', 'drugs_related_stop',\n",
       "       'district'],\n",
       "      dtype='object')"
      ]
     },
     "execution_count": 12,
     "metadata": {},
     "output_type": "execute_result"
    }
   ],
   "source": [
    "# Set 'stop_datetime' as the index\n",
    "ri.set_index('stop_datetime', inplace=True)\n",
    "\n",
    "# Examine the index\n",
    "ri.index\n",
    "\n",
    "# Examine the columns\n",
    "ri.columns"
   ]
  },
  {
   "cell_type": "markdown",
   "id": "c29112dc",
   "metadata": {},
   "source": [
    "#### Congratulations! Now that we have cleaned the dataset, we can begin analyzing it in the next Part"
   ]
  },
  {
   "cell_type": "markdown",
   "id": "5ff46e54",
   "metadata": {},
   "source": [
    "---"
   ]
  },
  {
   "cell_type": "markdown",
   "id": "d2352ef7",
   "metadata": {},
   "source": [
    "# Part 2 - Exploring the relationship between gender and policing"
   ]
  },
  {
   "cell_type": "markdown",
   "id": "141a8d26",
   "metadata": {},
   "source": [
    "## Does the gender of a driver have an impact on police behavior during a traffic stop? In this Part, we will explore that question while practicing filtering, grouping, method chaining, Boolean math, string methods, and more!"
   ]
  },
  {
   "cell_type": "markdown",
   "id": "b279f2b0",
   "metadata": {},
   "source": [
    "### Examining traffic violations\n",
    "Before comparing the violations being committed by each gender, we should examine the violations committed by all drivers to get a baseline understanding of the data.\n",
    "\n",
    "In this exercise, we'll count the unique values in the `violation` column, and then separately express those counts as proportions"
   ]
  },
  {
   "cell_type": "code",
   "execution_count": 13,
   "id": "8c2ba0f3",
   "metadata": {},
   "outputs": [
    {
     "data": {
      "text/plain": [
       "Speeding               48423\n",
       "Moving violation       16224\n",
       "Equipment              10921\n",
       "Other                   4409\n",
       "Registration/plates     3703\n",
       "Seat belt               2856\n",
       "Name: violation, dtype: int64"
      ]
     },
     "execution_count": 13,
     "metadata": {},
     "output_type": "execute_result"
    },
    {
     "data": {
      "text/plain": [
       "Speeding               0.559571\n",
       "Moving violation       0.187483\n",
       "Equipment              0.126202\n",
       "Other                  0.050950\n",
       "Registration/plates    0.042791\n",
       "Seat belt              0.033004\n",
       "Name: violation, dtype: float64"
      ]
     },
     "execution_count": 13,
     "metadata": {},
     "output_type": "execute_result"
    }
   ],
   "source": [
    "# Count the unique values in 'violation'\n",
    "ri.violation.value_counts()\n",
    "\n",
    "# Express the counts as proportions\n",
    "ri.violation.value_counts(normalize = True)"
   ]
  },
  {
   "cell_type": "raw",
   "id": "cadf4baa",
   "metadata": {},
   "source": [
    "Interesting! More than half of all violations are for speeding, followed by other moving violations and equipment violations."
   ]
  },
  {
   "cell_type": "markdown",
   "id": "87f3f21e",
   "metadata": {},
   "source": [
    "### Comparing violations by gender\n",
    "The question we're trying to answer is whether male and female drivers tend to commit different types of traffic violations.\n",
    "\n",
    "In this exercise, we'll first create a DataFrame for each gender, and then analyze the violations in each DataFrame separately.\n",
    "\n"
   ]
  },
  {
   "cell_type": "code",
   "execution_count": 14,
   "id": "2da2f1b9",
   "metadata": {},
   "outputs": [
    {
     "data": {
      "text/plain": [
       "Speeding               0.658114\n",
       "Moving violation       0.138218\n",
       "Equipment              0.105199\n",
       "Registration/plates    0.044418\n",
       "Other                  0.029738\n",
       "Seat belt              0.024312\n",
       "Name: violation, dtype: float64"
      ]
     },
     "execution_count": 14,
     "metadata": {},
     "output_type": "execute_result"
    },
    {
     "data": {
      "text/plain": [
       "Speeding               0.522243\n",
       "Moving violation       0.206144\n",
       "Equipment              0.134158\n",
       "Other                  0.058985\n",
       "Registration/plates    0.042175\n",
       "Seat belt              0.036296\n",
       "Name: violation, dtype: float64"
      ]
     },
     "execution_count": 14,
     "metadata": {},
     "output_type": "execute_result"
    }
   ],
   "source": [
    "# Create a DataFrame of female drivers\n",
    "female = ri[ri['driver_gender'] == 'F']\n",
    "\n",
    "# Create a DataFrame of male drivers\n",
    "male = ri[ri['driver_gender'] == 'M']\n",
    "\n",
    "# Compute the violations by female drivers (as proportions)\n",
    "female.violation.value_counts(normalize = True)\n",
    "\n",
    "# Compute the violations by male drivers (as proportions)\n",
    "male.violation.value_counts(normalize = True)"
   ]
  },
  {
   "cell_type": "markdown",
   "id": "64252cbb",
   "metadata": {},
   "source": [
    "<b>About two-thirds of female traffic stops are for speeding, whereas stops of males are more balanced among the six categories. This doesn't mean that females speed more often than males, however, since we didn't take into account the number of stops or drivers.</b>"
   ]
  },
  {
   "cell_type": "markdown",
   "id": "4722f4a1",
   "metadata": {},
   "source": [
    "## Does gender affect who gets a ticket for speeding?\n"
   ]
  },
  {
   "cell_type": "markdown",
   "id": "dc3d5c93",
   "metadata": {},
   "source": [
    "### Comparing speeding outcomes by gender\n",
    "When a driver is pulled over for speeding, many people believe that gender has an impact on whether the driver will receive a ticket or a warning. Can you find evidence of this in the dataset?\n",
    "\n",
    "First, we'll create two DataFrames of drivers who were stopped for speeding: one containing females and the other containing males.\n",
    "\n",
    "Then, for each gender, we'll use the `stop_outcome` column to calculate what percentage of stops resulted in a \"Citation\" (meaning a ticket) versus a \"Warning\"."
   ]
  },
  {
   "cell_type": "code",
   "execution_count": 15,
   "id": "572870bf",
   "metadata": {},
   "outputs": [
    {
     "data": {
      "text/plain": [
       "Citation            0.952192\n",
       "Warning             0.040074\n",
       "Arrest Driver       0.005752\n",
       "N/D                 0.000959\n",
       "Arrest Passenger    0.000639\n",
       "No Action           0.000383\n",
       "Name: stop_outcome, dtype: float64"
      ]
     },
     "execution_count": 15,
     "metadata": {},
     "output_type": "execute_result"
    },
    {
     "data": {
      "text/plain": [
       "Citation            0.944595\n",
       "Warning             0.036184\n",
       "Arrest Driver       0.015895\n",
       "Arrest Passenger    0.001281\n",
       "No Action           0.001068\n",
       "N/D                 0.000976\n",
       "Name: stop_outcome, dtype: float64"
      ]
     },
     "execution_count": 15,
     "metadata": {},
     "output_type": "execute_result"
    }
   ],
   "source": [
    "# Create a DataFrame of female drivers stopped for speeding\n",
    "female_and_speeding = ri[(ri['driver_gender'] == 'F') & (ri['violation'] == 'Speeding')]\n",
    "\n",
    "# Create a DataFrame of male drivers stopped for speeding\n",
    "male_and_speeding = ri[(ri['driver_gender'] == 'M') & (ri['violation'] == 'Speeding')]\n",
    "\n",
    "# Compute the stop outcomes for female drivers (as proportions)\n",
    "female_and_speeding.stop_outcome.value_counts(normalize = True)\n",
    "\n",
    "# Compute the stop outcomes for male drivers (as proportions)\n",
    "male_and_speeding.stop_outcome.value_counts(normalize = True)"
   ]
  },
  {
   "cell_type": "markdown",
   "id": "022a2ac6",
   "metadata": {},
   "source": [
    "<b>Interesting! The numbers are similar for males and females: about 95% of stops for speeding result in a ticket(citation). Thus, the data fails to show that gender has an impact on who gets a ticket for speeding.</b>"
   ]
  },
  {
   "cell_type": "markdown",
   "id": "3a7999a9",
   "metadata": {},
   "source": [
    "## Does gender affect whose vehicle is searched?\n"
   ]
  },
  {
   "cell_type": "markdown",
   "id": "164d41b8",
   "metadata": {},
   "source": [
    "### Calculating the search rate\n",
    "During a traffic stop, the police officer sometimes conducts a search of the vehicle. In this exercise, we'll calculate the percentage of all stops that result in a vehicle search, also known as the search rate."
   ]
  },
  {
   "cell_type": "code",
   "execution_count": 16,
   "id": "cd656e78",
   "metadata": {},
   "outputs": [
    {
     "data": {
      "text/plain": [
       "dtype('bool')"
      ]
     },
     "execution_count": 16,
     "metadata": {},
     "output_type": "execute_result"
    },
    {
     "data": {
      "text/plain": [
       "False    0.961785\n",
       "True     0.038215\n",
       "Name: search_conducted, dtype: float64"
      ]
     },
     "execution_count": 16,
     "metadata": {},
     "output_type": "execute_result"
    },
    {
     "data": {
      "text/plain": [
       "0.0382153092354627"
      ]
     },
     "execution_count": 16,
     "metadata": {},
     "output_type": "execute_result"
    }
   ],
   "source": [
    "# Check the data type of 'search_conducted'\n",
    "ri.search_conducted.dtype\n",
    "\n",
    "# Calculate the search rate by counting the values\n",
    "ri.search_conducted.value_counts(normalize = True)\n",
    "\n",
    "# Calculate the search rate by taking the mean of the Series. (It should match the proportion of True values calculated above.)\n",
    "ri.search_conducted.mean()"
   ]
  },
  {
   "cell_type": "raw",
   "id": "65ec0949",
   "metadata": {},
   "source": [
    "Great! It looks like the search rate is about 3.8%. Next, we'll examine whether the search rate varies by driver gender."
   ]
  },
  {
   "cell_type": "markdown",
   "id": "512c5a0d",
   "metadata": {},
   "source": [
    "### Comparing search rates by gender\n",
    "In this exercise, we'll compare the rates at which female and male drivers are searched during a traffic stop. Remember that the vehicle search rate across all stops is about 3.8%.\n",
    "\n",
    "First, we'll filter the DataFrame by gender and calculate the search rate for each group separately. Then, we'll perform the same calculation for both genders at once using a .groupby()"
   ]
  },
  {
   "cell_type": "code",
   "execution_count": 17,
   "id": "eba7b050",
   "metadata": {},
   "outputs": [
    {
     "data": {
      "text/plain": [
       "0.019180617481282074"
      ]
     },
     "execution_count": 17,
     "metadata": {},
     "output_type": "execute_result"
    },
    {
     "data": {
      "text/plain": [
       "0.04542557598546892"
      ]
     },
     "execution_count": 17,
     "metadata": {},
     "output_type": "execute_result"
    },
    {
     "data": {
      "text/plain": [
       "driver_gender\n",
       "F    0.019181\n",
       "M    0.045426\n",
       "Name: search_conducted, dtype: float64"
      ]
     },
     "execution_count": 17,
     "metadata": {},
     "output_type": "execute_result"
    }
   ],
   "source": [
    "# Calculate the search rate for female drivers\n",
    "ri[ri['driver_gender'] == 'F'].search_conducted.mean()\n",
    "\n",
    "# Calculate the search rate for male drivers\n",
    "ri[ri['driver_gender'] == 'M'].search_conducted.mean()\n",
    "\n",
    "# Calculate the search rate for both groups simultaneously\n",
    "ri.groupby('driver_gender').search_conducted.mean()"
   ]
  },
  {
   "cell_type": "markdown",
   "id": "071d8658",
   "metadata": {},
   "source": [
    "<b>Wow! Male drivers are searched more than twice as often as female drivers. Why might this be?"
   ]
  },
  {
   "cell_type": "markdown",
   "id": "29c7936a",
   "metadata": {},
   "source": [
    "### Adding a second factor to the analysis\n",
    "Even though the search rate for males is much higher than for females, it's possible that the difference is mostly due to a second factor.\n",
    "\n",
    "For example, we might hypothesize that the search rate varies by violation type, and the difference in search rate between males and females is because they tend to commit different violations.\n",
    "\n",
    "We can test this hypothesis by examining the search rate for each combination of gender and violation. If the hypothesis was true, we would find that males and females are searched at about the same rate for each violation. Find out below if that's the case!"
   ]
  },
  {
   "cell_type": "code",
   "execution_count": 18,
   "id": "a76332ab",
   "metadata": {},
   "outputs": [
    {
     "name": "stdout",
     "output_type": "stream",
     "text": [
      "driver_gender  violation          \n",
      "F              Equipment              0.039984\n",
      "               Moving violation       0.039257\n",
      "               Other                  0.041018\n",
      "               Registration/plates    0.054924\n",
      "               Seat belt              0.017301\n",
      "               Speeding               0.008309\n",
      "M              Equipment              0.071496\n",
      "               Moving violation       0.061524\n",
      "               Other                  0.046191\n",
      "               Registration/plates    0.108802\n",
      "               Seat belt              0.035119\n",
      "               Speeding               0.027885\n",
      "Name: search_conducted, dtype: float64\n",
      "violation            driver_gender\n",
      "Equipment            F                0.039984\n",
      "                     M                0.071496\n",
      "Moving violation     F                0.039257\n",
      "                     M                0.061524\n",
      "Other                F                0.041018\n",
      "                     M                0.046191\n",
      "Registration/plates  F                0.054924\n",
      "                     M                0.108802\n",
      "Seat belt            F                0.017301\n",
      "                     M                0.035119\n",
      "Speeding             F                0.008309\n",
      "                     M                0.027885\n",
      "Name: search_conducted, dtype: float64\n"
     ]
    }
   ],
   "source": [
    "# Calculate the search rate for each combination of gender and violation\n",
    "print(ri.groupby(['driver_gender', 'violation']).search_conducted.mean())\n",
    "\n",
    "# Reverse the ordering to group by violation before gender\n",
    "print(ri.groupby(['violation', 'driver_gender']).search_conducted.mean())"
   ]
  },
  {
   "cell_type": "markdown",
   "id": "102130c5",
   "metadata": {},
   "source": [
    "<b>Great work! For all types of violations, the search rate is higher for males than for females, disproving our hypothesis.</b>"
   ]
  },
  {
   "cell_type": "markdown",
   "id": "77f3aded",
   "metadata": {},
   "source": [
    "## Does gender affect who is frisked during a search?\n"
   ]
  },
  {
   "cell_type": "markdown",
   "id": "c21e0da8",
   "metadata": {},
   "source": [
    "### Counting protective frisks\n",
    "During a vehicle search, the police officer may pat down the driver to check if they have a weapon. This is known as a `\"protective frisk.\"`\n",
    "\n",
    "In this exercise, we'll first check to see how many times \"Protective Frisk\" was the only search type. Then, we'll use a string method to locate all instances in which the driver was frisked.\n",
    "\n"
   ]
  },
  {
   "cell_type": "code",
   "execution_count": 19,
   "id": "497ce94d",
   "metadata": {},
   "outputs": [
    {
     "data": {
      "text/plain": [
       "Incident to Arrest                                          1290\n",
       "Probable Cause                                               924\n",
       "Inventory                                                    219\n",
       "Reasonable Suspicion                                         214\n",
       "Protective Frisk                                             164\n",
       "Incident to Arrest,Inventory                                 123\n",
       "Incident to Arrest,Probable Cause                            100\n",
       "Probable Cause,Reasonable Suspicion                           54\n",
       "Incident to Arrest,Inventory,Probable Cause                   35\n",
       "Probable Cause,Protective Frisk                               35\n",
       "Incident to Arrest,Protective Frisk                           33\n",
       "Inventory,Probable Cause                                      25\n",
       "Protective Frisk,Reasonable Suspicion                         19\n",
       "Incident to Arrest,Inventory,Protective Frisk                 18\n",
       "Incident to Arrest,Probable Cause,Protective Frisk            13\n",
       "Inventory,Protective Frisk                                    12\n",
       "Incident to Arrest,Reasonable Suspicion                        8\n",
       "Probable Cause,Protective Frisk,Reasonable Suspicion           5\n",
       "Incident to Arrest,Probable Cause,Reasonable Suspicion         5\n",
       "Incident to Arrest,Inventory,Reasonable Suspicion              4\n",
       "Incident to Arrest,Protective Frisk,Reasonable Suspicion       2\n",
       "Inventory,Reasonable Suspicion                                 2\n",
       "Inventory,Protective Frisk,Reasonable Suspicion                1\n",
       "Inventory,Probable Cause,Reasonable Suspicion                  1\n",
       "Inventory,Probable Cause,Protective Frisk                      1\n",
       "Name: search_type, dtype: int64"
      ]
     },
     "execution_count": 19,
     "metadata": {},
     "output_type": "execute_result"
    },
    {
     "data": {
      "text/plain": [
       "dtype('bool')"
      ]
     },
     "execution_count": 19,
     "metadata": {},
     "output_type": "execute_result"
    },
    {
     "data": {
      "text/plain": [
       "303"
      ]
     },
     "execution_count": 19,
     "metadata": {},
     "output_type": "execute_result"
    }
   ],
   "source": [
    "# Count the 'search_type' values\n",
    "ri.search_type.value_counts()\n",
    "\n",
    "# Check if 'search_type' contains the string 'Protective Frisk'\n",
    "ri['frisk'] = ri.search_type.str.contains('Protective Frisk', na=False)\n",
    "\n",
    "# Check the data type of 'frisk'\n",
    "ri.frisk.dtypes\n",
    "\n",
    "# Take the sum of 'frisk'\n",
    "ri.frisk.sum()"
   ]
  },
  {
   "cell_type": "markdown",
   "id": "998e589a",
   "metadata": {},
   "source": [
    "<b>Nice job! It looks like there were 303 drivers who were frisked. Next, we'll examine whether gender affects who is frisked.</b>"
   ]
  },
  {
   "cell_type": "markdown",
   "id": "c1ed6b9a",
   "metadata": {},
   "source": [
    "### Comparing frisk rates by gender\n",
    "In this exercise, we'll compare the rates at which female and male drivers are frisked during a search. Are males frisked more often than females, perhaps because police officers consider them to be higher risk?\n",
    "\n",
    "Before doing any calculations, it's important to filter the DataFrame to only include the relevant subset of data, namely stops in which a search was conducted."
   ]
  },
  {
   "cell_type": "code",
   "execution_count": 20,
   "id": "a2a644ba",
   "metadata": {},
   "outputs": [
    {
     "data": {
      "text/plain": [
       "0.09162382824312065"
      ]
     },
     "execution_count": 20,
     "metadata": {},
     "output_type": "execute_result"
    },
    {
     "data": {
      "text/plain": [
       "driver_gender\n",
       "F    0.074561\n",
       "M    0.094353\n",
       "Name: frisk, dtype: float64"
      ]
     },
     "execution_count": 20,
     "metadata": {},
     "output_type": "execute_result"
    }
   ],
   "source": [
    "# Create a DataFrame of stops in which a search was conducted\n",
    "searched = ri[ri['search_conducted'] == True]\n",
    "\n",
    "# Calculate the overall frisk rate by taking the mean of 'frisk'\n",
    "searched.frisk.mean()\n",
    "\n",
    "# Calculate the frisk rate for each gender\n",
    "searched.groupby('driver_gender').frisk.mean()"
   ]
  },
  {
   "cell_type": "markdown",
   "id": "c23b71eb",
   "metadata": {},
   "source": [
    "#### Interesting! The frisk rate is higher for males than for females, though we can't conclude that this difference is caused by the driver's gender."
   ]
  },
  {
   "cell_type": "markdown",
   "id": "bd73d62a",
   "metadata": {},
   "source": [
    "---"
   ]
  },
  {
   "cell_type": "markdown",
   "id": "0e7bde01",
   "metadata": {},
   "source": [
    "# Part 3 - Visual exploratory data analysis\n"
   ]
  },
  {
   "cell_type": "markdown",
   "id": "a3c26480",
   "metadata": {},
   "source": [
    "## Are you more likely to get arrested at a certain time of day? Are drug-related stops on the rise? In this Part, we will answer these and other questions by analyzing the dataset visually, since plots can help us to understand trends in a way that examining the raw data cannot."
   ]
  },
  {
   "cell_type": "markdown",
   "id": "2212fe26",
   "metadata": {},
   "source": [
    "## Does time of day affect arrest rate ?"
   ]
  },
  {
   "cell_type": "markdown",
   "id": "39c73b63",
   "metadata": {},
   "source": [
    "### Calculating the hourly arrest rate\n",
    "When a police officer stops a driver, a small percentage of those stops ends in an arrest. This is known as the arrest rate. In this exercise, we'll find out whether the arrest rate varies by time of day.\n",
    "\n",
    "First, we'll calculate the arrest rate across all stops. Then, we'll calculate the hourly arrest rate by using the hour attribute of the index. The hour ranges from 0 to 23, in which:\n",
    "\n",
    "- 0 = midnight\n",
    "- 12 = noon\n",
    "- 23 = 11 PM\n"
   ]
  },
  {
   "cell_type": "code",
   "execution_count": 21,
   "id": "24aae194",
   "metadata": {},
   "outputs": [
    {
     "data": {
      "text/plain": [
       "DatetimeIndex(['2005-01-04 12:55:00', '2005-01-23 23:15:00',\n",
       "               '2005-02-17 04:15:00', '2005-02-20 17:15:00',\n",
       "               '2005-02-24 01:20:00', '2005-03-14 10:00:00',\n",
       "               '2005-03-29 21:55:00', '2005-04-04 21:25:00',\n",
       "               '2005-07-14 11:20:00', '2005-07-14 19:55:00',\n",
       "               ...\n",
       "               '2015-12-31 13:23:00', '2015-12-31 18:59:00',\n",
       "               '2015-12-31 19:13:00', '2015-12-31 20:20:00',\n",
       "               '2015-12-31 20:50:00', '2015-12-31 21:21:00',\n",
       "               '2015-12-31 21:59:00', '2015-12-31 22:04:00',\n",
       "               '2015-12-31 22:09:00', '2015-12-31 22:47:00'],\n",
       "              dtype='datetime64[ns]', name='stop_datetime', length=86536, freq=None)"
      ]
     },
     "execution_count": 21,
     "metadata": {},
     "output_type": "execute_result"
    }
   ],
   "source": [
    "ri.index"
   ]
  },
  {
   "cell_type": "code",
   "execution_count": 22,
   "id": "becee1ae",
   "metadata": {},
   "outputs": [
    {
     "data": {
      "text/plain": [
       "Int64Index([12, 23,  4, 17,  1, 10, 21, 21, 11, 19,\n",
       "            ...\n",
       "            13, 18, 19, 20, 20, 21, 21, 22, 22, 22],\n",
       "           dtype='int64', name='stop_datetime', length=86536)"
      ]
     },
     "execution_count": 22,
     "metadata": {},
     "output_type": "execute_result"
    }
   ],
   "source": [
    "ri.index.hour"
   ]
  },
  {
   "cell_type": "code",
   "execution_count": 23,
   "id": "505f3c3d",
   "metadata": {},
   "outputs": [
    {
     "data": {
      "text/plain": [
       "0.0355690117407784"
      ]
     },
     "execution_count": 23,
     "metadata": {},
     "output_type": "execute_result"
    },
    {
     "data": {
      "text/plain": [
       "stop_datetime\n",
       "0     0.051431\n",
       "1     0.064932\n",
       "2     0.060798\n",
       "3     0.060549\n",
       "4     0.048000\n",
       "5     0.042781\n",
       "6     0.013813\n",
       "7     0.013032\n",
       "8     0.021854\n",
       "9     0.025206\n",
       "10    0.028213\n",
       "11    0.028897\n",
       "12    0.037399\n",
       "13    0.030776\n",
       "14    0.030605\n",
       "15    0.030679\n",
       "16    0.035281\n",
       "17    0.040619\n",
       "18    0.038204\n",
       "19    0.032245\n",
       "20    0.038107\n",
       "21    0.064541\n",
       "22    0.048666\n",
       "23    0.047592\n",
       "Name: is_arrested, dtype: float64"
      ]
     },
     "execution_count": 23,
     "metadata": {},
     "output_type": "execute_result"
    }
   ],
   "source": [
    "# Calculate the overall arrest rate\n",
    "ri.is_arrested.mean()\n",
    "\n",
    "# Calculate the hourly arrest rate\n",
    "ri.groupby(ri.index.hour).is_arrested.mean()\n",
    "\n",
    "# Save the hourly arrest rate\n",
    "hourly_arrest_rate = ri.groupby(ri.index.hour).is_arrested.mean()"
   ]
  },
  {
   "cell_type": "raw",
   "id": "6bf90e05",
   "metadata": {},
   "source": [
    "Great work! Next we'll plot the data so that we can visually examine the arrest rate trends."
   ]
  },
  {
   "cell_type": "markdown",
   "id": "edeb9a37",
   "metadata": {},
   "source": [
    "### Plotting the hourly arrest rate\n",
    "In this exercise, we'll create a line plot from the hourly_arrest_rate object. A line plot is appropriate in this case because we're showing how a quantity changes over time.\n",
    "\n",
    "This plot should help us to spot some trends that may not have been obvious when examining the raw numbers!"
   ]
  },
  {
   "cell_type": "code",
   "execution_count": 24,
   "id": "eb16ebfd",
   "metadata": {},
   "outputs": [
    {
     "data": {
      "text/plain": [
       "<AxesSubplot:xlabel='stop_datetime'>"
      ]
     },
     "execution_count": 24,
     "metadata": {},
     "output_type": "execute_result"
    },
    {
     "data": {
      "text/plain": [
       "Text(0.5, 0, 'Hour')"
      ]
     },
     "execution_count": 24,
     "metadata": {},
     "output_type": "execute_result"
    },
    {
     "data": {
      "text/plain": [
       "Text(0, 0.5, 'Arrest Rate')"
      ]
     },
     "execution_count": 24,
     "metadata": {},
     "output_type": "execute_result"
    },
    {
     "data": {
      "text/plain": [
       "Text(0.5, 1.0, 'Arrest Rate by Time of Day')"
      ]
     },
     "execution_count": 24,
     "metadata": {},
     "output_type": "execute_result"
    },
    {
     "data": {
      "image/png": "[encoded data removed]",
      "text/plain": [
       "<Figure size 432x288 with 1 Axes>"
      ]
     },
     "metadata": {
      "needs_background": "light"
     },
     "output_type": "display_data"
    }
   ],
   "source": [
    "# Create a line plot of 'hourly_arrest_rate'\n",
    "hourly_arrest_rate.plot()\n",
    "\n",
    "# Add the xlabel, ylabel, and title\n",
    "plt.xlabel('Hour')\n",
    "plt.ylabel('Arrest Rate')\n",
    "plt.title('Arrest Rate by Time of Day')"
   ]
  },
  {
   "cell_type": "markdown",
   "id": "c7e3e0d5",
   "metadata": {},
   "source": [
    "<b>Wow! The arrest rate has a significant spike overnight, and then dips in the early morning hours."
   ]
  },
  {
   "cell_type": "markdown",
   "id": "d10be26a",
   "metadata": {},
   "source": [
    "## Are drug-related stops on the rise?"
   ]
  },
  {
   "cell_type": "markdown",
   "id": "3e8ca97b",
   "metadata": {},
   "source": [
    "### Plotting drug-related stops\n",
    "In a small portion of traffic stops, drugs are found in the vehicle during a search. In this exercise, we'll assess whether these drug-related stops are becoming more common over time.\n",
    "\n",
    "The Boolean column `drugs_related_stop` indicates whether drugs were found during a given stop. We'll calculate the annual drug rate by resampling this column, and then we'll use a line plot to visualize how the rate has changed over time."
   ]
  },
  {
   "cell_type": "code",
   "execution_count": 25,
   "id": "ca06d880",
   "metadata": {},
   "outputs": [
    {
     "data": {
      "text/plain": [
       "stop_datetime\n",
       "2005-12-31    0.006501\n",
       "2006-12-31    0.007258\n",
       "2007-12-31    0.007970\n",
       "2008-12-31    0.007505\n",
       "2009-12-31    0.009889\n",
       "2010-12-31    0.010081\n",
       "2011-12-31    0.009731\n",
       "2012-12-31    0.009921\n",
       "2013-12-31    0.013094\n",
       "2014-12-31    0.013826\n",
       "2015-12-31    0.012266\n",
       "Freq: A-DEC, Name: drugs_related_stop, dtype: float64"
      ]
     },
     "execution_count": 25,
     "metadata": {},
     "output_type": "execute_result"
    },
    {
     "data": {
      "text/plain": [
       "<AxesSubplot:xlabel='stop_datetime'>"
      ]
     },
     "execution_count": 25,
     "metadata": {},
     "output_type": "execute_result"
    },
    {
     "data": {
      "image/png": "[encoded data removed]",
      "text/plain": [
       "<Figure size 432x288 with 1 Axes>"
      ]
     },
     "metadata": {
      "needs_background": "light"
     },
     "output_type": "display_data"
    }
   ],
   "source": [
    "# Calculate the annual rate of drug-related stops\n",
    "ri.drugs_related_stop.resample('A').mean()\n",
    "\n",
    "# Save the annual rate of drug-related stops\n",
    "annual_drug_rate = ri.drugs_related_stop.resample('A').mean()\n",
    "\n",
    "# Create a line plot of 'annual_drug_rate'\n",
    "annual_drug_rate.plot()"
   ]
  },
  {
   "cell_type": "markdown",
   "id": "a66a6efd",
   "metadata": {},
   "source": [
    "<b>Interesting! The rate of drug-related stops nearly doubled over the course of 10 years. Why might that be the case?</b>"
   ]
  },
  {
   "cell_type": "markdown",
   "id": "5836f200",
   "metadata": {},
   "source": [
    "## Comparing drug and search rates\n",
    "As we saw in the last exercise, the rate of drug-related stops increased significantly between 2005 and 2015. We might hypothesize that the rate of vehicle searches was also increasing, which would have led to an increase in drug-related stops even if more drivers were not carrying drugs.\n",
    "\n",
    "We can test this hypothesis by calculating the annual search rate, and then plotting it against the annual drug rate. If the hypothesis is true, then we'll see both rates increasing over time."
   ]
  },
  {
   "cell_type": "code",
   "execution_count": 26,
   "id": "3dd88a74",
   "metadata": {},
   "outputs": [
    {
     "data": {
      "text/plain": [
       "array([<AxesSubplot:xlabel='stop_datetime'>,\n",
       "       <AxesSubplot:xlabel='stop_datetime'>], dtype=object)"
      ]
     },
     "execution_count": 26,
     "metadata": {},
     "output_type": "execute_result"
    },
    {
     "data": {
      "image/png": "[encoded data removed]",
      "text/plain": [
       "<Figure size 432x288 with 2 Axes>"
      ]
     },
     "metadata": {
      "needs_background": "light"
     },
     "output_type": "display_data"
    }
   ],
   "source": [
    "# Calculate and save the annual search rate\n",
    "annual_search_rate = ri.search_conducted.resample('A').mean()\n",
    "\n",
    "# Concatenate 'annual_drug_rate' and 'annual_search_rate'\n",
    "annual = pd.concat([annual_drug_rate, annual_search_rate], axis='columns')\n",
    "\n",
    "# Create subplots from 'annual'\n",
    "annual.plot(subplots = True)"
   ]
  },
  {
   "cell_type": "markdown",
   "id": "ca50c695",
   "metadata": {},
   "source": [
    "<b>Wow! The rate of drug-related stops increased even though the search rate decreased, disproving our hypothesis.</b>"
   ]
  },
  {
   "cell_type": "markdown",
   "id": "8c8ddaf5",
   "metadata": {},
   "source": [
    "## What violations are caught in each district?\n"
   ]
  },
  {
   "cell_type": "markdown",
   "id": "388f7323",
   "metadata": {},
   "source": [
    "### Tallying violations by district\n",
    "The state of Rhode Island is broken into six police districts, also known as zones. How do the zones compare in terms of what violations are caught by police?\n",
    "\n",
    "In this exercise, we'll create a frequency table to determine how many violations of each type took place in each of the six zones. Then, we'll filter the table to focus on the \"K\" zones, which we'll examine further in the next exercise."
   ]
  },
  {
   "cell_type": "code",
   "execution_count": 27,
   "id": "5c1fbb27",
   "metadata": {},
   "outputs": [
    {
     "data": {
      "text/html": [
       "<div>\n",
       "<style scoped>\n",
       "    .dataframe tbody tr th:only-of-type {\n",
       "        vertical-align: middle;\n",
       "    }\n",
       "\n",
       "    .dataframe tbody tr th {\n",
       "        vertical-align: top;\n",
       "    }\n",
       "\n",
       "    .dataframe thead th {\n",
       "        text-align: right;\n",
       "    }\n",
       "</style>\n",
       "<table border=\"1\" class=\"dataframe\">\n",
       "  <thead>\n",
       "    <tr style=\"text-align: right;\">\n",
       "      <th>violation</th>\n",
       "      <th>Equipment</th>\n",
       "      <th>Moving violation</th>\n",
       "      <th>Other</th>\n",
       "      <th>Registration/plates</th>\n",
       "      <th>Seat belt</th>\n",
       "      <th>Speeding</th>\n",
       "    </tr>\n",
       "    <tr>\n",
       "      <th>district</th>\n",
       "      <th></th>\n",
       "      <th></th>\n",
       "      <th></th>\n",
       "      <th></th>\n",
       "      <th></th>\n",
       "      <th></th>\n",
       "    </tr>\n",
       "  </thead>\n",
       "  <tbody>\n",
       "    <tr>\n",
       "      <th>Zone K1</th>\n",
       "      <td>672</td>\n",
       "      <td>1254</td>\n",
       "      <td>290</td>\n",
       "      <td>120</td>\n",
       "      <td>0</td>\n",
       "      <td>5960</td>\n",
       "    </tr>\n",
       "    <tr>\n",
       "      <th>Zone K2</th>\n",
       "      <td>2061</td>\n",
       "      <td>2962</td>\n",
       "      <td>942</td>\n",
       "      <td>768</td>\n",
       "      <td>481</td>\n",
       "      <td>10448</td>\n",
       "    </tr>\n",
       "    <tr>\n",
       "      <th>Zone K3</th>\n",
       "      <td>2302</td>\n",
       "      <td>2898</td>\n",
       "      <td>705</td>\n",
       "      <td>695</td>\n",
       "      <td>638</td>\n",
       "      <td>12322</td>\n",
       "    </tr>\n",
       "    <tr>\n",
       "      <th>Zone X1</th>\n",
       "      <td>296</td>\n",
       "      <td>671</td>\n",
       "      <td>143</td>\n",
       "      <td>38</td>\n",
       "      <td>74</td>\n",
       "      <td>1119</td>\n",
       "    </tr>\n",
       "    <tr>\n",
       "      <th>Zone X3</th>\n",
       "      <td>2049</td>\n",
       "      <td>3086</td>\n",
       "      <td>769</td>\n",
       "      <td>671</td>\n",
       "      <td>820</td>\n",
       "      <td>8779</td>\n",
       "    </tr>\n",
       "    <tr>\n",
       "      <th>Zone X4</th>\n",
       "      <td>3541</td>\n",
       "      <td>5353</td>\n",
       "      <td>1560</td>\n",
       "      <td>1411</td>\n",
       "      <td>843</td>\n",
       "      <td>9795</td>\n",
       "    </tr>\n",
       "  </tbody>\n",
       "</table>\n",
       "</div>"
      ],
      "text/plain": [
       "violation  Equipment  Moving violation  Other  Registration/plates  Seat belt  \\\n",
       "district                                                                        \n",
       "Zone K1          672              1254    290                  120          0   \n",
       "Zone K2         2061              2962    942                  768        481   \n",
       "Zone K3         2302              2898    705                  695        638   \n",
       "Zone X1          296               671    143                   38         74   \n",
       "Zone X3         2049              3086    769                  671        820   \n",
       "Zone X4         3541              5353   1560                 1411        843   \n",
       "\n",
       "violation  Speeding  \n",
       "district             \n",
       "Zone K1        5960  \n",
       "Zone K2       10448  \n",
       "Zone K3       12322  \n",
       "Zone X1        1119  \n",
       "Zone X3        8779  \n",
       "Zone X4        9795  "
      ]
     },
     "execution_count": 27,
     "metadata": {},
     "output_type": "execute_result"
    },
    {
     "data": {
      "text/html": [
       "<div>\n",
       "<style scoped>\n",
       "    .dataframe tbody tr th:only-of-type {\n",
       "        vertical-align: middle;\n",
       "    }\n",
       "\n",
       "    .dataframe tbody tr th {\n",
       "        vertical-align: top;\n",
       "    }\n",
       "\n",
       "    .dataframe thead th {\n",
       "        text-align: right;\n",
       "    }\n",
       "</style>\n",
       "<table border=\"1\" class=\"dataframe\">\n",
       "  <thead>\n",
       "    <tr style=\"text-align: right;\">\n",
       "      <th>violation</th>\n",
       "      <th>Equipment</th>\n",
       "      <th>Moving violation</th>\n",
       "      <th>Other</th>\n",
       "      <th>Registration/plates</th>\n",
       "      <th>Seat belt</th>\n",
       "      <th>Speeding</th>\n",
       "    </tr>\n",
       "    <tr>\n",
       "      <th>district</th>\n",
       "      <th></th>\n",
       "      <th></th>\n",
       "      <th></th>\n",
       "      <th></th>\n",
       "      <th></th>\n",
       "      <th></th>\n",
       "    </tr>\n",
       "  </thead>\n",
       "  <tbody>\n",
       "    <tr>\n",
       "      <th>Zone K1</th>\n",
       "      <td>672</td>\n",
       "      <td>1254</td>\n",
       "      <td>290</td>\n",
       "      <td>120</td>\n",
       "      <td>0</td>\n",
       "      <td>5960</td>\n",
       "    </tr>\n",
       "    <tr>\n",
       "      <th>Zone K2</th>\n",
       "      <td>2061</td>\n",
       "      <td>2962</td>\n",
       "      <td>942</td>\n",
       "      <td>768</td>\n",
       "      <td>481</td>\n",
       "      <td>10448</td>\n",
       "    </tr>\n",
       "    <tr>\n",
       "      <th>Zone K3</th>\n",
       "      <td>2302</td>\n",
       "      <td>2898</td>\n",
       "      <td>705</td>\n",
       "      <td>695</td>\n",
       "      <td>638</td>\n",
       "      <td>12322</td>\n",
       "    </tr>\n",
       "  </tbody>\n",
       "</table>\n",
       "</div>"
      ],
      "text/plain": [
       "violation  Equipment  Moving violation  Other  Registration/plates  Seat belt  \\\n",
       "district                                                                        \n",
       "Zone K1          672              1254    290                  120          0   \n",
       "Zone K2         2061              2962    942                  768        481   \n",
       "Zone K3         2302              2898    705                  695        638   \n",
       "\n",
       "violation  Speeding  \n",
       "district             \n",
       "Zone K1        5960  \n",
       "Zone K2       10448  \n",
       "Zone K3       12322  "
      ]
     },
     "execution_count": 27,
     "metadata": {},
     "output_type": "execute_result"
    }
   ],
   "source": [
    "# Create a frequency table of districts and violations\n",
    "pd.crosstab(ri['district'], ri['violation'])\n",
    "\n",
    "# Save the frequency table as 'all_zones'\n",
    "all_zones = pd.crosstab(ri['district'], ri['violation'])\n",
    "\n",
    "# Select rows 'Zone K1' through 'Zone K3'\n",
    "all_zones.loc['Zone K1':'Zone K3']\n",
    "\n",
    "# Save the smaller table as 'k_zones'\n",
    "k_zones = all_zones.loc['Zone K1':'Zone K3']"
   ]
  },
  {
   "cell_type": "raw",
   "id": "a12a176b",
   "metadata": {},
   "source": [
    "Great job! Next we'll plot the violations so that you can compare these districts."
   ]
  },
  {
   "cell_type": "markdown",
   "id": "9a630e72",
   "metadata": {},
   "source": [
    "### Plotting violations by district\n",
    "Now that we've created a frequency table focused on the \"K\" zones, we'll visualize the data to help us compare what violations are being caught in each zone.\n",
    "\n",
    "First we'll create a bar plot, which is an appropriate plot type since we're comparing categorical data. Then we'll create a stacked bar plot in order to get a slightly different look at the data. Which plot do you find to be more insightful?\n",
    "\n"
   ]
  },
  {
   "cell_type": "code",
   "execution_count": 28,
   "id": "e9161a11",
   "metadata": {},
   "outputs": [
    {
     "data": {
      "text/plain": [
       "<AxesSubplot:xlabel='district'>"
      ]
     },
     "execution_count": 28,
     "metadata": {},
     "output_type": "execute_result"
    },
    {
     "data": {
      "image/png": "[encoded data removed]",
      "text/plain": [
       "<Figure size 576x432 with 1 Axes>"
      ]
     },
     "metadata": {
      "needs_background": "light"
     },
     "output_type": "display_data"
    }
   ],
   "source": [
    "k_zones.plot(kind = 'bar', figsize = (8, 6))"
   ]
  },
  {
   "cell_type": "code",
   "execution_count": 29,
   "id": "57f2ac2a",
   "metadata": {},
   "outputs": [
    {
     "data": {
      "text/plain": [
       "<AxesSubplot:xlabel='district'>"
      ]
     },
     "execution_count": 29,
     "metadata": {},
     "output_type": "execute_result"
    },
    {
     "data": {
      "image/png": "[encoded data removed]",
      "text/plain": [
       "<Figure size 576x432 with 1 Axes>"
      ]
     },
     "metadata": {
      "needs_background": "light"
     },
     "output_type": "display_data"
    }
   ],
   "source": [
    "k_zones.plot(kind = 'bar', stacked = True, figsize = (8, 6))"
   ]
  },
  {
   "cell_type": "markdown",
   "id": "54f4ff64",
   "metadata": {},
   "source": [
    "<b>Interesting! The vast majority of traffic stops in Zone K1 are for speeding, and Zones K2 and K3 are remarkably similar to one another in terms of violations.</b>"
   ]
  },
  {
   "cell_type": "markdown",
   "id": "d781d7dc",
   "metadata": {},
   "source": [
    "## How long might you be stopped for a violation?\n"
   ]
  },
  {
   "cell_type": "markdown",
   "id": "989546f7",
   "metadata": {},
   "source": [
    "### Converting stop durations to numbers\n",
    "In the traffic stops dataset, the stop_duration column tells us approximately how long the driver was detained by the officer. Unfortunately, the durations are stored as strings, such as '0-15 Min'. How can we make this data easier to analyze?\n",
    "\n",
    "In this exercise, we'll convert the stop durations to integers. Because the precise durations are not available, we'll have to estimate the numbers using reasonable values:\n",
    "\n",
    "- Convert '0-15 Min' to 8\n",
    "- Convert '16-30 Min' to 23\n",
    "- Convert '30+ Min' to 45"
   ]
  },
  {
   "cell_type": "code",
   "execution_count": 30,
   "id": "95779b3b",
   "metadata": {},
   "outputs": [
    {
     "data": {
      "text/plain": [
       "array(['0-15 Min', '16-30 Min', '30+ Min'], dtype=object)"
      ]
     },
     "execution_count": 30,
     "metadata": {},
     "output_type": "execute_result"
    },
    {
     "data": {
      "text/plain": [
       "array([ 8, 23, 45], dtype=int64)"
      ]
     },
     "execution_count": 30,
     "metadata": {},
     "output_type": "execute_result"
    }
   ],
   "source": [
    "# Print the unique values in 'stop_duration'\n",
    "ri.stop_duration.unique()\n",
    "\n",
    "# Create a dictionary that maps strings to integers\n",
    "mapping = {'0-15 Min':8, '16-30 Min':23, '30+ Min':45}\n",
    "\n",
    "# Convert the 'stop_duration' strings to integers using the 'mapping'\n",
    "ri['stop_minutes'] = ri.stop_duration.map(mapping)\n",
    "\n",
    "# Print the unique values in 'stop_minutes'\n",
    "ri['stop_minutes'].unique()"
   ]
  },
  {
   "cell_type": "raw",
   "id": "63415153",
   "metadata": {},
   "source": [
    "Excellent! Next we'll analyze the stop length for each type of violation."
   ]
  },
  {
   "cell_type": "markdown",
   "id": "11c7fb36",
   "metadata": {},
   "source": [
    "### Plotting stop length\n",
    "If you were stopped for a particular violation, how long might you expect to be detained?\n",
    "\n",
    "In this exercise, we'll visualize the average length of time drivers are stopped for each type of violation. Rather than using the violation column in this exercise, we'll use `violation_raw` since it contains more detailed descriptions of the violations.\n"
   ]
  },
  {
   "cell_type": "code",
   "execution_count": 33,
   "id": "f7145fdb",
   "metadata": {},
   "outputs": [
    {
     "data": {
      "text/plain": [
       "violation_raw\n",
       "APB                                 17.967033\n",
       "Call for Service                    22.124371\n",
       "Equipment/Inspection Violation      11.445655\n",
       "Motorist Assist/Courtesy            17.741463\n",
       "Other Traffic Violation             13.844490\n",
       "Registration Violation              13.736970\n",
       "Seatbelt Violation                   9.662815\n",
       "Special Detail/Directed Patrol      15.123632\n",
       "Speeding                            10.581562\n",
       "Suspicious Person                   14.910714\n",
       "Violation of City/Town Ordinance    13.254144\n",
       "Warrant                             24.055556\n",
       "Name: stop_minutes, dtype: float64"
      ]
     },
     "execution_count": 33,
     "metadata": {},
     "output_type": "execute_result"
    },
    {
     "data": {
      "text/plain": [
       "<AxesSubplot:ylabel='violation_raw'>"
      ]
     },
     "execution_count": 33,
     "metadata": {},
     "output_type": "execute_result"
    },
    {
     "data": {
      "image/png": "[encoded data removed]",
      "text/plain": [
       "<Figure size 576x432 with 1 Axes>"
      ]
     },
     "metadata": {
      "needs_background": "light"
     },
     "output_type": "display_data"
    }
   ],
   "source": [
    "# Calculate the mean 'stop_minutes' for each value in 'violation_raw'\n",
    "ri.groupby('violation_raw')['stop_minutes'].mean()\n",
    "\n",
    "# Save the resulting Series as 'stop_length'\n",
    "stop_length = ri.groupby('violation_raw')['stop_minutes'].mean()\n",
    "\n",
    "# Sort 'stop_length' by its values and create a horizontal bar plot\n",
    "stop_length.sort_values().plot(kind = 'barh', figsize = (8, 6))"
   ]
  },
  {
   "cell_type": "markdown",
   "id": "0b0460d2",
   "metadata": {},
   "source": [
    "<b> Congratulations! we've completed the Part on visual exploratory data analysis!"
   ]
  },
  {
   "cell_type": "markdown",
   "id": "6bf9a06c",
   "metadata": {},
   "source": [
    "---"
   ]
  },
  {
   "cell_type": "markdown",
   "id": "c58def00",
   "metadata": {},
   "source": [
    "# Part 4 - Analyzing the effect of weather on policing"
   ]
  },
  {
   "cell_type": "markdown",
   "id": "ba0f364d",
   "metadata": {},
   "source": [
    "## In this Part, we will use a second dataset to explore the impact of weather conditions on police behavior during traffic stops. We will practice merging and reshaping datasets, assessing whether a data source is trustworthy, working with categorical data, and other advanced skills."
   ]
  },
  {
   "cell_type": "markdown",
   "id": "453fc5e2",
   "metadata": {},
   "source": [
    "## Exploring the weather dataset\n"
   ]
  },
  {
   "cell_type": "markdown",
   "id": "653f8198",
   "metadata": {},
   "source": [
    "### Plotting the temperature\n",
    "In this exercise, we'll examine the temperature columns from the weather dataset to assess whether the data seems trustworthy. First we'll print the summary statistics, and then we'll visualize the data using a box plot.\n",
    "\n",
    "When deciding whether the values seem reasonable, keep in mind that the temperature is measured in degrees Fahrenheit, not Celsius!"
   ]
  },
  {
   "cell_type": "code",
   "execution_count": 34,
   "id": "593790e4",
   "metadata": {},
   "outputs": [
    {
     "data": {
      "text/html": [
       "<div>\n",
       "<style scoped>\n",
       "    .dataframe tbody tr th:only-of-type {\n",
       "        vertical-align: middle;\n",
       "    }\n",
       "\n",
       "    .dataframe tbody tr th {\n",
       "        vertical-align: top;\n",
       "    }\n",
       "\n",
       "    .dataframe thead th {\n",
       "        text-align: right;\n",
       "    }\n",
       "</style>\n",
       "<table border=\"1\" class=\"dataframe\">\n",
       "  <thead>\n",
       "    <tr style=\"text-align: right;\">\n",
       "      <th></th>\n",
       "      <th>STATION</th>\n",
       "      <th>DATE</th>\n",
       "      <th>TAVG</th>\n",
       "      <th>TMIN</th>\n",
       "      <th>TMAX</th>\n",
       "      <th>AWND</th>\n",
       "      <th>WSF2</th>\n",
       "      <th>WT01</th>\n",
       "      <th>WT02</th>\n",
       "      <th>WT03</th>\n",
       "      <th>...</th>\n",
       "      <th>WT11</th>\n",
       "      <th>WT13</th>\n",
       "      <th>WT14</th>\n",
       "      <th>WT15</th>\n",
       "      <th>WT16</th>\n",
       "      <th>WT17</th>\n",
       "      <th>WT18</th>\n",
       "      <th>WT19</th>\n",
       "      <th>WT21</th>\n",
       "      <th>WT22</th>\n",
       "    </tr>\n",
       "  </thead>\n",
       "  <tbody>\n",
       "    <tr>\n",
       "      <th>0</th>\n",
       "      <td>USW00014765</td>\n",
       "      <td>2005-01-01</td>\n",
       "      <td>44.0</td>\n",
       "      <td>35</td>\n",
       "      <td>53</td>\n",
       "      <td>8.95</td>\n",
       "      <td>25.1</td>\n",
       "      <td>1.0</td>\n",
       "      <td>NaN</td>\n",
       "      <td>NaN</td>\n",
       "      <td>...</td>\n",
       "      <td>NaN</td>\n",
       "      <td>1.0</td>\n",
       "      <td>NaN</td>\n",
       "      <td>NaN</td>\n",
       "      <td>NaN</td>\n",
       "      <td>NaN</td>\n",
       "      <td>NaN</td>\n",
       "      <td>NaN</td>\n",
       "      <td>NaN</td>\n",
       "      <td>NaN</td>\n",
       "    </tr>\n",
       "    <tr>\n",
       "      <th>1</th>\n",
       "      <td>USW00014765</td>\n",
       "      <td>2005-01-02</td>\n",
       "      <td>36.0</td>\n",
       "      <td>28</td>\n",
       "      <td>44</td>\n",
       "      <td>9.40</td>\n",
       "      <td>14.1</td>\n",
       "      <td>NaN</td>\n",
       "      <td>NaN</td>\n",
       "      <td>NaN</td>\n",
       "      <td>...</td>\n",
       "      <td>NaN</td>\n",
       "      <td>NaN</td>\n",
       "      <td>NaN</td>\n",
       "      <td>NaN</td>\n",
       "      <td>1.0</td>\n",
       "      <td>NaN</td>\n",
       "      <td>1.0</td>\n",
       "      <td>NaN</td>\n",
       "      <td>NaN</td>\n",
       "      <td>NaN</td>\n",
       "    </tr>\n",
       "    <tr>\n",
       "      <th>2</th>\n",
       "      <td>USW00014765</td>\n",
       "      <td>2005-01-03</td>\n",
       "      <td>49.0</td>\n",
       "      <td>44</td>\n",
       "      <td>53</td>\n",
       "      <td>6.93</td>\n",
       "      <td>17.0</td>\n",
       "      <td>1.0</td>\n",
       "      <td>NaN</td>\n",
       "      <td>NaN</td>\n",
       "      <td>...</td>\n",
       "      <td>NaN</td>\n",
       "      <td>1.0</td>\n",
       "      <td>NaN</td>\n",
       "      <td>NaN</td>\n",
       "      <td>1.0</td>\n",
       "      <td>NaN</td>\n",
       "      <td>NaN</td>\n",
       "      <td>NaN</td>\n",
       "      <td>NaN</td>\n",
       "      <td>NaN</td>\n",
       "    </tr>\n",
       "    <tr>\n",
       "      <th>3</th>\n",
       "      <td>USW00014765</td>\n",
       "      <td>2005-01-04</td>\n",
       "      <td>42.0</td>\n",
       "      <td>39</td>\n",
       "      <td>45</td>\n",
       "      <td>6.93</td>\n",
       "      <td>16.1</td>\n",
       "      <td>1.0</td>\n",
       "      <td>NaN</td>\n",
       "      <td>NaN</td>\n",
       "      <td>...</td>\n",
       "      <td>NaN</td>\n",
       "      <td>1.0</td>\n",
       "      <td>1.0</td>\n",
       "      <td>NaN</td>\n",
       "      <td>1.0</td>\n",
       "      <td>NaN</td>\n",
       "      <td>NaN</td>\n",
       "      <td>NaN</td>\n",
       "      <td>NaN</td>\n",
       "      <td>NaN</td>\n",
       "    </tr>\n",
       "    <tr>\n",
       "      <th>4</th>\n",
       "      <td>USW00014765</td>\n",
       "      <td>2005-01-05</td>\n",
       "      <td>36.0</td>\n",
       "      <td>28</td>\n",
       "      <td>43</td>\n",
       "      <td>7.83</td>\n",
       "      <td>17.0</td>\n",
       "      <td>1.0</td>\n",
       "      <td>NaN</td>\n",
       "      <td>NaN</td>\n",
       "      <td>...</td>\n",
       "      <td>NaN</td>\n",
       "      <td>1.0</td>\n",
       "      <td>NaN</td>\n",
       "      <td>NaN</td>\n",
       "      <td>1.0</td>\n",
       "      <td>NaN</td>\n",
       "      <td>1.0</td>\n",
       "      <td>NaN</td>\n",
       "      <td>NaN</td>\n",
       "      <td>NaN</td>\n",
       "    </tr>\n",
       "  </tbody>\n",
       "</table>\n",
       "<p>5 rows × 27 columns</p>\n",
       "</div>"
      ],
      "text/plain": [
       "       STATION        DATE  TAVG  TMIN  TMAX  AWND  WSF2  WT01  WT02  WT03  \\\n",
       "0  USW00014765  2005-01-01  44.0    35    53  8.95  25.1   1.0   NaN   NaN   \n",
       "1  USW00014765  2005-01-02  36.0    28    44  9.40  14.1   NaN   NaN   NaN   \n",
       "2  USW00014765  2005-01-03  49.0    44    53  6.93  17.0   1.0   NaN   NaN   \n",
       "3  USW00014765  2005-01-04  42.0    39    45  6.93  16.1   1.0   NaN   NaN   \n",
       "4  USW00014765  2005-01-05  36.0    28    43  7.83  17.0   1.0   NaN   NaN   \n",
       "\n",
       "   ...  WT11  WT13  WT14  WT15  WT16  WT17  WT18  WT19  WT21  WT22  \n",
       "0  ...   NaN   1.0   NaN   NaN   NaN   NaN   NaN   NaN   NaN   NaN  \n",
       "1  ...   NaN   NaN   NaN   NaN   1.0   NaN   1.0   NaN   NaN   NaN  \n",
       "2  ...   NaN   1.0   NaN   NaN   1.0   NaN   NaN   NaN   NaN   NaN  \n",
       "3  ...   NaN   1.0   1.0   NaN   1.0   NaN   NaN   NaN   NaN   NaN  \n",
       "4  ...   NaN   1.0   NaN   NaN   1.0   NaN   1.0   NaN   NaN   NaN  \n",
       "\n",
       "[5 rows x 27 columns]"
      ]
     },
     "execution_count": 34,
     "metadata": {},
     "output_type": "execute_result"
    }
   ],
   "source": [
    "weather = pd.read_csv('weather.csv')\n",
    "weather.head()"
   ]
  },
  {
   "cell_type": "code",
   "execution_count": 35,
   "id": "40d52253",
   "metadata": {},
   "outputs": [
    {
     "data": {
      "text/html": [
       "<div>\n",
       "<style scoped>\n",
       "    .dataframe tbody tr th:only-of-type {\n",
       "        vertical-align: middle;\n",
       "    }\n",
       "\n",
       "    .dataframe tbody tr th {\n",
       "        vertical-align: top;\n",
       "    }\n",
       "\n",
       "    .dataframe thead th {\n",
       "        text-align: right;\n",
       "    }\n",
       "</style>\n",
       "<table border=\"1\" class=\"dataframe\">\n",
       "  <thead>\n",
       "    <tr style=\"text-align: right;\">\n",
       "      <th></th>\n",
       "      <th>TMIN</th>\n",
       "      <th>TAVG</th>\n",
       "      <th>TMAX</th>\n",
       "    </tr>\n",
       "  </thead>\n",
       "  <tbody>\n",
       "    <tr>\n",
       "      <th>count</th>\n",
       "      <td>4017.000000</td>\n",
       "      <td>1217.000000</td>\n",
       "      <td>4017.000000</td>\n",
       "    </tr>\n",
       "    <tr>\n",
       "      <th>mean</th>\n",
       "      <td>43.484441</td>\n",
       "      <td>52.493016</td>\n",
       "      <td>61.268608</td>\n",
       "    </tr>\n",
       "    <tr>\n",
       "      <th>std</th>\n",
       "      <td>17.020298</td>\n",
       "      <td>17.830714</td>\n",
       "      <td>18.199517</td>\n",
       "    </tr>\n",
       "    <tr>\n",
       "      <th>min</th>\n",
       "      <td>-5.000000</td>\n",
       "      <td>6.000000</td>\n",
       "      <td>15.000000</td>\n",
       "    </tr>\n",
       "    <tr>\n",
       "      <th>25%</th>\n",
       "      <td>30.000000</td>\n",
       "      <td>39.000000</td>\n",
       "      <td>47.000000</td>\n",
       "    </tr>\n",
       "    <tr>\n",
       "      <th>50%</th>\n",
       "      <td>44.000000</td>\n",
       "      <td>54.000000</td>\n",
       "      <td>62.000000</td>\n",
       "    </tr>\n",
       "    <tr>\n",
       "      <th>75%</th>\n",
       "      <td>58.000000</td>\n",
       "      <td>68.000000</td>\n",
       "      <td>77.000000</td>\n",
       "    </tr>\n",
       "    <tr>\n",
       "      <th>max</th>\n",
       "      <td>77.000000</td>\n",
       "      <td>86.000000</td>\n",
       "      <td>102.000000</td>\n",
       "    </tr>\n",
       "  </tbody>\n",
       "</table>\n",
       "</div>"
      ],
      "text/plain": [
       "              TMIN         TAVG         TMAX\n",
       "count  4017.000000  1217.000000  4017.000000\n",
       "mean     43.484441    52.493016    61.268608\n",
       "std      17.020298    17.830714    18.199517\n",
       "min      -5.000000     6.000000    15.000000\n",
       "25%      30.000000    39.000000    47.000000\n",
       "50%      44.000000    54.000000    62.000000\n",
       "75%      58.000000    68.000000    77.000000\n",
       "max      77.000000    86.000000   102.000000"
      ]
     },
     "execution_count": 35,
     "metadata": {},
     "output_type": "execute_result"
    }
   ],
   "source": [
    "# Select the temperature columns (TMIN, TAVG, TMAX) and print their summary statistics using the .describe() method\n",
    "weather[['TMIN', 'TAVG', 'TMAX']].describe()"
   ]
  },
  {
   "cell_type": "code",
   "execution_count": 36,
   "id": "6cbde2e2",
   "metadata": {},
   "outputs": [
    {
     "data": {
      "text/plain": [
       "<AxesSubplot:>"
      ]
     },
     "execution_count": 36,
     "metadata": {},
     "output_type": "execute_result"
    },
    {
     "data": {
      "image/png": "[encoded data removed]",
      "text/plain": [
       "<Figure size 432x288 with 1 Axes>"
      ]
     },
     "metadata": {
      "needs_background": "light"
     },
     "output_type": "display_data"
    }
   ],
   "source": [
    "# Create a box plot of the temperature columns\n",
    "weather[['TMIN', 'TAVG', 'TMAX']].plot(kind = 'box')"
   ]
  },
  {
   "cell_type": "raw",
   "id": "503bdd09",
   "metadata": {},
   "source": [
    "Nice job! The temperature data looks good so far: the TAVG values are in between TMIN and TMAX, and the measurements and ranges seem reasonable"
   ]
  },
  {
   "cell_type": "markdown",
   "id": "21a32281",
   "metadata": {},
   "source": [
    "### Plotting the temperature difference\n",
    "In this exercise, we'll continue to assess whether the dataset seems trustworthy by plotting the difference between the maximum and minimum temperatures.\n",
    "\n",
    "What do you notice about the resulting histogram? Does it match your expectations, or do you see anything unusual?"
   ]
  },
  {
   "cell_type": "code",
   "execution_count": 37,
   "id": "35c0bf4b",
   "metadata": {},
   "outputs": [
    {
     "name": "stdout",
     "output_type": "stream",
     "text": [
      "count    4017.000000\n",
      "mean       17.784167\n",
      "std         6.350720\n",
      "min         2.000000\n",
      "25%        14.000000\n",
      "50%        18.000000\n",
      "75%        22.000000\n",
      "max        43.000000\n",
      "Name: TDIFF, dtype: float64\n"
     ]
    },
    {
     "data": {
      "text/plain": [
       "<AxesSubplot:ylabel='Frequency'>"
      ]
     },
     "execution_count": 37,
     "metadata": {},
     "output_type": "execute_result"
    },
    {
     "data": {
      "image/png": "[encoded data removed]",
      "text/plain": [
       "<Figure size 432x288 with 1 Axes>"
      ]
     },
     "metadata": {
      "needs_background": "light"
     },
     "output_type": "display_data"
    }
   ],
   "source": [
    "# Create a 'TDIFF' column that represents temperature difference\n",
    "weather['TDIFF'] = weather['TMAX'] - weather['TMIN']\n",
    "\n",
    "# Describe the 'TDIFF' column\n",
    "print(weather['TDIFF'].describe())\n",
    "\n",
    "# Create a histogram with 20 bins to visualize 'TDIFF'\n",
    "weather['TDIFF'].plot(kind = 'hist', bins = 20, ec = 'white')"
   ]
  },
  {
   "cell_type": "raw",
   "id": "4d6cedca",
   "metadata": {},
   "source": [
    "Great work! The TDIFF column has no negative values and its distribution is approximately normal, both of which are signs that the data is trustworthy."
   ]
  },
  {
   "cell_type": "markdown",
   "id": "4b73d6fb",
   "metadata": {},
   "source": [
    "## Categorizing the weather"
   ]
  },
  {
   "cell_type": "markdown",
   "id": "63a5baac",
   "metadata": {},
   "source": [
    "### Counting bad weather conditions\n",
    "The weather DataFrame contains 20 columns that start with 'WT', each of which represents a bad weather condition. For example:\n",
    "\n",
    "- WT05 indicates \"Hail\"\n",
    "- WT11 indicates \"High or damaging winds\"\n",
    "- WT17 indicates \"Freezing rain\"  \n",
    "\n",
    "For every row in the dataset, each WT column contains either a 1 (meaning the condition was present that day) or NaN (meaning the condition was not present).\n",
    "\n",
    "In this exercise, we'll quantify \"how bad\" the weather was each day by counting the number of 1 values in each row."
   ]
  },
  {
   "cell_type": "code",
   "execution_count": 38,
   "id": "e93b83b4",
   "metadata": {},
   "outputs": [
    {
     "data": {
      "text/plain": [
       "<AxesSubplot:ylabel='Frequency'>"
      ]
     },
     "execution_count": 38,
     "metadata": {},
     "output_type": "execute_result"
    },
    {
     "data": {
      "image/png": "[encoded data removed]",
      "text/plain": [
       "<Figure size 432x288 with 1 Axes>"
      ]
     },
     "metadata": {
      "needs_background": "light"
     },
     "output_type": "display_data"
    }
   ],
   "source": [
    "# Copy 'WT01' through 'WT22' to a new DataFrame\n",
    "WT = weather.loc[:, 'WT01':'WT22']\n",
    "\n",
    "# Calculate the sum of each row in 'WT'\n",
    "weather['bad_conditions'] = WT.sum(axis = 1)\n",
    "\n",
    "# Replace missing values in 'bad_conditions' with '0'\n",
    "weather['bad_conditions'] = weather.bad_conditions.fillna(0).astype('int')\n",
    "\n",
    "# Create a histogram to visualize 'bad_conditions'\n",
    "weather.bad_conditions.plot(kind = 'hist')"
   ]
  },
  {
   "cell_type": "raw",
   "id": "8ae993e1",
   "metadata": {},
   "source": [
    "Excellent work! It looks like many days didn't have any bad weather conditions, and only a small portion of days had more than four bad weather conditions."
   ]
  },
  {
   "cell_type": "markdown",
   "id": "56323cc9",
   "metadata": {},
   "source": [
    "### Rating the weather conditions\n",
    "In the previous exercise, we counted the number of bad weather conditions each day. In this exercise, we'll use the counts to create a rating system for the weather.\n",
    "\n",
    "The counts range from 0 to 9, and should be converted to ratings as follows:\n",
    "\n",
    "- Convert 0 to 'good'\n",
    "- Convert 1 through 4 to 'bad'\n",
    "- Convert 5 through 9 to 'worse'"
   ]
  },
  {
   "cell_type": "code",
   "execution_count": 39,
   "id": "9ef884af",
   "metadata": {},
   "outputs": [
    {
     "data": {
      "text/plain": [
       "0    1749\n",
       "1     613\n",
       "2     367\n",
       "3     380\n",
       "4     476\n",
       "5     282\n",
       "6     101\n",
       "7      41\n",
       "8       4\n",
       "9       4\n",
       "Name: bad_conditions, dtype: int64"
      ]
     },
     "execution_count": 39,
     "metadata": {},
     "output_type": "execute_result"
    },
    {
     "data": {
      "text/plain": [
       "bad      1836\n",
       "good     1749\n",
       "worse     432\n",
       "Name: rating, dtype: int64"
      ]
     },
     "execution_count": 39,
     "metadata": {},
     "output_type": "execute_result"
    }
   ],
   "source": [
    "# Count the unique values in 'bad_conditions' and sort the index\n",
    "weather.bad_conditions.value_counts().sort_index()\n",
    "\n",
    "# Create a dictionary that maps integers to strings\n",
    "mapping = {0:'good', 1:'bad', 2:'bad', 3:'bad', 4:'bad', 5:'worse', 6:'worse', 7:'worse', 8:'worse', 9:'worse'}\n",
    "\n",
    "# Convert the 'bad_conditions' integers to strings using the 'mapping'\n",
    "weather['rating'] = weather.bad_conditions.map(mapping)\n",
    "\n",
    "# Count the unique values in 'rating'\n",
    "weather['rating'].value_counts()"
   ]
  },
  {
   "cell_type": "raw",
   "id": "4fb14ffb",
   "metadata": {},
   "source": [
    "Nice job! This rating system should make the weather condition data easier to understand."
   ]
  },
  {
   "cell_type": "markdown",
   "id": "4fb954e4",
   "metadata": {},
   "source": [
    "### Changing the data type to category\n",
    "Since the rating column only has a few possible values, we'll change its data type to category in order to store the data more efficiently. We'll also specify a logical order for the categories, which will be useful for future exercises."
   ]
  },
  {
   "cell_type": "code",
   "execution_count": 40,
   "id": "9a8c08a7",
   "metadata": {},
   "outputs": [
    {
     "data": {
      "text/plain": [
       "0    bad\n",
       "1    bad\n",
       "2    bad\n",
       "3    bad\n",
       "4    bad\n",
       "Name: rating, dtype: category\n",
       "Categories (3, object): ['good' < 'bad' < 'worse']"
      ]
     },
     "execution_count": 40,
     "metadata": {},
     "output_type": "execute_result"
    }
   ],
   "source": [
    "# Create a list of weather ratings in logical order\n",
    "cats = ['good', 'bad', 'worse']\n",
    "\n",
    "# Change the data type of 'rating' to category\n",
    "weather['rating'] = weather.rating.astype('category')\n",
    "\n",
    "weather['rating'] = weather['rating'].cat.set_categories(new_categories = cats, ordered=True)\n",
    "\n",
    "# Examine the head of 'rating'\n",
    "weather.rating.head()"
   ]
  },
  {
   "cell_type": "raw",
   "id": "4f147445",
   "metadata": {},
   "source": [
    "Excellent! We'll use the rating column in future exercises to analyze the effects of weather on police behavior."
   ]
  },
  {
   "cell_type": "markdown",
   "id": "205dfcc4",
   "metadata": {},
   "source": [
    "## Merging datasets\n"
   ]
  },
  {
   "cell_type": "markdown",
   "id": "c1c4acf4",
   "metadata": {},
   "source": [
    "### Preparing the DataFrames\n",
    "In this exercise, we'll prepare the traffic stop and weather rating DataFrames so that they're ready to be merged:\n",
    "\n",
    "With the ri DataFrame, we'll move the stop_datetime index to a column since the index will be lost during the merge.\n",
    "With the weather DataFrame, we'll select the DATE and rating columns and put them in a new DataFrame."
   ]
  },
  {
   "cell_type": "code",
   "execution_count": 41,
   "id": "730681fd",
   "metadata": {},
   "outputs": [
    {
     "data": {
      "text/html": [
       "<div>\n",
       "<style scoped>\n",
       "    .dataframe tbody tr th:only-of-type {\n",
       "        vertical-align: middle;\n",
       "    }\n",
       "\n",
       "    .dataframe tbody tr th {\n",
       "        vertical-align: top;\n",
       "    }\n",
       "\n",
       "    .dataframe thead th {\n",
       "        text-align: right;\n",
       "    }\n",
       "</style>\n",
       "<table border=\"1\" class=\"dataframe\">\n",
       "  <thead>\n",
       "    <tr style=\"text-align: right;\">\n",
       "      <th></th>\n",
       "      <th>stop_datetime</th>\n",
       "      <th>stop_date</th>\n",
       "      <th>stop_time</th>\n",
       "      <th>driver_gender</th>\n",
       "      <th>driver_race</th>\n",
       "      <th>violation_raw</th>\n",
       "      <th>violation</th>\n",
       "      <th>search_conducted</th>\n",
       "      <th>search_type</th>\n",
       "      <th>stop_outcome</th>\n",
       "      <th>is_arrested</th>\n",
       "      <th>stop_duration</th>\n",
       "      <th>drugs_related_stop</th>\n",
       "      <th>district</th>\n",
       "      <th>frisk</th>\n",
       "      <th>stop_minutes</th>\n",
       "    </tr>\n",
       "  </thead>\n",
       "  <tbody>\n",
       "    <tr>\n",
       "      <th>0</th>\n",
       "      <td>2005-01-04 12:55:00</td>\n",
       "      <td>2005-01-04</td>\n",
       "      <td>12:55</td>\n",
       "      <td>M</td>\n",
       "      <td>White</td>\n",
       "      <td>Equipment/Inspection Violation</td>\n",
       "      <td>Equipment</td>\n",
       "      <td>False</td>\n",
       "      <td>NaN</td>\n",
       "      <td>Citation</td>\n",
       "      <td>False</td>\n",
       "      <td>0-15 Min</td>\n",
       "      <td>False</td>\n",
       "      <td>Zone X4</td>\n",
       "      <td>False</td>\n",
       "      <td>8</td>\n",
       "    </tr>\n",
       "    <tr>\n",
       "      <th>1</th>\n",
       "      <td>2005-01-23 23:15:00</td>\n",
       "      <td>2005-01-23</td>\n",
       "      <td>23:15</td>\n",
       "      <td>M</td>\n",
       "      <td>White</td>\n",
       "      <td>Speeding</td>\n",
       "      <td>Speeding</td>\n",
       "      <td>False</td>\n",
       "      <td>NaN</td>\n",
       "      <td>Citation</td>\n",
       "      <td>False</td>\n",
       "      <td>0-15 Min</td>\n",
       "      <td>False</td>\n",
       "      <td>Zone K3</td>\n",
       "      <td>False</td>\n",
       "      <td>8</td>\n",
       "    </tr>\n",
       "    <tr>\n",
       "      <th>2</th>\n",
       "      <td>2005-02-17 04:15:00</td>\n",
       "      <td>2005-02-17</td>\n",
       "      <td>04:15</td>\n",
       "      <td>M</td>\n",
       "      <td>White</td>\n",
       "      <td>Speeding</td>\n",
       "      <td>Speeding</td>\n",
       "      <td>False</td>\n",
       "      <td>NaN</td>\n",
       "      <td>Citation</td>\n",
       "      <td>False</td>\n",
       "      <td>0-15 Min</td>\n",
       "      <td>False</td>\n",
       "      <td>Zone X4</td>\n",
       "      <td>False</td>\n",
       "      <td>8</td>\n",
       "    </tr>\n",
       "    <tr>\n",
       "      <th>3</th>\n",
       "      <td>2005-02-20 17:15:00</td>\n",
       "      <td>2005-02-20</td>\n",
       "      <td>17:15</td>\n",
       "      <td>M</td>\n",
       "      <td>White</td>\n",
       "      <td>Call for Service</td>\n",
       "      <td>Other</td>\n",
       "      <td>False</td>\n",
       "      <td>NaN</td>\n",
       "      <td>Arrest Driver</td>\n",
       "      <td>True</td>\n",
       "      <td>16-30 Min</td>\n",
       "      <td>False</td>\n",
       "      <td>Zone X1</td>\n",
       "      <td>False</td>\n",
       "      <td>23</td>\n",
       "    </tr>\n",
       "    <tr>\n",
       "      <th>4</th>\n",
       "      <td>2005-02-24 01:20:00</td>\n",
       "      <td>2005-02-24</td>\n",
       "      <td>01:20</td>\n",
       "      <td>F</td>\n",
       "      <td>White</td>\n",
       "      <td>Speeding</td>\n",
       "      <td>Speeding</td>\n",
       "      <td>False</td>\n",
       "      <td>NaN</td>\n",
       "      <td>Citation</td>\n",
       "      <td>False</td>\n",
       "      <td>0-15 Min</td>\n",
       "      <td>False</td>\n",
       "      <td>Zone X3</td>\n",
       "      <td>False</td>\n",
       "      <td>8</td>\n",
       "    </tr>\n",
       "  </tbody>\n",
       "</table>\n",
       "</div>"
      ],
      "text/plain": [
       "        stop_datetime   stop_date stop_time driver_gender driver_race  \\\n",
       "0 2005-01-04 12:55:00  2005-01-04     12:55             M       White   \n",
       "1 2005-01-23 23:15:00  2005-01-23     23:15             M       White   \n",
       "2 2005-02-17 04:15:00  2005-02-17     04:15             M       White   \n",
       "3 2005-02-20 17:15:00  2005-02-20     17:15             M       White   \n",
       "4 2005-02-24 01:20:00  2005-02-24     01:20             F       White   \n",
       "\n",
       "                    violation_raw  violation  search_conducted search_type  \\\n",
       "0  Equipment/Inspection Violation  Equipment             False         NaN   \n",
       "1                        Speeding   Speeding             False         NaN   \n",
       "2                        Speeding   Speeding             False         NaN   \n",
       "3                Call for Service      Other             False         NaN   \n",
       "4                        Speeding   Speeding             False         NaN   \n",
       "\n",
       "    stop_outcome  is_arrested stop_duration  drugs_related_stop district  \\\n",
       "0       Citation        False      0-15 Min               False  Zone X4   \n",
       "1       Citation        False      0-15 Min               False  Zone K3   \n",
       "2       Citation        False      0-15 Min               False  Zone X4   \n",
       "3  Arrest Driver         True     16-30 Min               False  Zone X1   \n",
       "4       Citation        False      0-15 Min               False  Zone X3   \n",
       "\n",
       "   frisk  stop_minutes  \n",
       "0  False             8  \n",
       "1  False             8  \n",
       "2  False             8  \n",
       "3  False            23  \n",
       "4  False             8  "
      ]
     },
     "execution_count": 41,
     "metadata": {},
     "output_type": "execute_result"
    },
    {
     "data": {
      "text/html": [
       "<div>\n",
       "<style scoped>\n",
       "    .dataframe tbody tr th:only-of-type {\n",
       "        vertical-align: middle;\n",
       "    }\n",
       "\n",
       "    .dataframe tbody tr th {\n",
       "        vertical-align: top;\n",
       "    }\n",
       "\n",
       "    .dataframe thead th {\n",
       "        text-align: right;\n",
       "    }\n",
       "</style>\n",
       "<table border=\"1\" class=\"dataframe\">\n",
       "  <thead>\n",
       "    <tr style=\"text-align: right;\">\n",
       "      <th></th>\n",
       "      <th>DATE</th>\n",
       "      <th>rating</th>\n",
       "    </tr>\n",
       "  </thead>\n",
       "  <tbody>\n",
       "    <tr>\n",
       "      <th>0</th>\n",
       "      <td>2005-01-01</td>\n",
       "      <td>bad</td>\n",
       "    </tr>\n",
       "    <tr>\n",
       "      <th>1</th>\n",
       "      <td>2005-01-02</td>\n",
       "      <td>bad</td>\n",
       "    </tr>\n",
       "    <tr>\n",
       "      <th>2</th>\n",
       "      <td>2005-01-03</td>\n",
       "      <td>bad</td>\n",
       "    </tr>\n",
       "    <tr>\n",
       "      <th>3</th>\n",
       "      <td>2005-01-04</td>\n",
       "      <td>bad</td>\n",
       "    </tr>\n",
       "    <tr>\n",
       "      <th>4</th>\n",
       "      <td>2005-01-05</td>\n",
       "      <td>bad</td>\n",
       "    </tr>\n",
       "  </tbody>\n",
       "</table>\n",
       "</div>"
      ],
      "text/plain": [
       "         DATE rating\n",
       "0  2005-01-01    bad\n",
       "1  2005-01-02    bad\n",
       "2  2005-01-03    bad\n",
       "3  2005-01-04    bad\n",
       "4  2005-01-05    bad"
      ]
     },
     "execution_count": 41,
     "metadata": {},
     "output_type": "execute_result"
    }
   ],
   "source": [
    "# Reset the index of 'ri'\n",
    "ri.reset_index(inplace = True)\n",
    "\n",
    "# Examine the head of 'ri'\n",
    "ri.head()\n",
    "\n",
    "# Create a DataFrame from the 'DATE' and 'rating' columns\n",
    "weather_rating = weather[['DATE', 'rating']]\n",
    "\n",
    "# Examine the head of 'weather_rating'\n",
    "weather_rating.head()"
   ]
  },
  {
   "cell_type": "raw",
   "id": "f0ca9627",
   "metadata": {},
   "source": [
    "Great work! The ri and weather_rating DataFrames are now ready to be merged."
   ]
  },
  {
   "cell_type": "markdown",
   "id": "7b55ae28",
   "metadata": {},
   "source": [
    "### Merging the DataFrames\n",
    "In this exercise, we'll merge the ri and weather_rating DataFrames into a new DataFrame, ri_weather.\n",
    "\n",
    "The DataFrames will be joined using the stop_date column from ri and the DATE column from weather_rating. Thankfully the date formatting matches exactly, which is not always the case!\n",
    "\n",
    "Once the merge is complete, we'll set stop_datetime as the index, which is the column we saved in the previous exercise."
   ]
  },
  {
   "cell_type": "code",
   "execution_count": 42,
   "id": "eea6108e",
   "metadata": {},
   "outputs": [
    {
     "data": {
      "text/plain": [
       "(86536, 16)"
      ]
     },
     "execution_count": 42,
     "metadata": {},
     "output_type": "execute_result"
    },
    {
     "data": {
      "text/plain": [
       "(86536, 18)"
      ]
     },
     "execution_count": 42,
     "metadata": {},
     "output_type": "execute_result"
    }
   ],
   "source": [
    "# Examine the shape of 'ri'\n",
    "ri.shape\n",
    "\n",
    "# Merge 'ri' and 'weather_rating' using a left join\n",
    "ri_weather = pd.merge(left=ri, right=weather_rating, left_on='stop_date', right_on='DATE', how='inner')\n",
    "\n",
    "# Examine the shape of 'ri_weather'\n",
    "ri_weather.shape\n",
    "\n",
    "# Set 'stop_datetime' as the index of 'ri_weather'\n",
    "ri_weather.set_index('stop_datetime', inplace=True)"
   ]
  },
  {
   "cell_type": "raw",
   "id": "cc291a2c",
   "metadata": {},
   "source": [
    "Fantastic! In the next section, we'll use ri_weather to analyze the relationship between weather conditions and police behavior."
   ]
  },
  {
   "cell_type": "markdown",
   "id": "0f3f5b22",
   "metadata": {},
   "source": [
    "## Does weather affect the arrest rate?\n"
   ]
  },
  {
   "cell_type": "markdown",
   "id": "5eb9fcaa",
   "metadata": {},
   "source": [
    "### Comparing arrest rates by weather rating\n",
    "Do police officers arrest drivers more often when the weather is bad? Find out below!\n",
    "\n",
    "- First, we'll calculate the overall arrest rate.\n",
    "- Then, we'll calculate the arrest rate for each of the weather ratings we previously assigned.\n",
    "- Finally, we'll add violation type as a second factor in the analysis, to see if that accounts for any differences in the arrest rate.  \n",
    "\n",
    "Since we previously defined a logical order for the weather categories, good < bad < worse, they will be sorted that way in the results."
   ]
  },
  {
   "cell_type": "code",
   "execution_count": 43,
   "id": "b97eb37f",
   "metadata": {},
   "outputs": [
    {
     "data": {
      "text/plain": [
       "0.0355690117407784"
      ]
     },
     "execution_count": 43,
     "metadata": {},
     "output_type": "execute_result"
    }
   ],
   "source": [
    "# Calculate the overall arrest rate\n",
    "ri_weather.is_arrested.mean()"
   ]
  },
  {
   "cell_type": "code",
   "execution_count": 44,
   "id": "33864933",
   "metadata": {},
   "outputs": [
    {
     "data": {
      "text/plain": [
       "rating\n",
       "good     0.033715\n",
       "bad      0.036261\n",
       "worse    0.041667\n",
       "Name: is_arrested, dtype: float64"
      ]
     },
     "execution_count": 44,
     "metadata": {},
     "output_type": "execute_result"
    }
   ],
   "source": [
    "# Calculate the arrest rate for each 'rating'\n",
    "ri_weather.groupby('rating').is_arrested.mean()"
   ]
  },
  {
   "cell_type": "code",
   "execution_count": 45,
   "id": "7821b59a",
   "metadata": {},
   "outputs": [
    {
     "data": {
      "text/plain": [
       "violation            rating\n",
       "Equipment            good      0.059007\n",
       "                     bad       0.066311\n",
       "                     worse     0.097357\n",
       "Moving violation     good      0.056227\n",
       "                     bad       0.058050\n",
       "                     worse     0.065860\n",
       "Other                good      0.076966\n",
       "                     bad       0.087443\n",
       "                     worse     0.062893\n",
       "Registration/plates  good      0.081574\n",
       "                     bad       0.098160\n",
       "                     worse     0.115625\n",
       "Seat belt            good      0.028587\n",
       "                     bad       0.022493\n",
       "                     worse     0.000000\n",
       "Speeding             good      0.013405\n",
       "                     bad       0.013314\n",
       "                     worse     0.016886\n",
       "Name: is_arrested, dtype: float64"
      ]
     },
     "execution_count": 45,
     "metadata": {},
     "output_type": "execute_result"
    }
   ],
   "source": [
    "# Calculate the arrest rate for each 'violation' and 'rating'\n",
    "ri_weather.groupby(['violation', 'rating']).is_arrested.mean()"
   ]
  },
  {
   "cell_type": "markdown",
   "id": "c9ba221b",
   "metadata": {},
   "source": [
    "<b> Wow! The arrest rate increases as the weather gets worse, and that trend persists across many of the violation types. This doesn't prove a causal link, but it's quite an interesting result!</b>"
   ]
  },
  {
   "cell_type": "markdown",
   "id": "403d2378",
   "metadata": {},
   "source": [
    "### Selecting from a multi-indexed Series\n",
    "The output of a single .groupby() operation on multiple columns is a Series with a MultiIndex. Working with this type of object is similar to working with a DataFrame:\n",
    "\n",
    "- The outer index level is like the DataFrame rows.\n",
    "- The inner index level is like the DataFrame columns.  \n",
    "\n",
    "In this exercise, we'll practice accessing data from a multi-indexed Series using the .loc[] accessor."
   ]
  },
  {
   "cell_type": "code",
   "execution_count": 46,
   "id": "0f653241",
   "metadata": {},
   "outputs": [
    {
     "data": {
      "text/plain": [
       "violation            rating\n",
       "Equipment            good      0.059007\n",
       "                     bad       0.066311\n",
       "                     worse     0.097357\n",
       "Moving violation     good      0.056227\n",
       "                     bad       0.058050\n",
       "                     worse     0.065860\n",
       "Other                good      0.076966\n",
       "                     bad       0.087443\n",
       "                     worse     0.062893\n",
       "Registration/plates  good      0.081574\n",
       "                     bad       0.098160\n",
       "                     worse     0.115625\n",
       "Seat belt            good      0.028587\n",
       "                     bad       0.022493\n",
       "                     worse     0.000000\n",
       "Speeding             good      0.013405\n",
       "                     bad       0.013314\n",
       "                     worse     0.016886\n",
       "Name: is_arrested, dtype: float64"
      ]
     },
     "execution_count": 46,
     "metadata": {},
     "output_type": "execute_result"
    }
   ],
   "source": [
    "# Save the output of the groupby operation from the last exercise\n",
    "arrest_rate = ri_weather.groupby(['violation', 'rating']).is_arrested.mean()\n",
    "\n",
    "# Print the 'arrest_rate' Series\n",
    "arrest_rate"
   ]
  },
  {
   "cell_type": "code",
   "execution_count": 47,
   "id": "8b311209",
   "metadata": {},
   "outputs": [
    {
     "data": {
      "text/plain": [
       "0.05804964058049641"
      ]
     },
     "execution_count": 47,
     "metadata": {},
     "output_type": "execute_result"
    }
   ],
   "source": [
    "# Print the arrest rate for moving violations in bad weather\n",
    "arrest_rate.loc['Moving violation', 'bad']"
   ]
  },
  {
   "cell_type": "code",
   "execution_count": 48,
   "id": "f778b8e2",
   "metadata": {},
   "outputs": [
    {
     "data": {
      "text/plain": [
       "rating\n",
       "good     0.013405\n",
       "bad      0.013314\n",
       "worse    0.016886\n",
       "Name: is_arrested, dtype: float64"
      ]
     },
     "execution_count": 48,
     "metadata": {},
     "output_type": "execute_result"
    }
   ],
   "source": [
    "# Print the arrest rates for speeding violations in all three weather conditions\n",
    "arrest_rate.loc['Speeding']"
   ]
  },
  {
   "cell_type": "markdown",
   "id": "8d417a60",
   "metadata": {},
   "source": [
    "### Reshaping the arrest rate data\n",
    "In this exercise, we'll start by reshaping the arrest_rate Series into a DataFrame. This is a useful step when working with any multi-indexed Series, since it enables us to access the full range of DataFrame methods.\n",
    "\n",
    "Then, we'll create the exact same DataFrame using a pivot table. This is a great example of how pandas often gives you more than one way to reach the same result!"
   ]
  },
  {
   "cell_type": "code",
   "execution_count": 49,
   "id": "d5b86791",
   "metadata": {},
   "outputs": [
    {
     "data": {
      "text/html": [
       "<div>\n",
       "<style scoped>\n",
       "    .dataframe tbody tr th:only-of-type {\n",
       "        vertical-align: middle;\n",
       "    }\n",
       "\n",
       "    .dataframe tbody tr th {\n",
       "        vertical-align: top;\n",
       "    }\n",
       "\n",
       "    .dataframe thead th {\n",
       "        text-align: right;\n",
       "    }\n",
       "</style>\n",
       "<table border=\"1\" class=\"dataframe\">\n",
       "  <thead>\n",
       "    <tr style=\"text-align: right;\">\n",
       "      <th>rating</th>\n",
       "      <th>good</th>\n",
       "      <th>bad</th>\n",
       "      <th>worse</th>\n",
       "    </tr>\n",
       "    <tr>\n",
       "      <th>violation</th>\n",
       "      <th></th>\n",
       "      <th></th>\n",
       "      <th></th>\n",
       "    </tr>\n",
       "  </thead>\n",
       "  <tbody>\n",
       "    <tr>\n",
       "      <th>Equipment</th>\n",
       "      <td>0.059007</td>\n",
       "      <td>0.066311</td>\n",
       "      <td>0.097357</td>\n",
       "    </tr>\n",
       "    <tr>\n",
       "      <th>Moving violation</th>\n",
       "      <td>0.056227</td>\n",
       "      <td>0.058050</td>\n",
       "      <td>0.065860</td>\n",
       "    </tr>\n",
       "    <tr>\n",
       "      <th>Other</th>\n",
       "      <td>0.076966</td>\n",
       "      <td>0.087443</td>\n",
       "      <td>0.062893</td>\n",
       "    </tr>\n",
       "    <tr>\n",
       "      <th>Registration/plates</th>\n",
       "      <td>0.081574</td>\n",
       "      <td>0.098160</td>\n",
       "      <td>0.115625</td>\n",
       "    </tr>\n",
       "    <tr>\n",
       "      <th>Seat belt</th>\n",
       "      <td>0.028587</td>\n",
       "      <td>0.022493</td>\n",
       "      <td>0.000000</td>\n",
       "    </tr>\n",
       "    <tr>\n",
       "      <th>Speeding</th>\n",
       "      <td>0.013405</td>\n",
       "      <td>0.013314</td>\n",
       "      <td>0.016886</td>\n",
       "    </tr>\n",
       "  </tbody>\n",
       "</table>\n",
       "</div>"
      ],
      "text/plain": [
       "rating                   good       bad     worse\n",
       "violation                                        \n",
       "Equipment            0.059007  0.066311  0.097357\n",
       "Moving violation     0.056227  0.058050  0.065860\n",
       "Other                0.076966  0.087443  0.062893\n",
       "Registration/plates  0.081574  0.098160  0.115625\n",
       "Seat belt            0.028587  0.022493  0.000000\n",
       "Speeding             0.013405  0.013314  0.016886"
      ]
     },
     "execution_count": 49,
     "metadata": {},
     "output_type": "execute_result"
    }
   ],
   "source": [
    "# Unstack the 'arrest_rate' Series into a DataFrame\n",
    "arrest_rate.unstack()"
   ]
  },
  {
   "cell_type": "code",
   "execution_count": 50,
   "id": "8835cd0d",
   "metadata": {},
   "outputs": [
    {
     "data": {
      "text/html": [
       "<div>\n",
       "<style scoped>\n",
       "    .dataframe tbody tr th:only-of-type {\n",
       "        vertical-align: middle;\n",
       "    }\n",
       "\n",
       "    .dataframe tbody tr th {\n",
       "        vertical-align: top;\n",
       "    }\n",
       "\n",
       "    .dataframe thead th {\n",
       "        text-align: right;\n",
       "    }\n",
       "</style>\n",
       "<table border=\"1\" class=\"dataframe\">\n",
       "  <thead>\n",
       "    <tr style=\"text-align: right;\">\n",
       "      <th>rating</th>\n",
       "      <th>good</th>\n",
       "      <th>bad</th>\n",
       "      <th>worse</th>\n",
       "    </tr>\n",
       "    <tr>\n",
       "      <th>violation</th>\n",
       "      <th></th>\n",
       "      <th></th>\n",
       "      <th></th>\n",
       "    </tr>\n",
       "  </thead>\n",
       "  <tbody>\n",
       "    <tr>\n",
       "      <th>Equipment</th>\n",
       "      <td>0.059007</td>\n",
       "      <td>0.066311</td>\n",
       "      <td>0.097357</td>\n",
       "    </tr>\n",
       "    <tr>\n",
       "      <th>Moving violation</th>\n",
       "      <td>0.056227</td>\n",
       "      <td>0.058050</td>\n",
       "      <td>0.065860</td>\n",
       "    </tr>\n",
       "    <tr>\n",
       "      <th>Other</th>\n",
       "      <td>0.076966</td>\n",
       "      <td>0.087443</td>\n",
       "      <td>0.062893</td>\n",
       "    </tr>\n",
       "    <tr>\n",
       "      <th>Registration/plates</th>\n",
       "      <td>0.081574</td>\n",
       "      <td>0.098160</td>\n",
       "      <td>0.115625</td>\n",
       "    </tr>\n",
       "    <tr>\n",
       "      <th>Seat belt</th>\n",
       "      <td>0.028587</td>\n",
       "      <td>0.022493</td>\n",
       "      <td>0.000000</td>\n",
       "    </tr>\n",
       "    <tr>\n",
       "      <th>Speeding</th>\n",
       "      <td>0.013405</td>\n",
       "      <td>0.013314</td>\n",
       "      <td>0.016886</td>\n",
       "    </tr>\n",
       "  </tbody>\n",
       "</table>\n",
       "</div>"
      ],
      "text/plain": [
       "rating                   good       bad     worse\n",
       "violation                                        \n",
       "Equipment            0.059007  0.066311  0.097357\n",
       "Moving violation     0.056227  0.058050  0.065860\n",
       "Other                0.076966  0.087443  0.062893\n",
       "Registration/plates  0.081574  0.098160  0.115625\n",
       "Seat belt            0.028587  0.022493  0.000000\n",
       "Speeding             0.013405  0.013314  0.016886"
      ]
     },
     "execution_count": 50,
     "metadata": {},
     "output_type": "execute_result"
    }
   ],
   "source": [
    "# Create the same DataFrame using a pivot table\n",
    "ri_weather.pivot_table(index='violation', columns='rating', values='is_arrested')"
   ]
  },
  {
   "cell_type": "code",
   "execution_count": null,
   "id": "7aefbd83",
   "metadata": {},
   "outputs": [],
   "source": []
  }
 ],
 "metadata": {
  "kernelspec": {
   "display_name": "Python 3 (ipykernel)",
   "language": "python",
   "name": "python3"
  },
  "language_info": {
   "codemirror_mode": {
    "name": "ipython",
    "version": 3
   },
   "file_extension": ".py",
   "mimetype": "text/x-python",
   "name": "python",
   "nbconvert_exporter": "python",
   "pygments_lexer": "ipython3",
   "version": "3.9.7"
  }
 },
 "nbformat": 4,
 "nbformat_minor": 5
}
