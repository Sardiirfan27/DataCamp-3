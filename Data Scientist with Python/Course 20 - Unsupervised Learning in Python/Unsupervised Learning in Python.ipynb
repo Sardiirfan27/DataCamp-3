{
 "cells": [
  {
   "cell_type": "markdown",
   "id": "2ce465b5",
   "metadata": {},
   "source": [
    "# Chapter 1 - Clustering for dataset exploration"
   ]
  },
  {
   "cell_type": "markdown",
   "id": "b5a88ee0",
   "metadata": {},
   "source": [
    "## Learn how to discover the underlying groups (or \"clusters\") in a dataset. By the end of this chapter, you'll be clustering companies using their stock market prices, and distinguishing different species by clustering their measurements."
   ]
  },
  {
   "cell_type": "markdown",
   "id": "df0b277d",
   "metadata": {},
   "source": [
    "### How many clusters?\n",
    "You are given an array points of size 300x2, where each row gives the (x, y) co-ordinates of a point on a map. Make a scatter plot of these points, and use the scatter plot to guess how many clusters there are.\n",
    "\n",
    "matplotlib.pyplot has already been imported as plt. In the IPython Shell:\n",
    "\n",
    "- Create an array called xs that contains the values of points[:,0] - that is, column 0 of points.\n",
    "- Create an array called ys that contains the values of points[:,1] - that is, column 1 of points.\n",
    "- Make a scatter plot by passing xs and ys to the plt.scatter() function.\n",
    "- Call the plt.show() function to show your plot.  \n",
    "\n",
    "How many clusters do you see?"
   ]
  },
  {
   "cell_type": "code",
   "execution_count": 1,
   "id": "54c487f2",
   "metadata": {},
   "outputs": [],
   "source": [
    "import numpy as np\n",
    "import pandas as pd\n",
    "import matplotlib.pyplot as plt"
   ]
  },
  {
   "cell_type": "code",
   "execution_count": 2,
   "id": "b4634236",
   "metadata": {},
   "outputs": [],
   "source": [
    "points = np. array([[ 0.06544649, -0.76866376],\n",
    "                   [-1.52901547, -0.42953079],\n",
    "                   [ 1.70993371,  0.69885253],\n",
    "                   [ 1.16779145,  1.01262638],\n",
    "                   [-1.80110088, -0.31861296],\n",
    "                   [-1.63567888, -0.02859535],\n",
    "                   [ 1.21990375,  0.74643463],\n",
    "                   [-0.26175155, -0.62492939],\n",
    "                   [-1.61925804, -0.47983949],\n",
    "                   [-1.84329582, -0.16694431],\n",
    "                   [ 1.35999602,  0.94995827],\n",
    "                   [ 0.42291856, -0.7349534 ],\n",
    "                   [-1.68576139,  0.10686728],\n",
    "                   [ 0.90629995,  1.09105162],\n",
    "                   [-1.56478322, -0.84675394],\n",
    "                   [-0.0257849 , -1.18672539],\n",
    "                   [ 0.83027324,  1.14504612],\n",
    "                   [ 1.22450432,  1.35066759],\n",
    "                   [-0.15394596, -0.71704301],\n",
    "                   [ 0.86358809,  1.06824613],\n",
    "                   [-1.43386366, -0.2381297 ],\n",
    "                   [ 0.03844769, -0.74635022],\n",
    "                   [-1.58567922,  0.08499354],\n",
    "                   [ 0.6359888 , -0.58477698],\n",
    "                   [ 0.24417242, -0.53172465],\n",
    "                   [-2.19680359,  0.49473677],\n",
    "                   [ 1.0323503 , -0.55688   ],\n",
    "                   [-0.28858067, -0.39972528],\n",
    "                   [ 0.20597008, -0.80171536],\n",
    "                   [-1.2107308 , -0.34924109],\n",
    "                   [ 1.33423684,  0.7721489 ],\n",
    "                   [ 1.19480152,  1.04788556],\n",
    "                   [ 0.9917477 ,  0.89202008],\n",
    "                   [-1.8356219 , -0.04839732],\n",
    "                   [ 0.08415721, -0.71564326],\n",
    "                   [-1.48970175, -0.19299604],\n",
    "                   [ 0.38782418, -0.82060119],\n",
    "                   [-0.01448044, -0.9779841 ],\n",
    "                   [-2.0521341 , -0.02129125],\n",
    "                   [ 0.10331194, -0.82162781],\n",
    "                   [-0.44189315, -0.65710974],\n",
    "                   [ 1.10390926,  1.02481182],\n",
    "                   [-1.59227759, -0.17374038],\n",
    "                   [-1.47344152, -0.02202853],\n",
    "                   [-1.35514704,  0.22971067],\n",
    "                   [ 0.0412337 , -1.23776622],\n",
    "                   [ 0.4761517 , -1.13672124],\n",
    "                   [ 1.04335676,  0.82345905],\n",
    "                   [-0.07961882, -0.85677394],\n",
    "                   [ 0.87065059,  1.08052841],\n",
    "                   [ 1.40267313,  1.07525119],\n",
    "                   [ 0.80111157,  1.28342825],\n",
    "                   [-0.16527516, -1.23583804],\n",
    "                   [-0.33779221, -0.59194323],\n",
    "                   [ 0.80610749, -0.73752159],\n",
    "                   [-1.43590032, -0.56384446],\n",
    "                   [ 0.54868895, -0.95143829],\n",
    "                   [ 0.46803131, -0.74973907],\n",
    "                   [-1.5137129 , -0.83914323],\n",
    "                   [ 0.9138436 ,  1.51126532],\n",
    "                   [-1.97233903, -0.41155375],\n",
    "                   [ 0.5213406 , -0.88654894],\n",
    "                   [ 0.62759494, -1.18590477],\n",
    "                   [ 0.94163014,  1.35399335],\n",
    "                   [ 0.56994768,  1.07036606],\n",
    "                   [-1.87663382,  0.14745773],\n",
    "                   [ 0.90612186,  0.91084011],\n",
    "                   [-1.37481454,  0.28428395],\n",
    "                   [-1.80564029, -0.96710574],\n",
    "                   [ 0.34307757, -0.79999275],\n",
    "                   [ 0.70380566,  1.00025804],\n",
    "                   [-1.68489862, -0.30564595],\n",
    "                   [ 1.31473221,  0.98614978],\n",
    "                   [ 0.26151216, -0.26069251],\n",
    "                   [ 0.9193121 ,  0.82371485],\n",
    "                   [-1.21795929, -0.20219674],\n",
    "                   [-0.17722723, -1.02665245],\n",
    "                   [ 0.64824862, -0.66822881],\n",
    "                   [ 0.41206786, -0.28783784],\n",
    "                   [ 1.01568202,  1.13481667],\n",
    "                   [ 0.67900254, -0.91489502],\n",
    "                   [-1.05182747, -0.01062376],\n",
    "                   [ 0.61306599,  1.78210384],\n",
    "                   [-1.50219748, -0.52308922],\n",
    "                   [-1.72717293, -0.46173916],\n",
    "                   [-1.60995631, -0.1821007 ],\n",
    "                   [-1.09111021, -0.0781398 ],\n",
    "                   [-0.01046978, -0.80913034],\n",
    "                   [ 0.32782303, -0.80734754],\n",
    "                   [ 1.22038503,  1.1959793 ],\n",
    "                   [-1.33328681, -0.30001937],\n",
    "                   [ 0.87959517,  1.11566491],\n",
    "                   [-1.14829098, -0.30400762],\n",
    "                   [-0.58019755, -1.19996018],\n",
    "                   [-0.01161159, -0.78468854],\n",
    "                   [ 0.17359724, -0.63398145],\n",
    "                   [ 1.32738556,  0.67759969],\n",
    "                   [-1.93467327,  0.30572472],\n",
    "                   [-1.57761893, -0.27726365],\n",
    "                   [ 0.47639   ,  1.21422648],\n",
    "                   [-1.65237509, -0.6803981 ],\n",
    "                   [-0.12609976, -1.04327457],\n",
    "                   [-1.89607082, -0.70085502],\n",
    "                   [ 0.57466899,  0.74878369],\n",
    "                   [-0.16660312, -0.83110295],\n",
    "                   [ 0.8013355 ,  1.22244435],\n",
    "                   [ 1.18455426,  1.4346467 ],\n",
    "                   [ 1.08864428,  0.64667112],\n",
    "                   [-1.61158505,  0.22805725],\n",
    "                   [-1.57512205, -0.09612576],\n",
    "                   [ 0.0721357 , -0.69640328],\n",
    "                   [-1.40054298,  0.16390598],\n",
    "                   [ 1.09607713,  1.16804691],\n",
    "                   [-2.54346204, -0.23089822],\n",
    "                   [-1.34544875,  0.25151126],\n",
    "                   [-1.35478629, -0.19103317],\n",
    "                   [ 0.18368113, -1.15827725],\n",
    "                   [-1.31368677, -0.376357  ],\n",
    "                   [ 0.09990129,  1.22500491],\n",
    "                   [ 1.17225574,  1.30835143],\n",
    "                   [ 0.0865397 , -0.79714371],\n",
    "                   [-0.21053923, -1.13421511],\n",
    "                   [ 0.26496024, -0.94760742],\n",
    "                   [-0.2557591 , -1.06266022],\n",
    "                   [-0.26039757, -0.74774225],\n",
    "                   [-1.91787359,  0.16434571],\n",
    "                   [ 0.93021139,  0.49436331],\n",
    "                   [ 0.44770467, -0.72877918],\n",
    "                   [-1.63802869, -0.58925528],\n",
    "                   [-1.95712763, -0.10125137],\n",
    "                   [ 0.9270337 ,  0.88251423],\n",
    "                   [ 1.25660093,  0.60828073],\n",
    "                   [-1.72818632,  0.08416887],\n",
    "                   [ 0.3499788 , -0.30490298],\n",
    "                   [-1.51696082, -0.50913109],\n",
    "                   [ 0.18763605, -0.55424924],\n",
    "                   [ 0.89609809,  0.83551508],\n",
    "                   [-1.54968857, -0.17114782],\n",
    "                   [ 1.2157457 ,  1.23317728],\n",
    "                   [ 0.20307745, -1.03784906],\n",
    "                   [ 0.84589086,  1.03615273],\n",
    "                   [ 0.53237919,  1.47362884],\n",
    "                   [-0.05319044, -1.36150553],\n",
    "                   [ 1.38819743,  1.11729915],\n",
    "                   [ 1.00696304,  1.0367721 ],\n",
    "                   [ 0.56681869, -1.09637176],\n",
    "                   [ 0.86888296,  1.05248874],\n",
    "                   [-1.16286609, -0.55875245],\n",
    "                   [ 0.27717768, -0.83844015],\n",
    "                   [ 0.16563267, -0.80306607],\n",
    "                   [ 0.38263303, -0.42683241],\n",
    "                   [ 1.14519807,  0.89659026],\n",
    "                   [ 0.81455857,  0.67533667],\n",
    "                   [-1.8603152 , -0.09537561],\n",
    "                   [ 0.965641  ,  0.90295579],\n",
    "                   [-1.49897451, -0.33254044],\n",
    "                   [-0.1335489 , -0.80727582],\n",
    "                   [ 0.12541527, -1.13354906],\n",
    "                   [ 1.06062436,  1.28816358],\n",
    "                   [-1.49154578, -0.2024641 ],\n",
    "                   [ 1.16189032,  1.28819877],\n",
    "                   [ 0.54282033,  0.75203524],\n",
    "                   [ 0.89221065,  0.99211624],\n",
    "                   [-1.49932011, -0.32430667],\n",
    "                   [ 0.3166647 , -1.34482915],\n",
    "                   [ 0.13972469, -1.22097448],\n",
    "                   [-1.5499724 , -0.10782584],\n",
    "                   [ 1.23846858,  1.37668804],\n",
    "                   [ 1.25558954,  0.72026098],\n",
    "                   [ 0.25558689, -1.28529763],\n",
    "                   [ 0.45168933, -0.55952093],\n",
    "                   [ 1.06202057,  1.03404604],\n",
    "                   [ 0.67451908, -0.54970299],\n",
    "                   [ 0.22759676, -1.02729468],\n",
    "                   [-1.45835281, -0.04951074],\n",
    "                   [ 0.23273501, -0.70849262],\n",
    "                   [ 1.59679589,  1.11395076],\n",
    "                   [ 0.80476105,  0.544627  ],\n",
    "                   [ 1.15492521,  1.04352191],\n",
    "                   [ 0.59632776, -1.19142897],\n",
    "                   [ 0.02839068, -0.43829366],\n",
    "                   [ 1.13451584,  0.5632633 ],\n",
    "                   [ 0.21576204, -1.04445753],\n",
    "                   [ 1.41048987,  1.02830719],\n",
    "                   [ 1.12289302,  0.58029441],\n",
    "                   [ 0.25200688, -0.82588436],\n",
    "                   [-1.28566081, -0.07390909],\n",
    "                   [ 1.52849815,  1.11822469],\n",
    "                   [-0.23907858, -0.70541972],\n",
    "                   [-0.25792784, -0.81825035],\n",
    "                   [ 0.59367818, -0.45239915],\n",
    "                   [ 0.07931909, -0.29233213],\n",
    "                   [-1.27256815,  0.11630577],\n",
    "                   [ 0.66930129,  1.00731481],\n",
    "                   [ 0.34791546, -1.20822877],\n",
    "                   [-2.11283993, -0.66897935],\n",
    "                   [-1.6293824 , -0.32718222],\n",
    "                   [-1.53819139, -0.01501972],\n",
    "                   [-0.11988545, -0.6036339 ],\n",
    "                   [-1.54418956, -0.30389844],\n",
    "                   [ 0.30026614, -0.77723173],\n",
    "                   [ 0.00935449, -0.53888192],\n",
    "                   [-1.33424393, -0.11560431],\n",
    "                   [ 0.47504489,  0.78421384],\n",
    "                   [ 0.59313264,  1.232239  ],\n",
    "                   [ 0.41370369, -1.35205857],\n",
    "                   [ 0.55840948,  0.78831053],\n",
    "                   [ 0.49855018, -0.789949  ],\n",
    "                   [ 0.35675809, -0.81038693],\n",
    "                   [-1.86197825, -0.59071305],\n",
    "                   [-1.61977671, -0.16076687],\n",
    "                   [ 0.80779295, -0.73311294],\n",
    "                   [ 1.62745775,  0.62787163],\n",
    "                   [-1.56993593, -0.08467567],\n",
    "                   [ 1.02558561,  0.89383302],\n",
    "                   [ 0.24293461, -0.6088253 ],\n",
    "                   [ 1.23130242,  1.00262186],\n",
    "                   [-1.9651013 , -0.15886289],\n",
    "                   [ 0.42795032, -0.70384432],\n",
    "                   [-1.58306818, -0.19431923],\n",
    "                   [-1.57195922,  0.01413469],\n",
    "                   [-0.98145373,  0.06132285],\n",
    "                   [-1.48637844, -0.5746531 ],\n",
    "                   [ 0.98745828,  0.69188053],\n",
    "                   [ 1.28619721,  1.28128821],\n",
    "                   [ 0.85850596,  0.95541481],\n",
    "                   [ 0.19028286, -0.82112942],\n",
    "                   [ 0.26561046, -0.04255239],\n",
    "                   [-1.61897897,  0.00862372],\n",
    "                   [ 0.24070183, -0.52664209],\n",
    "                   [ 1.15220993,  0.43916694],\n",
    "                   [-1.21967812, -0.2580313 ],\n",
    "                   [ 0.33412533, -0.86117761],\n",
    "                   [ 0.17131003, -0.75638965],\n",
    "                   [-1.19828397, -0.73744665],\n",
    "                   [-0.12245932, -0.45648879],\n",
    "                   [ 1.51200698,  0.88825741],\n",
    "                   [ 1.10338866,  0.92347479],\n",
    "                   [ 1.30972095,  0.59066989],\n",
    "                   [ 0.19964876,  1.14855889],\n",
    "                   [ 0.81460515,  0.84538972],\n",
    "                   [-1.6422739 , -0.42296206],\n",
    "                   [ 0.01224351, -0.21247816],\n",
    "                   [ 0.33709102, -0.74618065],\n",
    "                   [ 0.47301054,  0.72712075],\n",
    "                   [ 0.34706626,  1.23033757],\n",
    "                   [-0.00393279, -0.97209694],\n",
    "                   [-1.64303119,  0.05276337],\n",
    "                   [ 1.44649625,  1.14217033],\n",
    "                   [-1.93030087, -0.40026146],\n",
    "                   [-2.37296135, -0.72633645],\n",
    "                   [ 0.45860122, -1.06048953],\n",
    "                   [ 0.4896361 , -1.18928313],\n",
    "                   [-1.02335902, -0.17520578],\n",
    "                   [-1.32761107, -0.93963549],\n",
    "                   [-1.50987909, -0.09473658],\n",
    "                   [ 0.02723057, -0.79870549],\n",
    "                   [ 1.0169412 ,  1.26461701],\n",
    "                   [ 0.47733527, -0.9898471 ],\n",
    "                   [-1.27784224, -0.547416  ],\n",
    "                   [ 0.49898802, -0.6237259 ],\n",
    "                   [ 1.06004731,  0.86870008],\n",
    "                   [ 1.00207501,  1.38293512],\n",
    "                   [ 1.31161394,  0.62833956],\n",
    "                   [ 1.13428443,  1.18346542],\n",
    "                   [ 1.27671346,  0.96632878],\n",
    "                   [-0.63342885, -0.97768251],\n",
    "                   [ 0.12698779, -0.93142317],\n",
    "                   [-1.34510812, -0.23754226],\n",
    "                   [-0.53162278, -1.25153594],\n",
    "                   [ 0.21959934, -0.90269938],\n",
    "                   [-1.78997479, -0.12115748],\n",
    "                   [ 1.23197473, -0.07453764],\n",
    "                   [ 1.4163536 ,  1.21551752],\n",
    "                   [-1.90280976, -0.1638976 ],\n",
    "                   [-0.22440081, -0.75454248],\n",
    "                   [ 0.59559412,  0.92414553],\n",
    "                   [ 1.21930773,  1.08175284],\n",
    "                   [-1.99427535, -0.37587799],\n",
    "                   [-1.27818474, -0.52454551],\n",
    "                   [ 0.62352689, -1.01430108],\n",
    "                   [ 0.14024251, -0.428266  ],\n",
    "                   [-0.16145713, -1.16359731],\n",
    "                   [-1.74795865, -0.06033101],\n",
    "                   [-1.16659791,  0.0902393 ],\n",
    "                   [ 0.41110408, -0.8084249 ],\n",
    "                   [ 1.14757168,  0.77804528],\n",
    "                   [-1.65590748, -0.40105446],\n",
    "                   [-1.15306865,  0.00858699],\n",
    "                   [ 0.60892121,  0.68974833],\n",
    "                   [-0.08434138, -0.97615256],\n",
    "                   [ 0.19170053, -0.42331438],\n",
    "                   [ 0.29663162, -1.13357399],\n",
    "                   [-1.36893628, -0.25052124],\n",
    "                   [-0.08037807, -0.56784155],\n",
    "                   [ 0.35695011, -1.15064408],\n",
    "                   [ 0.02482179, -0.63594828],\n",
    "                   [-1.49075558, -0.2482507 ],\n",
    "                   [-1.408588  ,  0.25635431],\n",
    "                   [-1.98274626, -0.54584475]])"
   ]
  },
  {
   "cell_type": "code",
   "execution_count": 3,
   "id": "864a6f8d",
   "metadata": {},
   "outputs": [],
   "source": [
    "xs = points[:, 0]\n",
    "ys = points[:, 1]"
   ]
  },
  {
   "cell_type": "code",
   "execution_count": 4,
   "id": "b0168438",
   "metadata": {},
   "outputs": [
    {
     "data": {
      "text/plain": [
       "<matplotlib.collections.PathCollection at 0x1cad139fd60>"
      ]
     },
     "execution_count": 4,
     "metadata": {},
     "output_type": "execute_result"
    },
    {
     "data": {
      "image/png": "[encoded data removed]",
      "text/plain": [
       "<Figure size 432x288 with 1 Axes>"
      ]
     },
     "metadata": {
      "needs_background": "light"
     },
     "output_type": "display_data"
    }
   ],
   "source": [
    "plt.scatter(xs, ys)"
   ]
  },
  {
   "cell_type": "raw",
   "id": "42f41d8c",
   "metadata": {},
   "source": [
    "The scatter plot suggests that there are 3 distinct clusters."
   ]
  },
  {
   "cell_type": "markdown",
   "id": "3870be8e",
   "metadata": {},
   "source": [
    "### Clustering 2D points\n",
    "From the scatter plot of the previous exercise, you saw that the points seem to separate into 3 clusters. You'll now create a KMeans model to find 3 clusters, and fit it to the data points from the previous exercise. After the model has been fit, you'll obtain the cluster labels for some new points using the .predict() method.\n",
    "\n",
    "You are given the array points from the previous exercise, and also an array new_points."
   ]
  },
  {
   "cell_type": "code",
   "execution_count": 5,
   "id": "123dcb67",
   "metadata": {},
   "outputs": [],
   "source": [
    "new_points = np.array([[ 0.40023333, -1.26544471],\n",
    "       [ 0.80323037,  1.28260167],\n",
    "       [-1.39507552,  0.05572929],\n",
    "       [-0.34119268, -1.07661994],\n",
    "       [ 1.54781747,  1.40250049],\n",
    "       [ 0.24503202, -0.48344233],\n",
    "       [ 1.20706886,  0.88875261],\n",
    "       [ 1.25132628,  1.15555395],\n",
    "       [ 1.81004415,  0.96553073],\n",
    "       [-1.66963401, -0.30810351],\n",
    "       [-0.07174821, -0.9379397 ],\n",
    "       [ 0.68263193,  1.1025816 ],\n",
    "       [ 1.09039598,  1.43899529],\n",
    "       [-1.67645414, -0.50455705],\n",
    "       [-1.84447804,  0.04525395],\n",
    "       [ 1.24234851,  1.02088661],\n",
    "       [-1.86147041,  0.00638646],\n",
    "       [-1.46044943,  0.15325238],\n",
    "       [ 0.49898182,  0.89800606],\n",
    "       [ 0.98396224,  1.04369375],\n",
    "       [-1.83136742, -0.16363284],\n",
    "       [ 1.30622617,  1.07658717],\n",
    "       [ 0.35342033, -0.75132022],\n",
    "       [ 1.1395797 ,  1.5450386 ],\n",
    "       [ 0.29399569, -1.26135005],\n",
    "       [-1.14558225, -0.03787096],\n",
    "       [ 1.18716105,  0.60024066],\n",
    "       [-2.23211946,  0.23047509],\n",
    "       [-1.2832043 , -0.39331457],\n",
    "       [ 0.4942967 , -0.88397201],\n",
    "       [ 0.06318349, -0.91195223],\n",
    "       [ 0.93575954,  0.86682068],\n",
    "       [ 1.58014721,  1.03788392],\n",
    "       [ 1.0630496 ,  1.02706082],\n",
    "       [-1.39732536, -0.50516225],\n",
    "       [-0.10993524, -0.90811362],\n",
    "       [ 1.17346758,  0.94750109],\n",
    "       [ 0.92008451,  1.45767672],\n",
    "       [ 0.58265896, -0.90008683],\n",
    "       [ 0.95277233,  0.89904239],\n",
    "       [-1.37266956, -0.03178782],\n",
    "       [ 0.02127068, -0.70761419],\n",
    "       [ 0.32704905, -0.55599811],\n",
    "       [-1.71590267,  0.21522227],\n",
    "       [ 0.51251621, -0.76012825],\n",
    "       [ 1.13023469,  0.72245112],\n",
    "       [-1.4307431 , -0.34278751],\n",
    "       [-1.82724625,  0.11765777],\n",
    "       [ 1.4180135 ,  1.1145508 ],\n",
    "       [ 1.26897304,  1.41925971],\n",
    "       [ 0.80407649,  1.63988557],\n",
    "       [ 0.83456775,  1.09956689],\n",
    "       [-1.24714732, -0.22352232],\n",
    "       [-1.29422537,  0.081877  ],\n",
    "       [-0.22737832, -0.41333139],\n",
    "       [ 0.21883039, -0.46818312],\n",
    "       [-1.22593414,  0.25559915],\n",
    "       [-1.31294033, -0.42889207],\n",
    "       [-1.33532382,  0.65205378],\n",
    "       [-0.30110023, -1.25156451],\n",
    "       [ 0.20277836, -0.90527744],\n",
    "       [ 1.01357784,  1.12378981],\n",
    "       [ 0.81832439,  0.86084126],\n",
    "       [ 1.26181556,  1.46613744],\n",
    "       [ 0.46486772, -0.79721246],\n",
    "       [ 0.3609089 ,  0.84410672],\n",
    "       [-2.1509831 , -0.36958394],\n",
    "       [ 1.05005281,  0.87418136],\n",
    "       [ 0.10658007, -0.74926815],\n",
    "       [-1.73945723,  0.25218358],\n",
    "       [-0.11201769, -0.65246979],\n",
    "       [ 0.51661895, -0.64126758],\n",
    "       [ 0.32662179, -0.88060801],\n",
    "       [ 1.09017759,  1.10952558],\n",
    "       [ 0.36445958, -0.69421562],\n",
    "       [-1.90779318,  0.18738367],\n",
    "       [-1.95601829,  0.13995913],\n",
    "       [ 0.3185417 , -0.4052717 ],\n",
    "       [ 0.7365127 ,  1.76416255],\n",
    "       [-1.44175162, -0.05723204],\n",
    "       [ 0.32175717, -0.53428382],\n",
    "       [-1.37317305,  0.04644846],\n",
    "       [ 0.06872259, -1.10522944],\n",
    "       [ 0.95931422,  0.65231621],\n",
    "       [-1.62641919, -0.56242328],\n",
    "       [ 1.06788305,  0.72926048],\n",
    "       [-1.79643547, -0.98830742],\n",
    "       [-0.09886284, -0.06811981],\n",
    "       [-0.1051357 ,  1.17022143],\n",
    "       [ 0.8799647 ,  1.25340317],\n",
    "       [ 0.98075341,  1.15486539],\n",
    "       [-0.0833225 , -0.92484437],\n",
    "       [ 0.84875967,  1.09397425],\n",
    "       [ 1.32941649,  1.13734563],\n",
    "       [ 0.32378807, -0.74973245],\n",
    "       [-1.5261097 , -0.24901693],\n",
    "       [-1.48598116, -0.26882861],\n",
    "       [-1.80479553,  0.1870527 ],\n",
    "       [-2.01907347, -0.44951165],\n",
    "       [ 0.2872024 , -0.65548741]])"
   ]
  },
  {
   "cell_type": "code",
   "execution_count": 7,
   "id": "21b159be",
   "metadata": {},
   "outputs": [
    {
     "data": {
      "text/plain": [
       "array([0, 1, 2, 0, 1, 0, 1, 1, 1, 2, 0, 1, 1, 2, 2, 1, 2, 2, 1, 1, 2, 1,\n",
       "       0, 1, 0, 2, 1, 2, 2, 0, 0, 1, 1, 1, 2, 0, 1, 1, 0, 1, 2, 0, 0, 2,\n",
       "       0, 1, 2, 2, 1, 1, 1, 1, 2, 2, 0, 0, 2, 2, 2, 0, 0, 1, 1, 1, 0, 1,\n",
       "       2, 1, 0, 2, 0, 0, 0, 1, 0, 2, 2, 0, 1, 2, 0, 2, 0, 1, 2, 1, 2, 0,\n",
       "       1, 1, 1, 0, 1, 1, 0, 2, 2, 2, 2, 0])"
      ]
     },
     "execution_count": 7,
     "metadata": {},
     "output_type": "execute_result"
    }
   ],
   "source": [
    "# Import KMeans\n",
    "from sklearn.cluster import KMeans\n",
    "\n",
    "# Create a KMeans instance with 3 clusters: model\n",
    "model = KMeans(n_clusters = 3)\n",
    "\n",
    "# Fit model to points\n",
    "model.fit(points)\n",
    "\n",
    "# Determine the cluster labels of new_points: labels\n",
    "labels = model.predict(new_points)\n",
    "\n",
    "# Print cluster labels of new_points\n",
    "labels"
   ]
  },
  {
   "cell_type": "raw",
   "id": "0a2897fd",
   "metadata": {},
   "source": [
    "Great work! You've successfully performed k-Means clustering and predicted the labels of new points. But it is not easy to inspect the clustering by just looking at the printed labels. A visualization would be far more useful. In the next exercise, you'll inspect your clustering with a scatter plot!"
   ]
  },
  {
   "cell_type": "markdown",
   "id": "5230951d",
   "metadata": {},
   "source": [
    "### Inspect your clustering\n",
    "Let's now inspect the clustering you performed in the previous exercise!\n",
    "\n",
    "A solution to the previous exercise has already run, so new_points is an array of points and labels is the array of their cluster labels."
   ]
  },
  {
   "cell_type": "code",
   "execution_count": 8,
   "id": "7dc129b3",
   "metadata": {},
   "outputs": [
    {
     "data": {
      "text/plain": [
       "<matplotlib.collections.PathCollection at 0x1cad3440fd0>"
      ]
     },
     "execution_count": 8,
     "metadata": {},
     "output_type": "execute_result"
    },
    {
     "data": {
      "image/png": "[encoded data removed]",
      "text/plain": [
       "<Figure size 432x288 with 1 Axes>"
      ]
     },
     "metadata": {
      "needs_background": "light"
     },
     "output_type": "display_data"
    }
   ],
   "source": [
    "# Assign the columns of new_points: xs and ys\n",
    "xs = new_points[:, 0]\n",
    "ys = new_points[:, 1]\n",
    "\n",
    "# Make a scatter plot of xs and ys, using labels to define the colors\n",
    "plt.scatter(xs, ys, c = labels, alpha = 0.5)\n",
    "\n",
    "# Assign the cluster centers: centroids\n",
    "centroids = model.cluster_centers_\n",
    "\n",
    "# Assign the columns of centroids: centroids_x, centroids_y\n",
    "centroids_x = centroids[:,0]\n",
    "centroids_y = centroids[:,1]\n",
    "\n",
    "# Make a scatter plot of centroids_x and centroids_y\n",
    "plt.scatter(centroids_x, centroids_y, marker = 'D', s = 50)"
   ]
  },
  {
   "cell_type": "code",
   "execution_count": 9,
   "id": "bd4c09bc",
   "metadata": {},
   "outputs": [
    {
     "data": {
      "text/plain": [
       "array([ 0.18034887,  1.01378685, -1.57568905])"
      ]
     },
     "execution_count": 9,
     "metadata": {},
     "output_type": "execute_result"
    }
   ],
   "source": [
    "centroids_x"
   ]
  },
  {
   "cell_type": "code",
   "execution_count": 10,
   "id": "942b6092",
   "metadata": {},
   "outputs": [
    {
     "data": {
      "text/plain": [
       "array([[ 0.18034887, -0.81701955],\n",
       "       [ 1.01378685,  0.98288627],\n",
       "       [-1.57568905, -0.22531944]])"
      ]
     },
     "execution_count": 10,
     "metadata": {},
     "output_type": "execute_result"
    }
   ],
   "source": [
    "centroids"
   ]
  },
  {
   "cell_type": "raw",
   "id": "37141311",
   "metadata": {},
   "source": [
    "Fantastic! The clustering looks great! But how can you be sure that 3 clusters is the correct choice? In other words, how can you evaluate the quality of a clustering?"
   ]
  },
  {
   "cell_type": "markdown",
   "id": "3a4a7dc4",
   "metadata": {},
   "source": [
    "## Evaluating a clustering\n",
    "\n",
    "### How many clusters of grain?\n",
    "In the video, you learned how to choose a good number of clusters for a dataset using the k-means inertia graph. You are given an array samples containing the measurements (such as area, perimeter, length, and several others) of samples of grain. What's a good number of clusters in this case?\n",
    "\n",
    "KMeans and PyPlot (plt) have already been imported for you.\n",
    "\n",
    "This dataset was sourced from the [UCI Machine Learning Repository](https://archive.ics.uci.edu/ml/datasets/seeds)."
   ]
  },
  {
   "cell_type": "code",
   "execution_count": 11,
   "id": "430e0fb2",
   "metadata": {},
   "outputs": [
    {
     "data": {
      "text/html": [
       "<div>\n",
       "<style scoped>\n",
       "    .dataframe tbody tr th:only-of-type {\n",
       "        vertical-align: middle;\n",
       "    }\n",
       "\n",
       "    .dataframe tbody tr th {\n",
       "        vertical-align: top;\n",
       "    }\n",
       "\n",
       "    .dataframe thead th {\n",
       "        text-align: right;\n",
       "    }\n",
       "</style>\n",
       "<table border=\"1\" class=\"dataframe\">\n",
       "  <thead>\n",
       "    <tr style=\"text-align: right;\">\n",
       "      <th></th>\n",
       "      <th>0</th>\n",
       "      <th>1</th>\n",
       "      <th>2</th>\n",
       "      <th>3</th>\n",
       "      <th>4</th>\n",
       "      <th>5</th>\n",
       "      <th>6</th>\n",
       "      <th>7</th>\n",
       "    </tr>\n",
       "  </thead>\n",
       "  <tbody>\n",
       "    <tr>\n",
       "      <th>0</th>\n",
       "      <td>15.26</td>\n",
       "      <td>14.84</td>\n",
       "      <td>0.8710</td>\n",
       "      <td>5.763</td>\n",
       "      <td>3.312</td>\n",
       "      <td>2.221</td>\n",
       "      <td>5.220</td>\n",
       "      <td>1</td>\n",
       "    </tr>\n",
       "    <tr>\n",
       "      <th>1</th>\n",
       "      <td>14.88</td>\n",
       "      <td>14.57</td>\n",
       "      <td>0.8811</td>\n",
       "      <td>5.554</td>\n",
       "      <td>3.333</td>\n",
       "      <td>1.018</td>\n",
       "      <td>4.956</td>\n",
       "      <td>1</td>\n",
       "    </tr>\n",
       "    <tr>\n",
       "      <th>2</th>\n",
       "      <td>14.29</td>\n",
       "      <td>14.09</td>\n",
       "      <td>0.9050</td>\n",
       "      <td>5.291</td>\n",
       "      <td>3.337</td>\n",
       "      <td>2.699</td>\n",
       "      <td>4.825</td>\n",
       "      <td>1</td>\n",
       "    </tr>\n",
       "    <tr>\n",
       "      <th>3</th>\n",
       "      <td>13.84</td>\n",
       "      <td>13.94</td>\n",
       "      <td>0.8955</td>\n",
       "      <td>5.324</td>\n",
       "      <td>3.379</td>\n",
       "      <td>2.259</td>\n",
       "      <td>4.805</td>\n",
       "      <td>1</td>\n",
       "    </tr>\n",
       "    <tr>\n",
       "      <th>4</th>\n",
       "      <td>16.14</td>\n",
       "      <td>14.99</td>\n",
       "      <td>0.9034</td>\n",
       "      <td>5.658</td>\n",
       "      <td>3.562</td>\n",
       "      <td>1.355</td>\n",
       "      <td>5.175</td>\n",
       "      <td>1</td>\n",
       "    </tr>\n",
       "  </tbody>\n",
       "</table>\n",
       "</div>"
      ],
      "text/plain": [
       "       0      1       2      3      4      5      6  7\n",
       "0  15.26  14.84  0.8710  5.763  3.312  2.221  5.220  1\n",
       "1  14.88  14.57  0.8811  5.554  3.333  1.018  4.956  1\n",
       "2  14.29  14.09  0.9050  5.291  3.337  2.699  4.825  1\n",
       "3  13.84  13.94  0.8955  5.324  3.379  2.259  4.805  1\n",
       "4  16.14  14.99  0.9034  5.658  3.562  1.355  5.175  1"
      ]
     },
     "execution_count": 11,
     "metadata": {},
     "output_type": "execute_result"
    }
   ],
   "source": [
    "samples = pd.read_csv('Grains/seeds.csv', header = None)\n",
    "samples.head()"
   ]
  },
  {
   "cell_type": "code",
   "execution_count": 12,
   "id": "76316545",
   "metadata": {},
   "outputs": [],
   "source": [
    "varieties = samples.iloc[:,7]"
   ]
  },
  {
   "cell_type": "code",
   "execution_count": 13,
   "id": "528ed6d6",
   "metadata": {},
   "outputs": [],
   "source": [
    "varieties = varieties.map({1:'Kama wheat', 2:'Rosa wheat', 3:'Canadian wheat'}).values"
   ]
  },
  {
   "cell_type": "code",
   "execution_count": 14,
   "id": "1fe74975",
   "metadata": {},
   "outputs": [],
   "source": [
    "samples = samples.iloc[:, :-1].values"
   ]
  },
  {
   "cell_type": "code",
   "execution_count": 15,
   "id": "7d5b337b",
   "metadata": {},
   "outputs": [
    {
     "data": {
      "text/plain": [
       "array([[15.26  , 14.84  ,  0.871 , ...,  3.312 ,  2.221 ,  5.22  ],\n",
       "       [14.88  , 14.57  ,  0.8811, ...,  3.333 ,  1.018 ,  4.956 ],\n",
       "       [14.29  , 14.09  ,  0.905 , ...,  3.337 ,  2.699 ,  4.825 ],\n",
       "       ...,\n",
       "       [13.2   , 13.66  ,  0.8883, ...,  3.232 ,  8.315 ,  5.056 ],\n",
       "       [11.84  , 13.21  ,  0.8521, ...,  2.836 ,  3.598 ,  5.044 ],\n",
       "       [12.3   , 13.34  ,  0.8684, ...,  2.974 ,  5.637 ,  5.063 ]])"
      ]
     },
     "execution_count": 15,
     "metadata": {},
     "output_type": "execute_result"
    }
   ],
   "source": [
    "samples"
   ]
  },
  {
   "cell_type": "code",
   "execution_count": 16,
   "id": "7a8a36ba",
   "metadata": {},
   "outputs": [
    {
     "data": {
      "image/png": "[encoded data removed]",
      "text/plain": [
       "<Figure size 432x288 with 1 Axes>"
      ]
     },
     "metadata": {
      "needs_background": "light"
     },
     "output_type": "display_data"
    }
   ],
   "source": [
    "ks = range(1, 6)\n",
    "inertias = []\n",
    "\n",
    "for k in ks:\n",
    "    # Create a KMeans instance with k clusters: model\n",
    "    model = KMeans(n_clusters = k)\n",
    "    \n",
    "    # Fit model to samples\n",
    "    model.fit(samples)\n",
    "    \n",
    "    # Append the inertia to the list of inertias\n",
    "    inertias.append(model.inertia_)\n",
    "    \n",
    "# Plot ks vs inertias\n",
    "plt.plot(ks, inertias, '-o')\n",
    "plt.xlabel('number of clusters, k')\n",
    "plt.ylabel('inertia')\n",
    "plt.xticks(ks)\n",
    "plt.show()"
   ]
  },
  {
   "cell_type": "raw",
   "id": "3e36fb09",
   "metadata": {},
   "source": [
    "Excellent job! The inertia decreases very slowly from 3 clusters to 4, so it looks like 3 clusters would be a good choice for this data."
   ]
  },
  {
   "cell_type": "markdown",
   "id": "12a7c1c6",
   "metadata": {},
   "source": [
    "### Evaluating the grain clustering\n",
    "In the previous exercise, you observed from the inertia plot that 3 is a good number of clusters for the grain data. In fact, the grain samples come from a mix of 3 different grain varieties: \"Kama\", \"Rosa\" and \"Canadian\". In this exercise, cluster the grain samples into three clusters, and compare the clusters to the grain varieties using a cross-tabulation.\n",
    "\n",
    "You have the array samples of grain samples, and a list varieties giving the grain variety for each sample."
   ]
  },
  {
   "cell_type": "code",
   "execution_count": 17,
   "id": "ce875e6e",
   "metadata": {},
   "outputs": [
    {
     "data": {
      "text/plain": [
       "210"
      ]
     },
     "execution_count": 17,
     "metadata": {},
     "output_type": "execute_result"
    }
   ],
   "source": [
    "len(samples)"
   ]
  },
  {
   "cell_type": "code",
   "execution_count": 18,
   "id": "a550c189",
   "metadata": {},
   "outputs": [
    {
     "data": {
      "text/html": [
       "<div>\n",
       "<style scoped>\n",
       "    .dataframe tbody tr th:only-of-type {\n",
       "        vertical-align: middle;\n",
       "    }\n",
       "\n",
       "    .dataframe tbody tr th {\n",
       "        vertical-align: top;\n",
       "    }\n",
       "\n",
       "    .dataframe thead th {\n",
       "        text-align: right;\n",
       "    }\n",
       "</style>\n",
       "<table border=\"1\" class=\"dataframe\">\n",
       "  <thead>\n",
       "    <tr style=\"text-align: right;\">\n",
       "      <th>varieties</th>\n",
       "      <th>Canadian wheat</th>\n",
       "      <th>Kama wheat</th>\n",
       "      <th>Rosa wheat</th>\n",
       "    </tr>\n",
       "    <tr>\n",
       "      <th>labels</th>\n",
       "      <th></th>\n",
       "      <th></th>\n",
       "      <th></th>\n",
       "    </tr>\n",
       "  </thead>\n",
       "  <tbody>\n",
       "    <tr>\n",
       "      <th>0</th>\n",
       "      <td>0</td>\n",
       "      <td>1</td>\n",
       "      <td>60</td>\n",
       "    </tr>\n",
       "    <tr>\n",
       "      <th>1</th>\n",
       "      <td>2</td>\n",
       "      <td>60</td>\n",
       "      <td>10</td>\n",
       "    </tr>\n",
       "    <tr>\n",
       "      <th>2</th>\n",
       "      <td>68</td>\n",
       "      <td>9</td>\n",
       "      <td>0</td>\n",
       "    </tr>\n",
       "  </tbody>\n",
       "</table>\n",
       "</div>"
      ],
      "text/plain": [
       "varieties  Canadian wheat  Kama wheat  Rosa wheat\n",
       "labels                                           \n",
       "0                       0           1          60\n",
       "1                       2          60          10\n",
       "2                      68           9           0"
      ]
     },
     "execution_count": 18,
     "metadata": {},
     "output_type": "execute_result"
    }
   ],
   "source": [
    "# Create a KMeans model with 3 clusters: model\n",
    "model = KMeans(n_clusters = 3)\n",
    "\n",
    "# Use fit_predict to fit model and obtain cluster labels: labels\n",
    "labels = model.fit_predict(samples)\n",
    "\n",
    "# Create a DataFrame with labels and varieties as columns: df\n",
    "df = pd.DataFrame({'labels': labels, 'varieties': varieties})\n",
    "\n",
    "# Create crosstab: ct\n",
    "ct = pd.crosstab(df['labels'], df['varieties'])\n",
    "# Display ct\n",
    "ct"
   ]
  },
  {
   "cell_type": "raw",
   "id": "534265ab",
   "metadata": {},
   "source": [
    "Great work! The cross-tabulation shows that the 3 varieties of grain separate really well into 3 clusters. But depending on the type of data you are working with, the clustering may not always be this good. Is there anything you can do in such situations to improve your clustering?"
   ]
  },
  {
   "cell_type": "markdown",
   "id": "2874ce36",
   "metadata": {},
   "source": [
    "### Scaling fish data for clustering\n",
    "You are given an array samples giving measurements of fish. Each row represents an individual fish. The measurements, such as weight in grams, length in centimeters, and the percentage ratio of height to length, have very different scales. In order to cluster this data effectively, you'll need to standardize these features first. In this exercise, you'll build a pipeline to standardize and cluster the data.\n",
    "\n",
    "These fish measurement data were sourced from the [Journal of Statistics Education](http://jse.amstat.org/jse_data_archive.htm)."
   ]
  },
  {
   "cell_type": "code",
   "execution_count": 19,
   "id": "fb217dce",
   "metadata": {},
   "outputs": [
    {
     "data": {
      "text/html": [
       "<div>\n",
       "<style scoped>\n",
       "    .dataframe tbody tr th:only-of-type {\n",
       "        vertical-align: middle;\n",
       "    }\n",
       "\n",
       "    .dataframe tbody tr th {\n",
       "        vertical-align: top;\n",
       "    }\n",
       "\n",
       "    .dataframe thead th {\n",
       "        text-align: right;\n",
       "    }\n",
       "</style>\n",
       "<table border=\"1\" class=\"dataframe\">\n",
       "  <thead>\n",
       "    <tr style=\"text-align: right;\">\n",
       "      <th></th>\n",
       "      <th>0</th>\n",
       "      <th>1</th>\n",
       "      <th>2</th>\n",
       "      <th>3</th>\n",
       "      <th>4</th>\n",
       "      <th>5</th>\n",
       "      <th>6</th>\n",
       "    </tr>\n",
       "  </thead>\n",
       "  <tbody>\n",
       "    <tr>\n",
       "      <th>0</th>\n",
       "      <td>Bream</td>\n",
       "      <td>242.0</td>\n",
       "      <td>23.2</td>\n",
       "      <td>25.4</td>\n",
       "      <td>30.0</td>\n",
       "      <td>38.4</td>\n",
       "      <td>13.4</td>\n",
       "    </tr>\n",
       "    <tr>\n",
       "      <th>1</th>\n",
       "      <td>Bream</td>\n",
       "      <td>290.0</td>\n",
       "      <td>24.0</td>\n",
       "      <td>26.3</td>\n",
       "      <td>31.2</td>\n",
       "      <td>40.0</td>\n",
       "      <td>13.8</td>\n",
       "    </tr>\n",
       "    <tr>\n",
       "      <th>2</th>\n",
       "      <td>Bream</td>\n",
       "      <td>340.0</td>\n",
       "      <td>23.9</td>\n",
       "      <td>26.5</td>\n",
       "      <td>31.1</td>\n",
       "      <td>39.8</td>\n",
       "      <td>15.1</td>\n",
       "    </tr>\n",
       "    <tr>\n",
       "      <th>3</th>\n",
       "      <td>Bream</td>\n",
       "      <td>363.0</td>\n",
       "      <td>26.3</td>\n",
       "      <td>29.0</td>\n",
       "      <td>33.5</td>\n",
       "      <td>38.0</td>\n",
       "      <td>13.3</td>\n",
       "    </tr>\n",
       "    <tr>\n",
       "      <th>4</th>\n",
       "      <td>Bream</td>\n",
       "      <td>430.0</td>\n",
       "      <td>26.5</td>\n",
       "      <td>29.0</td>\n",
       "      <td>34.0</td>\n",
       "      <td>36.6</td>\n",
       "      <td>15.1</td>\n",
       "    </tr>\n",
       "  </tbody>\n",
       "</table>\n",
       "</div>"
      ],
      "text/plain": [
       "       0      1     2     3     4     5     6\n",
       "0  Bream  242.0  23.2  25.4  30.0  38.4  13.4\n",
       "1  Bream  290.0  24.0  26.3  31.2  40.0  13.8\n",
       "2  Bream  340.0  23.9  26.5  31.1  39.8  15.1\n",
       "3  Bream  363.0  26.3  29.0  33.5  38.0  13.3\n",
       "4  Bream  430.0  26.5  29.0  34.0  36.6  15.1"
      ]
     },
     "execution_count": 19,
     "metadata": {},
     "output_type": "execute_result"
    }
   ],
   "source": [
    "fish_df = pd.read_csv('fish.csv', header = None)\n",
    "fish_df.head()"
   ]
  },
  {
   "cell_type": "code",
   "execution_count": 20,
   "id": "b6dd333b",
   "metadata": {},
   "outputs": [],
   "source": [
    "samples = fish_df.iloc[:, 1:].values"
   ]
  },
  {
   "cell_type": "markdown",
   "id": "0794f072",
   "metadata": {},
   "source": [
    "__Instructions__\n",
    "- Import:\n",
    "  - make_pipeline from sklearn.pipeline.\n",
    "  - StandardScaler from sklearn.preprocessing.\n",
    "  - KMeans from sklearn.cluster.\n",
    "- Create an instance of StandardScaler called scaler.\n",
    "- Create an instance of KMeans with 4 clusters called kmeans.\n",
    "- Create a pipeline called pipeline that chains scaler and kmeans. To do this, you just need to pass them in as arguments to make_pipeline()"
   ]
  },
  {
   "cell_type": "code",
   "execution_count": 21,
   "id": "315bb3ae",
   "metadata": {},
   "outputs": [],
   "source": [
    "# Perform the necessary imports\n",
    "from sklearn.pipeline import make_pipeline\n",
    "from sklearn.preprocessing import StandardScaler\n",
    "from sklearn.cluster import KMeans\n",
    "\n",
    "# Create scaler: scaler\n",
    "scaler = StandardScaler()\n",
    "\n",
    "# Create KMeans instance: kmeans\n",
    "kmeans = KMeans(n_clusters = 4)\n",
    "\n",
    "# Create pipeline: pipeline\n",
    "pipeline = make_pipeline(scaler, kmeans)"
   ]
  },
  {
   "cell_type": "raw",
   "id": "eb6306d7",
   "metadata": {},
   "source": [
    "Great work! Now that you've built the pipeline, you'll use it in the next exercise to cluster the fish by their measurements."
   ]
  },
  {
   "cell_type": "markdown",
   "id": "ce37b95b",
   "metadata": {},
   "source": [
    "### Clustering the fish data\n",
    "You'll now use your standardization and clustering pipeline from the previous exercise to cluster the fish by their measurements, and then create a cross-tabulation to compare the cluster labels with the fish species.\n",
    "\n",
    "As before, samples is the 2D array of fish measurements. Your pipeline is available as pipeline, and the species of every fish sample is given by the list species."
   ]
  },
  {
   "cell_type": "code",
   "execution_count": 22,
   "id": "ecd78e6d",
   "metadata": {},
   "outputs": [],
   "source": [
    "species = fish_df[0].values"
   ]
  },
  {
   "cell_type": "code",
   "execution_count": 23,
   "id": "5c50df5d",
   "metadata": {},
   "outputs": [
    {
     "data": {
      "text/plain": [
       "array(['Bream', 'Bream', 'Bream', 'Bream', 'Bream', 'Bream', 'Bream',\n",
       "       'Bream', 'Bream', 'Bream', 'Bream', 'Bream', 'Bream', 'Bream',\n",
       "       'Bream', 'Bream', 'Bream', 'Bream', 'Bream', 'Bream', 'Bream',\n",
       "       'Bream', 'Bream', 'Bream', 'Bream', 'Bream', 'Bream', 'Bream',\n",
       "       'Bream', 'Bream', 'Bream', 'Bream', 'Bream', 'Bream', 'Roach',\n",
       "       'Roach', 'Roach', 'Roach', 'Roach', 'Roach', 'Roach', 'Roach',\n",
       "       'Roach', 'Roach', 'Roach', 'Roach', 'Roach', 'Roach', 'Roach',\n",
       "       'Roach', 'Roach', 'Roach', 'Roach', 'Roach', 'Smelt', 'Smelt',\n",
       "       'Smelt', 'Smelt', 'Smelt', 'Smelt', 'Smelt', 'Smelt', 'Smelt',\n",
       "       'Smelt', 'Smelt', 'Smelt', 'Smelt', 'Smelt', 'Pike', 'Pike',\n",
       "       'Pike', 'Pike', 'Pike', 'Pike', 'Pike', 'Pike', 'Pike', 'Pike',\n",
       "       'Pike', 'Pike', 'Pike', 'Pike', 'Pike', 'Pike', 'Pike'],\n",
       "      dtype=object)"
      ]
     },
     "execution_count": 23,
     "metadata": {},
     "output_type": "execute_result"
    }
   ],
   "source": [
    "species"
   ]
  },
  {
   "cell_type": "code",
   "execution_count": 24,
   "id": "74b0abe8",
   "metadata": {},
   "outputs": [
    {
     "data": {
      "text/html": [
       "<div>\n",
       "<style scoped>\n",
       "    .dataframe tbody tr th:only-of-type {\n",
       "        vertical-align: middle;\n",
       "    }\n",
       "\n",
       "    .dataframe tbody tr th {\n",
       "        vertical-align: top;\n",
       "    }\n",
       "\n",
       "    .dataframe thead th {\n",
       "        text-align: right;\n",
       "    }\n",
       "</style>\n",
       "<table border=\"1\" class=\"dataframe\">\n",
       "  <thead>\n",
       "    <tr style=\"text-align: right;\">\n",
       "      <th>species</th>\n",
       "      <th>Bream</th>\n",
       "      <th>Pike</th>\n",
       "      <th>Roach</th>\n",
       "      <th>Smelt</th>\n",
       "    </tr>\n",
       "    <tr>\n",
       "      <th>labels</th>\n",
       "      <th></th>\n",
       "      <th></th>\n",
       "      <th></th>\n",
       "      <th></th>\n",
       "    </tr>\n",
       "  </thead>\n",
       "  <tbody>\n",
       "    <tr>\n",
       "      <th>0</th>\n",
       "      <td>1</td>\n",
       "      <td>0</td>\n",
       "      <td>19</td>\n",
       "      <td>1</td>\n",
       "    </tr>\n",
       "    <tr>\n",
       "      <th>1</th>\n",
       "      <td>0</td>\n",
       "      <td>17</td>\n",
       "      <td>0</td>\n",
       "      <td>0</td>\n",
       "    </tr>\n",
       "    <tr>\n",
       "      <th>2</th>\n",
       "      <td>33</td>\n",
       "      <td>0</td>\n",
       "      <td>1</td>\n",
       "      <td>0</td>\n",
       "    </tr>\n",
       "    <tr>\n",
       "      <th>3</th>\n",
       "      <td>0</td>\n",
       "      <td>0</td>\n",
       "      <td>0</td>\n",
       "      <td>13</td>\n",
       "    </tr>\n",
       "  </tbody>\n",
       "</table>\n",
       "</div>"
      ],
      "text/plain": [
       "species  Bream  Pike  Roach  Smelt\n",
       "labels                            \n",
       "0            1     0     19      1\n",
       "1            0    17      0      0\n",
       "2           33     0      1      0\n",
       "3            0     0      0     13"
      ]
     },
     "execution_count": 24,
     "metadata": {},
     "output_type": "execute_result"
    }
   ],
   "source": [
    "# Fit the pipeline to samples\n",
    "pipeline.fit(samples)\n",
    "\n",
    "# Calculate the cluster labels: labels\n",
    "labels = pipeline.predict(samples)\n",
    "\n",
    "# Create a DataFrame with labels and species as columns: df\n",
    "df = pd.DataFrame({'labels':labels, 'species':species})\n",
    "\n",
    "# Create crosstab: ct\n",
    "ct = pd.crosstab(df['labels'], df['species'])\n",
    "\n",
    "# Display ct\n",
    "ct"
   ]
  },
  {
   "cell_type": "raw",
   "id": "dfc2be9e",
   "metadata": {},
   "source": [
    "Excellent! It looks like the fish data separates really well into 4 clusters!"
   ]
  },
  {
   "cell_type": "markdown",
   "id": "ac9e9d25",
   "metadata": {},
   "source": [
    "### Clustering stocks using KMeans\n",
    "In this exercise, you'll cluster companies using their daily stock price movements (i.e. the dollar difference between the closing and opening prices for each trading day). You are given a NumPy array movements of daily price movements from 2010 to 2015 (obtained from Yahoo! Finance), where each row corresponds to a company, and each column corresponds to a trading day.\n",
    "\n",
    "Some stocks are more expensive than others. To account for this, include a Normalizer at the beginning of your pipeline. The Normalizer will separately transform each company's stock price to a relative scale before the clustering begins.\n",
    "\n",
    "Note that Normalizer() is different to StandardScaler(), which you used in the previous exercise. While StandardScaler() standardizes features (such as the features of the fish data from the previous exercise) by removing the mean and scaling to unit variance, Normalizer() rescales each sample - here, each company's stock price - independently of the other."
   ]
  },
  {
   "cell_type": "code",
   "execution_count": 25,
   "id": "39bab6e3",
   "metadata": {},
   "outputs": [
    {
     "data": {
      "text/html": [
       "<div>\n",
       "<style scoped>\n",
       "    .dataframe tbody tr th:only-of-type {\n",
       "        vertical-align: middle;\n",
       "    }\n",
       "\n",
       "    .dataframe tbody tr th {\n",
       "        vertical-align: top;\n",
       "    }\n",
       "\n",
       "    .dataframe thead th {\n",
       "        text-align: right;\n",
       "    }\n",
       "</style>\n",
       "<table border=\"1\" class=\"dataframe\">\n",
       "  <thead>\n",
       "    <tr style=\"text-align: right;\">\n",
       "      <th></th>\n",
       "      <th>Unnamed: 0</th>\n",
       "      <th>2010-01-04</th>\n",
       "      <th>2010-01-05</th>\n",
       "      <th>2010-01-06</th>\n",
       "      <th>2010-01-07</th>\n",
       "      <th>2010-01-08</th>\n",
       "      <th>2010-01-11</th>\n",
       "      <th>2010-01-12</th>\n",
       "      <th>2010-01-13</th>\n",
       "      <th>2010-01-14</th>\n",
       "      <th>...</th>\n",
       "      <th>2013-10-16</th>\n",
       "      <th>2013-10-17</th>\n",
       "      <th>2013-10-18</th>\n",
       "      <th>2013-10-21</th>\n",
       "      <th>2013-10-22</th>\n",
       "      <th>2013-10-23</th>\n",
       "      <th>2013-10-24</th>\n",
       "      <th>2013-10-25</th>\n",
       "      <th>2013-10-28</th>\n",
       "      <th>2013-10-29</th>\n",
       "    </tr>\n",
       "  </thead>\n",
       "  <tbody>\n",
       "    <tr>\n",
       "      <th>0</th>\n",
       "      <td>Apple</td>\n",
       "      <td>0.580000</td>\n",
       "      <td>-0.220005</td>\n",
       "      <td>-3.409998</td>\n",
       "      <td>-1.170000</td>\n",
       "      <td>1.680011</td>\n",
       "      <td>-2.689994</td>\n",
       "      <td>-1.469994</td>\n",
       "      <td>2.779997</td>\n",
       "      <td>-0.680003</td>\n",
       "      <td>...</td>\n",
       "      <td>0.320008</td>\n",
       "      <td>4.519997</td>\n",
       "      <td>2.899987</td>\n",
       "      <td>9.590019</td>\n",
       "      <td>-6.540016</td>\n",
       "      <td>5.959976</td>\n",
       "      <td>6.910011</td>\n",
       "      <td>-5.359962</td>\n",
       "      <td>0.840019</td>\n",
       "      <td>-19.589981</td>\n",
       "    </tr>\n",
       "    <tr>\n",
       "      <th>1</th>\n",
       "      <td>AIG</td>\n",
       "      <td>-0.640002</td>\n",
       "      <td>-0.650000</td>\n",
       "      <td>-0.210001</td>\n",
       "      <td>-0.420000</td>\n",
       "      <td>0.710001</td>\n",
       "      <td>-0.200001</td>\n",
       "      <td>-1.130001</td>\n",
       "      <td>0.069999</td>\n",
       "      <td>-0.119999</td>\n",
       "      <td>...</td>\n",
       "      <td>0.919998</td>\n",
       "      <td>0.709999</td>\n",
       "      <td>0.119999</td>\n",
       "      <td>-0.480000</td>\n",
       "      <td>0.010002</td>\n",
       "      <td>-0.279998</td>\n",
       "      <td>-0.190003</td>\n",
       "      <td>-0.040001</td>\n",
       "      <td>-0.400002</td>\n",
       "      <td>0.660000</td>\n",
       "    </tr>\n",
       "    <tr>\n",
       "      <th>2</th>\n",
       "      <td>Amazon</td>\n",
       "      <td>-2.350006</td>\n",
       "      <td>1.260009</td>\n",
       "      <td>-2.350006</td>\n",
       "      <td>-2.009995</td>\n",
       "      <td>2.960006</td>\n",
       "      <td>-2.309997</td>\n",
       "      <td>-1.640007</td>\n",
       "      <td>1.209999</td>\n",
       "      <td>-1.790001</td>\n",
       "      <td>...</td>\n",
       "      <td>2.109985</td>\n",
       "      <td>3.699982</td>\n",
       "      <td>9.570008</td>\n",
       "      <td>-3.450013</td>\n",
       "      <td>4.820008</td>\n",
       "      <td>-4.079986</td>\n",
       "      <td>2.579986</td>\n",
       "      <td>4.790009</td>\n",
       "      <td>-1.760009</td>\n",
       "      <td>3.740021</td>\n",
       "    </tr>\n",
       "    <tr>\n",
       "      <th>3</th>\n",
       "      <td>American express</td>\n",
       "      <td>0.109997</td>\n",
       "      <td>0.000000</td>\n",
       "      <td>0.260002</td>\n",
       "      <td>0.720002</td>\n",
       "      <td>0.190003</td>\n",
       "      <td>-0.270001</td>\n",
       "      <td>0.750000</td>\n",
       "      <td>0.300004</td>\n",
       "      <td>0.639999</td>\n",
       "      <td>...</td>\n",
       "      <td>0.680001</td>\n",
       "      <td>2.290001</td>\n",
       "      <td>0.409996</td>\n",
       "      <td>-0.069999</td>\n",
       "      <td>0.100006</td>\n",
       "      <td>0.069999</td>\n",
       "      <td>0.130005</td>\n",
       "      <td>1.849999</td>\n",
       "      <td>0.040001</td>\n",
       "      <td>0.540001</td>\n",
       "    </tr>\n",
       "    <tr>\n",
       "      <th>4</th>\n",
       "      <td>Boeing</td>\n",
       "      <td>0.459999</td>\n",
       "      <td>1.770000</td>\n",
       "      <td>1.549999</td>\n",
       "      <td>2.690003</td>\n",
       "      <td>0.059997</td>\n",
       "      <td>-1.080002</td>\n",
       "      <td>0.360000</td>\n",
       "      <td>0.549999</td>\n",
       "      <td>0.530002</td>\n",
       "      <td>...</td>\n",
       "      <td>1.559997</td>\n",
       "      <td>2.480003</td>\n",
       "      <td>0.019997</td>\n",
       "      <td>-1.220001</td>\n",
       "      <td>0.480003</td>\n",
       "      <td>3.020004</td>\n",
       "      <td>-0.029999</td>\n",
       "      <td>1.940002</td>\n",
       "      <td>1.130005</td>\n",
       "      <td>0.309998</td>\n",
       "    </tr>\n",
       "  </tbody>\n",
       "</table>\n",
       "<p>5 rows × 964 columns</p>\n",
       "</div>"
      ],
      "text/plain": [
       "         Unnamed: 0  2010-01-04  2010-01-05  2010-01-06  2010-01-07  \\\n",
       "0             Apple    0.580000   -0.220005   -3.409998   -1.170000   \n",
       "1               AIG   -0.640002   -0.650000   -0.210001   -0.420000   \n",
       "2            Amazon   -2.350006    1.260009   -2.350006   -2.009995   \n",
       "3  American express    0.109997    0.000000    0.260002    0.720002   \n",
       "4            Boeing    0.459999    1.770000    1.549999    2.690003   \n",
       "\n",
       "   2010-01-08  2010-01-11  2010-01-12  2010-01-13  2010-01-14  ...  \\\n",
       "0    1.680011   -2.689994   -1.469994    2.779997   -0.680003  ...   \n",
       "1    0.710001   -0.200001   -1.130001    0.069999   -0.119999  ...   \n",
       "2    2.960006   -2.309997   -1.640007    1.209999   -1.790001  ...   \n",
       "3    0.190003   -0.270001    0.750000    0.300004    0.639999  ...   \n",
       "4    0.059997   -1.080002    0.360000    0.549999    0.530002  ...   \n",
       "\n",
       "   2013-10-16  2013-10-17  2013-10-18  2013-10-21  2013-10-22  2013-10-23  \\\n",
       "0    0.320008    4.519997    2.899987    9.590019   -6.540016    5.959976   \n",
       "1    0.919998    0.709999    0.119999   -0.480000    0.010002   -0.279998   \n",
       "2    2.109985    3.699982    9.570008   -3.450013    4.820008   -4.079986   \n",
       "3    0.680001    2.290001    0.409996   -0.069999    0.100006    0.069999   \n",
       "4    1.559997    2.480003    0.019997   -1.220001    0.480003    3.020004   \n",
       "\n",
       "   2013-10-24  2013-10-25  2013-10-28  2013-10-29  \n",
       "0    6.910011   -5.359962    0.840019  -19.589981  \n",
       "1   -0.190003   -0.040001   -0.400002    0.660000  \n",
       "2    2.579986    4.790009   -1.760009    3.740021  \n",
       "3    0.130005    1.849999    0.040001    0.540001  \n",
       "4   -0.029999    1.940002    1.130005    0.309998  \n",
       "\n",
       "[5 rows x 964 columns]"
      ]
     },
     "execution_count": 25,
     "metadata": {},
     "output_type": "execute_result"
    }
   ],
   "source": [
    "movements_df = pd.read_csv('company-stock-movements-2010-2015-incl.csv')\n",
    "movements_df.head()"
   ]
  },
  {
   "cell_type": "code",
   "execution_count": 26,
   "id": "4560d07b",
   "metadata": {},
   "outputs": [],
   "source": [
    "movements = movements_df.iloc[:, 1:].values"
   ]
  },
  {
   "cell_type": "code",
   "execution_count": 27,
   "id": "209fb4b8",
   "metadata": {},
   "outputs": [
    {
     "data": {
      "text/plain": [
       "Pipeline(steps=[('normalizer', Normalizer()),\n",
       "                ('kmeans', KMeans(n_clusters=10))])"
      ]
     },
     "execution_count": 27,
     "metadata": {},
     "output_type": "execute_result"
    }
   ],
   "source": [
    "# Import Normalizer\n",
    "from sklearn.preprocessing import Normalizer\n",
    "\n",
    "# Create a normalizer: normalizer\n",
    "normalizer = Normalizer()\n",
    "\n",
    "# Create a KMeans model with 10 clusters: kmeans\n",
    "kmeans = KMeans(n_clusters = 10)\n",
    "\n",
    "# Make a pipeline chaining normalizer and kmeans: pipeline\n",
    "pipeline = make_pipeline(normalizer, kmeans)\n",
    "\n",
    "# Fit pipeline to the daily price movements\n",
    "pipeline.fit(movements)"
   ]
  },
  {
   "cell_type": "raw",
   "id": "add06582",
   "metadata": {},
   "source": [
    "Great work - you're really getting the hang of this. Now that your pipeline has been set up, you can find out which stocks move together in the next exercise!"
   ]
  },
  {
   "cell_type": "markdown",
   "id": "54b0abe4",
   "metadata": {},
   "source": [
    "### Which stocks move together?\n",
    "In the previous exercise, you clustered companies by their daily stock price movements. So which company have stock prices that tend to change in the same way? You'll now inspect the cluster labels from your clustering to find out.\n"
   ]
  },
  {
   "cell_type": "code",
   "execution_count": 28,
   "id": "1371d199",
   "metadata": {},
   "outputs": [],
   "source": [
    "companies = movements_df.iloc[:, 0].values"
   ]
  },
  {
   "cell_type": "code",
   "execution_count": 29,
   "id": "eb8a2e21",
   "metadata": {},
   "outputs": [
    {
     "data": {
      "text/plain": [
       "array(['Apple', 'AIG', 'Amazon', 'American express', 'Boeing',\n",
       "       'Bank of America', 'British American Tobacco', 'Canon',\n",
       "       'Caterpillar', 'Colgate-Palmolive', 'ConocoPhillips', 'Cisco',\n",
       "       'Chevron', 'DuPont de Nemours', 'Dell', 'Ford',\n",
       "       'General Electrics', 'Google/Alphabet', 'Goldman Sachs',\n",
       "       'GlaxoSmithKline', 'Home Depot', 'Honda', 'HP', 'IBM', 'Intel',\n",
       "       'Johnson & Johnson', 'JPMorgan Chase', 'Kimberly-Clark',\n",
       "       'Coca Cola', 'Lookheed Martin', 'MasterCard', 'McDonalds', '3M',\n",
       "       'Microsoft', 'Mitsubishi', 'Navistar', 'Northrop Grumman',\n",
       "       'Novartis', 'Pepsi', 'Pfizer', 'Procter Gamble', 'Philip Morris',\n",
       "       'Royal Dutch Shell', 'SAP', 'Schlumberger', 'Sony',\n",
       "       'Sanofi-Aventis', 'Symantec', 'Toyota', 'Total',\n",
       "       'Taiwan Semiconductor Manufacturing', 'Texas instruments',\n",
       "       'Unilever', 'Valero Energy', 'Walgreen', 'Wells Fargo', 'Wal-Mart',\n",
       "       'Exxon', 'Xerox', 'Yahoo'], dtype=object)"
      ]
     },
     "execution_count": 29,
     "metadata": {},
     "output_type": "execute_result"
    }
   ],
   "source": [
    "companies"
   ]
  },
  {
   "cell_type": "code",
   "execution_count": 30,
   "id": "83320c3c",
   "metadata": {},
   "outputs": [
    {
     "data": {
      "text/html": [
       "<div>\n",
       "<style scoped>\n",
       "    .dataframe tbody tr th:only-of-type {\n",
       "        vertical-align: middle;\n",
       "    }\n",
       "\n",
       "    .dataframe tbody tr th {\n",
       "        vertical-align: top;\n",
       "    }\n",
       "\n",
       "    .dataframe thead th {\n",
       "        text-align: right;\n",
       "    }\n",
       "</style>\n",
       "<table border=\"1\" class=\"dataframe\">\n",
       "  <thead>\n",
       "    <tr style=\"text-align: right;\">\n",
       "      <th></th>\n",
       "      <th>labels</th>\n",
       "      <th>companies</th>\n",
       "    </tr>\n",
       "  </thead>\n",
       "  <tbody>\n",
       "    <tr>\n",
       "      <th>8</th>\n",
       "      <td>0</td>\n",
       "      <td>Caterpillar</td>\n",
       "    </tr>\n",
       "    <tr>\n",
       "      <th>57</th>\n",
       "      <td>0</td>\n",
       "      <td>Exxon</td>\n",
       "    </tr>\n",
       "    <tr>\n",
       "      <th>53</th>\n",
       "      <td>0</td>\n",
       "      <td>Valero Energy</td>\n",
       "    </tr>\n",
       "    <tr>\n",
       "      <th>12</th>\n",
       "      <td>0</td>\n",
       "      <td>Chevron</td>\n",
       "    </tr>\n",
       "    <tr>\n",
       "      <th>35</th>\n",
       "      <td>0</td>\n",
       "      <td>Navistar</td>\n",
       "    </tr>\n",
       "    <tr>\n",
       "      <th>10</th>\n",
       "      <td>0</td>\n",
       "      <td>ConocoPhillips</td>\n",
       "    </tr>\n",
       "    <tr>\n",
       "      <th>44</th>\n",
       "      <td>0</td>\n",
       "      <td>Schlumberger</td>\n",
       "    </tr>\n",
       "    <tr>\n",
       "      <th>23</th>\n",
       "      <td>1</td>\n",
       "      <td>IBM</td>\n",
       "    </tr>\n",
       "    <tr>\n",
       "      <th>43</th>\n",
       "      <td>1</td>\n",
       "      <td>SAP</td>\n",
       "    </tr>\n",
       "    <tr>\n",
       "      <th>0</th>\n",
       "      <td>1</td>\n",
       "      <td>Apple</td>\n",
       "    </tr>\n",
       "    <tr>\n",
       "      <th>47</th>\n",
       "      <td>1</td>\n",
       "      <td>Symantec</td>\n",
       "    </tr>\n",
       "    <tr>\n",
       "      <th>2</th>\n",
       "      <td>1</td>\n",
       "      <td>Amazon</td>\n",
       "    </tr>\n",
       "    <tr>\n",
       "      <th>17</th>\n",
       "      <td>1</td>\n",
       "      <td>Google/Alphabet</td>\n",
       "    </tr>\n",
       "    <tr>\n",
       "      <th>45</th>\n",
       "      <td>2</td>\n",
       "      <td>Sony</td>\n",
       "    </tr>\n",
       "    <tr>\n",
       "      <th>48</th>\n",
       "      <td>2</td>\n",
       "      <td>Toyota</td>\n",
       "    </tr>\n",
       "    <tr>\n",
       "      <th>34</th>\n",
       "      <td>2</td>\n",
       "      <td>Mitsubishi</td>\n",
       "    </tr>\n",
       "    <tr>\n",
       "      <th>30</th>\n",
       "      <td>2</td>\n",
       "      <td>MasterCard</td>\n",
       "    </tr>\n",
       "    <tr>\n",
       "      <th>21</th>\n",
       "      <td>2</td>\n",
       "      <td>Honda</td>\n",
       "    </tr>\n",
       "    <tr>\n",
       "      <th>59</th>\n",
       "      <td>2</td>\n",
       "      <td>Yahoo</td>\n",
       "    </tr>\n",
       "    <tr>\n",
       "      <th>15</th>\n",
       "      <td>2</td>\n",
       "      <td>Ford</td>\n",
       "    </tr>\n",
       "    <tr>\n",
       "      <th>7</th>\n",
       "      <td>2</td>\n",
       "      <td>Canon</td>\n",
       "    </tr>\n",
       "    <tr>\n",
       "      <th>19</th>\n",
       "      <td>3</td>\n",
       "      <td>GlaxoSmithKline</td>\n",
       "    </tr>\n",
       "    <tr>\n",
       "      <th>54</th>\n",
       "      <td>3</td>\n",
       "      <td>Walgreen</td>\n",
       "    </tr>\n",
       "    <tr>\n",
       "      <th>52</th>\n",
       "      <td>3</td>\n",
       "      <td>Unilever</td>\n",
       "    </tr>\n",
       "    <tr>\n",
       "      <th>49</th>\n",
       "      <td>3</td>\n",
       "      <td>Total</td>\n",
       "    </tr>\n",
       "    <tr>\n",
       "      <th>46</th>\n",
       "      <td>3</td>\n",
       "      <td>Sanofi-Aventis</td>\n",
       "    </tr>\n",
       "    <tr>\n",
       "      <th>6</th>\n",
       "      <td>3</td>\n",
       "      <td>British American Tobacco</td>\n",
       "    </tr>\n",
       "    <tr>\n",
       "      <th>42</th>\n",
       "      <td>3</td>\n",
       "      <td>Royal Dutch Shell</td>\n",
       "    </tr>\n",
       "    <tr>\n",
       "      <th>37</th>\n",
       "      <td>3</td>\n",
       "      <td>Novartis</td>\n",
       "    </tr>\n",
       "    <tr>\n",
       "      <th>39</th>\n",
       "      <td>3</td>\n",
       "      <td>Pfizer</td>\n",
       "    </tr>\n",
       "    <tr>\n",
       "      <th>9</th>\n",
       "      <td>4</td>\n",
       "      <td>Colgate-Palmolive</td>\n",
       "    </tr>\n",
       "    <tr>\n",
       "      <th>27</th>\n",
       "      <td>4</td>\n",
       "      <td>Kimberly-Clark</td>\n",
       "    </tr>\n",
       "    <tr>\n",
       "      <th>56</th>\n",
       "      <td>4</td>\n",
       "      <td>Wal-Mart</td>\n",
       "    </tr>\n",
       "    <tr>\n",
       "      <th>40</th>\n",
       "      <td>4</td>\n",
       "      <td>Procter Gamble</td>\n",
       "    </tr>\n",
       "    <tr>\n",
       "      <th>25</th>\n",
       "      <td>4</td>\n",
       "      <td>Johnson &amp; Johnson</td>\n",
       "    </tr>\n",
       "    <tr>\n",
       "      <th>26</th>\n",
       "      <td>5</td>\n",
       "      <td>JPMorgan Chase</td>\n",
       "    </tr>\n",
       "    <tr>\n",
       "      <th>18</th>\n",
       "      <td>5</td>\n",
       "      <td>Goldman Sachs</td>\n",
       "    </tr>\n",
       "    <tr>\n",
       "      <th>5</th>\n",
       "      <td>5</td>\n",
       "      <td>Bank of America</td>\n",
       "    </tr>\n",
       "    <tr>\n",
       "      <th>20</th>\n",
       "      <td>6</td>\n",
       "      <td>Home Depot</td>\n",
       "    </tr>\n",
       "    <tr>\n",
       "      <th>55</th>\n",
       "      <td>6</td>\n",
       "      <td>Wells Fargo</td>\n",
       "    </tr>\n",
       "    <tr>\n",
       "      <th>13</th>\n",
       "      <td>6</td>\n",
       "      <td>DuPont de Nemours</td>\n",
       "    </tr>\n",
       "    <tr>\n",
       "      <th>32</th>\n",
       "      <td>6</td>\n",
       "      <td>3M</td>\n",
       "    </tr>\n",
       "    <tr>\n",
       "      <th>1</th>\n",
       "      <td>6</td>\n",
       "      <td>AIG</td>\n",
       "    </tr>\n",
       "    <tr>\n",
       "      <th>58</th>\n",
       "      <td>6</td>\n",
       "      <td>Xerox</td>\n",
       "    </tr>\n",
       "    <tr>\n",
       "      <th>3</th>\n",
       "      <td>6</td>\n",
       "      <td>American express</td>\n",
       "    </tr>\n",
       "    <tr>\n",
       "      <th>16</th>\n",
       "      <td>6</td>\n",
       "      <td>General Electrics</td>\n",
       "    </tr>\n",
       "    <tr>\n",
       "      <th>4</th>\n",
       "      <td>7</td>\n",
       "      <td>Boeing</td>\n",
       "    </tr>\n",
       "    <tr>\n",
       "      <th>29</th>\n",
       "      <td>7</td>\n",
       "      <td>Lookheed Martin</td>\n",
       "    </tr>\n",
       "    <tr>\n",
       "      <th>36</th>\n",
       "      <td>7</td>\n",
       "      <td>Northrop Grumman</td>\n",
       "    </tr>\n",
       "    <tr>\n",
       "      <th>41</th>\n",
       "      <td>8</td>\n",
       "      <td>Philip Morris</td>\n",
       "    </tr>\n",
       "    <tr>\n",
       "      <th>38</th>\n",
       "      <td>8</td>\n",
       "      <td>Pepsi</td>\n",
       "    </tr>\n",
       "    <tr>\n",
       "      <th>28</th>\n",
       "      <td>8</td>\n",
       "      <td>Coca Cola</td>\n",
       "    </tr>\n",
       "    <tr>\n",
       "      <th>31</th>\n",
       "      <td>8</td>\n",
       "      <td>McDonalds</td>\n",
       "    </tr>\n",
       "    <tr>\n",
       "      <th>22</th>\n",
       "      <td>9</td>\n",
       "      <td>HP</td>\n",
       "    </tr>\n",
       "    <tr>\n",
       "      <th>50</th>\n",
       "      <td>9</td>\n",
       "      <td>Taiwan Semiconductor Manufacturing</td>\n",
       "    </tr>\n",
       "    <tr>\n",
       "      <th>51</th>\n",
       "      <td>9</td>\n",
       "      <td>Texas instruments</td>\n",
       "    </tr>\n",
       "    <tr>\n",
       "      <th>11</th>\n",
       "      <td>9</td>\n",
       "      <td>Cisco</td>\n",
       "    </tr>\n",
       "    <tr>\n",
       "      <th>33</th>\n",
       "      <td>9</td>\n",
       "      <td>Microsoft</td>\n",
       "    </tr>\n",
       "    <tr>\n",
       "      <th>24</th>\n",
       "      <td>9</td>\n",
       "      <td>Intel</td>\n",
       "    </tr>\n",
       "    <tr>\n",
       "      <th>14</th>\n",
       "      <td>9</td>\n",
       "      <td>Dell</td>\n",
       "    </tr>\n",
       "  </tbody>\n",
       "</table>\n",
       "</div>"
      ],
      "text/plain": [
       "    labels                           companies\n",
       "8        0                         Caterpillar\n",
       "57       0                               Exxon\n",
       "53       0                       Valero Energy\n",
       "12       0                             Chevron\n",
       "35       0                            Navistar\n",
       "10       0                      ConocoPhillips\n",
       "44       0                        Schlumberger\n",
       "23       1                                 IBM\n",
       "43       1                                 SAP\n",
       "0        1                               Apple\n",
       "47       1                            Symantec\n",
       "2        1                              Amazon\n",
       "17       1                     Google/Alphabet\n",
       "45       2                                Sony\n",
       "48       2                              Toyota\n",
       "34       2                          Mitsubishi\n",
       "30       2                          MasterCard\n",
       "21       2                               Honda\n",
       "59       2                               Yahoo\n",
       "15       2                                Ford\n",
       "7        2                               Canon\n",
       "19       3                     GlaxoSmithKline\n",
       "54       3                            Walgreen\n",
       "52       3                            Unilever\n",
       "49       3                               Total\n",
       "46       3                      Sanofi-Aventis\n",
       "6        3            British American Tobacco\n",
       "42       3                   Royal Dutch Shell\n",
       "37       3                            Novartis\n",
       "39       3                              Pfizer\n",
       "9        4                   Colgate-Palmolive\n",
       "27       4                      Kimberly-Clark\n",
       "56       4                            Wal-Mart\n",
       "40       4                      Procter Gamble\n",
       "25       4                   Johnson & Johnson\n",
       "26       5                      JPMorgan Chase\n",
       "18       5                       Goldman Sachs\n",
       "5        5                     Bank of America\n",
       "20       6                          Home Depot\n",
       "55       6                         Wells Fargo\n",
       "13       6                   DuPont de Nemours\n",
       "32       6                                  3M\n",
       "1        6                                 AIG\n",
       "58       6                               Xerox\n",
       "3        6                    American express\n",
       "16       6                   General Electrics\n",
       "4        7                              Boeing\n",
       "29       7                     Lookheed Martin\n",
       "36       7                    Northrop Grumman\n",
       "41       8                       Philip Morris\n",
       "38       8                               Pepsi\n",
       "28       8                           Coca Cola\n",
       "31       8                           McDonalds\n",
       "22       9                                  HP\n",
       "50       9  Taiwan Semiconductor Manufacturing\n",
       "51       9                   Texas instruments\n",
       "11       9                               Cisco\n",
       "33       9                           Microsoft\n",
       "24       9                               Intel\n",
       "14       9                                Dell"
      ]
     },
     "execution_count": 30,
     "metadata": {},
     "output_type": "execute_result"
    }
   ],
   "source": [
    "# Predict the cluster labels: labels\n",
    "labels = pipeline.predict(movements)\n",
    "\n",
    "# Create a DataFrame aligning labels and companies: df\n",
    "df = pd.DataFrame({'labels': labels, 'companies': companies})\n",
    "\n",
    "# Display df sorted by cluster label\n",
    "df.sort_values(by = 'labels')"
   ]
  },
  {
   "cell_type": "markdown",
   "id": "d3641c95",
   "metadata": {},
   "source": [
    "<b> Fantastic job - you have completed Chapter 1! Take a look at the clusters. Are you surprised by any of the results? In the next chapter, you'll learn about how to communicate results such as this through visualizations."
   ]
  },
  {
   "cell_type": "markdown",
   "id": "75c175ba",
   "metadata": {},
   "source": [
    "---"
   ]
  },
  {
   "cell_type": "markdown",
   "id": "2f4e8778",
   "metadata": {},
   "source": [
    "# Chapter 2 - Visualization with hierarchical clustering and t-SNE"
   ]
  },
  {
   "cell_type": "markdown",
   "id": "884c7844",
   "metadata": {},
   "source": [
    "##  In this chapter, you'll learn about two unsupervised learning techniques for data visualization, hierarchical clustering and t-SNE. Hierarchical clustering merges the data samples into ever-coarser clusters, yielding a tree visualization of the resulting cluster hierarchy. t-SNE maps the data samples into 2d space so that the proximity of the samples to one another can be visualized."
   ]
  },
  {
   "cell_type": "markdown",
   "id": "4af539c3",
   "metadata": {},
   "source": [
    "### Hierarchical clustering of the grain data\n",
    "The SciPy linkage() function performs hierarchical clustering on an array of samples. Use the linkage() function to obtain a hierarchical clustering of the grain samples, and use dendrogram() to visualize the result. A sample of the grain measurements is provided in the array samples, while the variety of each grain sample is given by the list varieties"
   ]
  },
  {
   "cell_type": "code",
   "execution_count": 31,
   "id": "bbcc32f1",
   "metadata": {},
   "outputs": [
    {
     "data": {
      "text/html": [
       "<div>\n",
       "<style scoped>\n",
       "    .dataframe tbody tr th:only-of-type {\n",
       "        vertical-align: middle;\n",
       "    }\n",
       "\n",
       "    .dataframe tbody tr th {\n",
       "        vertical-align: top;\n",
       "    }\n",
       "\n",
       "    .dataframe thead th {\n",
       "        text-align: right;\n",
       "    }\n",
       "</style>\n",
       "<table border=\"1\" class=\"dataframe\">\n",
       "  <thead>\n",
       "    <tr style=\"text-align: right;\">\n",
       "      <th></th>\n",
       "      <th>0</th>\n",
       "      <th>1</th>\n",
       "      <th>2</th>\n",
       "      <th>3</th>\n",
       "      <th>4</th>\n",
       "      <th>5</th>\n",
       "      <th>6</th>\n",
       "      <th>7</th>\n",
       "    </tr>\n",
       "  </thead>\n",
       "  <tbody>\n",
       "    <tr>\n",
       "      <th>0</th>\n",
       "      <td>15.26</td>\n",
       "      <td>14.84</td>\n",
       "      <td>0.8710</td>\n",
       "      <td>5.763</td>\n",
       "      <td>3.312</td>\n",
       "      <td>2.221</td>\n",
       "      <td>5.220</td>\n",
       "      <td>1</td>\n",
       "    </tr>\n",
       "    <tr>\n",
       "      <th>1</th>\n",
       "      <td>14.88</td>\n",
       "      <td>14.57</td>\n",
       "      <td>0.8811</td>\n",
       "      <td>5.554</td>\n",
       "      <td>3.333</td>\n",
       "      <td>1.018</td>\n",
       "      <td>4.956</td>\n",
       "      <td>1</td>\n",
       "    </tr>\n",
       "    <tr>\n",
       "      <th>2</th>\n",
       "      <td>14.29</td>\n",
       "      <td>14.09</td>\n",
       "      <td>0.9050</td>\n",
       "      <td>5.291</td>\n",
       "      <td>3.337</td>\n",
       "      <td>2.699</td>\n",
       "      <td>4.825</td>\n",
       "      <td>1</td>\n",
       "    </tr>\n",
       "    <tr>\n",
       "      <th>3</th>\n",
       "      <td>13.84</td>\n",
       "      <td>13.94</td>\n",
       "      <td>0.8955</td>\n",
       "      <td>5.324</td>\n",
       "      <td>3.379</td>\n",
       "      <td>2.259</td>\n",
       "      <td>4.805</td>\n",
       "      <td>1</td>\n",
       "    </tr>\n",
       "    <tr>\n",
       "      <th>4</th>\n",
       "      <td>16.14</td>\n",
       "      <td>14.99</td>\n",
       "      <td>0.9034</td>\n",
       "      <td>5.658</td>\n",
       "      <td>3.562</td>\n",
       "      <td>1.355</td>\n",
       "      <td>5.175</td>\n",
       "      <td>1</td>\n",
       "    </tr>\n",
       "  </tbody>\n",
       "</table>\n",
       "</div>"
      ],
      "text/plain": [
       "       0      1       2      3      4      5      6  7\n",
       "0  15.26  14.84  0.8710  5.763  3.312  2.221  5.220  1\n",
       "1  14.88  14.57  0.8811  5.554  3.333  1.018  4.956  1\n",
       "2  14.29  14.09  0.9050  5.291  3.337  2.699  4.825  1\n",
       "3  13.84  13.94  0.8955  5.324  3.379  2.259  4.805  1\n",
       "4  16.14  14.99  0.9034  5.658  3.562  1.355  5.175  1"
      ]
     },
     "execution_count": 31,
     "metadata": {},
     "output_type": "execute_result"
    }
   ],
   "source": [
    "grain_df = pd.read_csv('Grains/seeds.csv', header = None)\n",
    "grain_df.head()"
   ]
  },
  {
   "cell_type": "code",
   "execution_count": 32,
   "id": "b30739cf",
   "metadata": {},
   "outputs": [],
   "source": [
    "varieties = grain_df.iloc[:,7]"
   ]
  },
  {
   "cell_type": "code",
   "execution_count": 33,
   "id": "d0bf89db",
   "metadata": {},
   "outputs": [],
   "source": [
    "varieties = varieties.map({1:'Kama wheat', 2:'Rosa wheat', 3:'Canadian wheat'}).values"
   ]
  },
  {
   "cell_type": "code",
   "execution_count": 34,
   "id": "16031560",
   "metadata": {},
   "outputs": [],
   "source": [
    "samples = grain_df.iloc[:, :-1].values"
   ]
  },
  {
   "cell_type": "code",
   "execution_count": 35,
   "id": "7093ef81",
   "metadata": {},
   "outputs": [],
   "source": [
    "samples = samples[[(1+5*x) for x in range(0, 42)]]"
   ]
  },
  {
   "cell_type": "code",
   "execution_count": 36,
   "id": "e5e3bedd",
   "metadata": {},
   "outputs": [],
   "source": [
    "varieties = varieties[[(1+5*x) for x in range(0, 42)]]"
   ]
  },
  {
   "cell_type": "code",
   "execution_count": 37,
   "id": "ca425a3d",
   "metadata": {},
   "outputs": [
    {
     "data": {
      "text/plain": [
       "array(['Kama wheat', 'Kama wheat', 'Kama wheat', 'Kama wheat',\n",
       "       'Kama wheat', 'Kama wheat', 'Kama wheat', 'Kama wheat',\n",
       "       'Kama wheat', 'Kama wheat', 'Kama wheat', 'Kama wheat',\n",
       "       'Kama wheat', 'Kama wheat', 'Rosa wheat', 'Rosa wheat',\n",
       "       'Rosa wheat', 'Rosa wheat', 'Rosa wheat', 'Rosa wheat',\n",
       "       'Rosa wheat', 'Rosa wheat', 'Rosa wheat', 'Rosa wheat',\n",
       "       'Rosa wheat', 'Rosa wheat', 'Rosa wheat', 'Rosa wheat',\n",
       "       'Canadian wheat', 'Canadian wheat', 'Canadian wheat',\n",
       "       'Canadian wheat', 'Canadian wheat', 'Canadian wheat',\n",
       "       'Canadian wheat', 'Canadian wheat', 'Canadian wheat',\n",
       "       'Canadian wheat', 'Canadian wheat', 'Canadian wheat',\n",
       "       'Canadian wheat', 'Canadian wheat'], dtype=object)"
      ]
     },
     "execution_count": 37,
     "metadata": {},
     "output_type": "execute_result"
    }
   ],
   "source": [
    "varieties"
   ]
  },
  {
   "cell_type": "code",
   "execution_count": 38,
   "id": "0d539697",
   "metadata": {},
   "outputs": [
    {
     "data": {
      "image/png": "[encoded data removed]",
      "text/plain": [
       "<Figure size 576x432 with 1 Axes>"
      ]
     },
     "metadata": {
      "needs_background": "light"
     },
     "output_type": "display_data"
    }
   ],
   "source": [
    "# Perform the necessary imports\n",
    "from scipy.cluster.hierarchy import linkage, dendrogram\n",
    "\n",
    "# Calculate the linkage: mergings\n",
    "mergings = linkage(samples, method = 'complete')\n",
    "\n",
    "\n",
    "# Plot the dendrogram, using varieties as labels\n",
    "plt.figure(figsize = (8, 6))\n",
    "dendrogram(mergings,\n",
    "           labels = varieties,\n",
    "           leaf_rotation = 90,\n",
    "           leaf_font_size = 6,\n",
    ")\n",
    "\n",
    "plt.show()\n"
   ]
  },
  {
   "cell_type": "raw",
   "id": "3d594b61",
   "metadata": {},
   "source": [
    "Superb! Dendrograms are a great way to illustrate the arrangement of the clusters produced by hierarchical clustering."
   ]
  },
  {
   "cell_type": "markdown",
   "id": "e33d1482",
   "metadata": {},
   "source": [
    "### Hierarchies of stocks\n",
    "In chapter 1, you used k-means clustering to cluster companies according to their stock price movements. Now, you'll perform hierarchical clustering of the companies. You are given a NumPy array of price movements movements, where the rows correspond to companies, and a list of the company names companies. SciPy hierarchical clustering doesn't fit into a sklearn pipeline, so you'll need to use the normalize() function from sklearn.preprocessing instead of Normalizer."
   ]
  },
  {
   "cell_type": "markdown",
   "id": "1bf70102",
   "metadata": {},
   "source": [
    "__Instructions__\n",
    "- Import normalize from sklearn.preprocessing.\n",
    "- Rescale the price movements for each stock by using the normalize() function on movements.\n",
    "- Apply the linkage() function to normalized_movements, using 'complete' linkage, to calculate the hierarchical clustering. Assign the result to mergings.\n",
    "- Plot a dendrogram of the hierarchical clustering, using the list companies of company names as the labels. In addition, specify the leaf_rotation=90, and leaf_font_size=6 keyword arguments as you did in the previous exercise.\n"
   ]
  },
  {
   "cell_type": "code",
   "execution_count": 39,
   "id": "a95c771c",
   "metadata": {},
   "outputs": [
    {
     "data": {
      "image/png": "[encoded data removed]",
      "text/plain": [
       "<Figure size 576x432 with 1 Axes>"
      ]
     },
     "metadata": {
      "needs_background": "light"
     },
     "output_type": "display_data"
    }
   ],
   "source": [
    "# Import normalize\n",
    "from sklearn.preprocessing import normalize\n",
    "\n",
    "# Normalize the movements: normalized_movements\n",
    "normalized_movements = normalize(movements)\n",
    "\n",
    "# Calculate the linkage: mergings\n",
    "mergings = linkage(normalized_movements, method = 'complete')\n",
    "\n",
    "# Plot the dendrogram\n",
    "plt.figure(figsize = (8, 6))\n",
    "dendrogram(mergings, labels = companies, leaf_rotation = 90, leaf_font_size = 6)\n",
    "plt.show()"
   ]
  },
  {
   "cell_type": "markdown",
   "id": "325660ed",
   "metadata": {},
   "source": [
    "### Extracting the cluster labels\n",
    "In the previous exercise, you saw that the intermediate clustering of the grain samples at height 6 has 3 clusters. Now, use the fcluster() function to extract the cluster labels for this intermediate clustering, and compare the labels with the grain varieties using a cross-tabulation."
   ]
  },
  {
   "cell_type": "code",
   "execution_count": 40,
   "id": "1801c9ee",
   "metadata": {},
   "outputs": [],
   "source": [
    "label = np.array([3, 3, 3, 3, 3, 1, 3, 3, 1, 3, 3, 3, 1, 3, 2, 2, 2, 2, 2, 2, 2, 2, 2,\n",
    "       2, 2, 2, 2, 2, 1, 1, 1, 1, 1, 1, 1, 1, 1, 1, 1, 1, 1, 1])"
   ]
  },
  {
   "cell_type": "code",
   "execution_count": 41,
   "id": "42b3362e",
   "metadata": {},
   "outputs": [
    {
     "data": {
      "text/html": [
       "<div>\n",
       "<style scoped>\n",
       "    .dataframe tbody tr th:only-of-type {\n",
       "        vertical-align: middle;\n",
       "    }\n",
       "\n",
       "    .dataframe tbody tr th {\n",
       "        vertical-align: top;\n",
       "    }\n",
       "\n",
       "    .dataframe thead th {\n",
       "        text-align: right;\n",
       "    }\n",
       "</style>\n",
       "<table border=\"1\" class=\"dataframe\">\n",
       "  <thead>\n",
       "    <tr style=\"text-align: right;\">\n",
       "      <th>varieties</th>\n",
       "      <th>Canadian wheat</th>\n",
       "      <th>Kama wheat</th>\n",
       "      <th>Rosa wheat</th>\n",
       "    </tr>\n",
       "    <tr>\n",
       "      <th>labels</th>\n",
       "      <th></th>\n",
       "      <th></th>\n",
       "      <th></th>\n",
       "    </tr>\n",
       "  </thead>\n",
       "  <tbody>\n",
       "    <tr>\n",
       "      <th>1</th>\n",
       "      <td>14</td>\n",
       "      <td>3</td>\n",
       "      <td>0</td>\n",
       "    </tr>\n",
       "    <tr>\n",
       "      <th>2</th>\n",
       "      <td>0</td>\n",
       "      <td>0</td>\n",
       "      <td>14</td>\n",
       "    </tr>\n",
       "    <tr>\n",
       "      <th>3</th>\n",
       "      <td>0</td>\n",
       "      <td>11</td>\n",
       "      <td>0</td>\n",
       "    </tr>\n",
       "  </tbody>\n",
       "</table>\n",
       "</div>"
      ],
      "text/plain": [
       "varieties  Canadian wheat  Kama wheat  Rosa wheat\n",
       "labels                                           \n",
       "1                      14           3           0\n",
       "2                       0           0          14\n",
       "3                       0          11           0"
      ]
     },
     "execution_count": 41,
     "metadata": {},
     "output_type": "execute_result"
    }
   ],
   "source": [
    "# Perform the necessary imports\n",
    "import pandas as pd\n",
    "from scipy.cluster.hierarchy import fcluster\n",
    "\n",
    "# Use fcluster to extract labels: labels\n",
    "labels = fcluster(mergings, 6, criterion = 'distance')\n",
    "\n",
    "# Create a DataFrame with labels and varieties as columns: df\n",
    "df = pd.DataFrame({'labels': label, 'varieties': varieties})\n",
    "\n",
    "# Create crosstab: ct\n",
    "ct = pd.crosstab(df['labels'], df['varieties'])\n",
    "\n",
    "# Display ct\n",
    "ct"
   ]
  },
  {
   "cell_type": "raw",
   "id": "c575cae7",
   "metadata": {},
   "source": [
    "Fantastic - you've now mastered the fundamentals of k-Means and agglomerative hierarchical clustering. Next, you'll learn about t-SNE, which is a powerful tool for visualizing high dimensional data."
   ]
  },
  {
   "cell_type": "markdown",
   "id": "6c81aa0b",
   "metadata": {},
   "source": [
    "### t-SNE visualization of grain dataset\n",
    "In this exercise, you'll apply t-SNE to the grain samples data and inspect the resulting t-SNE features using a scatter plot. You are given an array samples of grain samples and a list variety_numbers giving the variety number of each grain sample."
   ]
  },
  {
   "cell_type": "code",
   "execution_count": 42,
   "id": "0047d8b7",
   "metadata": {},
   "outputs": [],
   "source": [
    "samples = grain_df.iloc[:, :-1].values\n",
    "varieties = grain_df.iloc[:,7].values"
   ]
  },
  {
   "cell_type": "code",
   "execution_count": 43,
   "id": "42bf63de",
   "metadata": {},
   "outputs": [],
   "source": [
    "import warnings\n",
    "warnings.filterwarnings('ignore')"
   ]
  },
  {
   "cell_type": "code",
   "execution_count": 44,
   "id": "52dfd4b8",
   "metadata": {},
   "outputs": [
    {
     "data": {
      "text/plain": [
       "<matplotlib.collections.PathCollection at 0x1cae6f8eb20>"
      ]
     },
     "execution_count": 44,
     "metadata": {},
     "output_type": "execute_result"
    },
    {
     "data": {
      "image/png": "[encoded data removed]",
      "text/plain": [
       "<Figure size 432x288 with 1 Axes>"
      ]
     },
     "metadata": {
      "needs_background": "light"
     },
     "output_type": "display_data"
    }
   ],
   "source": [
    "# Import TSNE\n",
    "from sklearn.manifold import TSNE\n",
    "\n",
    "# Create a TSNE instance: model\n",
    "model = TSNE(learning_rate = 200)\n",
    "\n",
    "# Apply fit_transform to samples: tsne_features\n",
    "tsne_features = model.fit_transform(samples)\n",
    "\n",
    "# Select the 0th feature: xs\n",
    "xs = tsne_features[:,0]\n",
    "\n",
    "# Select the 1st feature: ys\n",
    "ys = tsne_features[:,1]\n",
    "\n",
    "# Scatter plot, coloring by varieties\n",
    "plt.scatter(xs, ys, c = varieties)"
   ]
  },
  {
   "cell_type": "raw",
   "id": "36f895e7",
   "metadata": {},
   "source": [
    "Excellent! As you can see, the t-SNE visualization manages to separate the 3 varieties of grain samples. But how will it perform on the stock data? You'll find out in the next exercise!"
   ]
  },
  {
   "cell_type": "markdown",
   "id": "2bd24657",
   "metadata": {},
   "source": [
    "### A t-SNE map of the stock market\n",
    "t-SNE provides great visualizations when the individual samples can be labeled. In this exercise, you'll apply t-SNE to the company stock price data. A scatter plot of the resulting t-SNE features, labeled by the company names, gives you a map of the stock market! The stock price movements for each company are available as the array normalized_movements (these have already been normalized for you). The list companies gives the name of each company. PyPlot (plt) has been imported for you."
   ]
  },
  {
   "cell_type": "code",
   "execution_count": 45,
   "id": "8d8ebaea",
   "metadata": {},
   "outputs": [
    {
     "data": {
      "image/png": "[encoded data removed]",
      "text/plain": [
       "<Figure size 720x576 with 1 Axes>"
      ]
     },
     "metadata": {
      "needs_background": "light"
     },
     "output_type": "display_data"
    }
   ],
   "source": [
    "# Create a TSNE instance: model\n",
    "model = TSNE(learning_rate=50)\n",
    "\n",
    "# Apply fit_transform to normalized_movements: tsne_features\n",
    "tsne_features = model.fit_transform(normalized_movements)\n",
    "\n",
    "# Select the 0th feature: xs\n",
    "xs = tsne_features[:,0]\n",
    "\n",
    "# Select the 1th feature: ys\n",
    "ys = tsne_features[:,1]\n",
    "\n",
    "# Scatter plot\n",
    "plt.figure(figsize = (10, 8))\n",
    "plt.scatter(xs, ys, alpha = 0.5)\n",
    "\n",
    "# Annotate the points\n",
    "for x, y, company in zip(xs, ys, companies):\n",
    "    plt.annotate(company, (x, y), fontsize=5, alpha=0.75)\n",
    "plt.show()"
   ]
  },
  {
   "cell_type": "markdown",
   "id": "5d714bb6",
   "metadata": {},
   "source": [
    "<b>Fantastic! It's visualizations such as this that make t-SNE such a powerful tool for extracting quick insights from high dimensional data."
   ]
  },
  {
   "cell_type": "markdown",
   "id": "3351c1a7",
   "metadata": {},
   "source": [
    "---"
   ]
  },
  {
   "cell_type": "markdown",
   "id": "a1278961",
   "metadata": {},
   "source": [
    "# Chapter 3 - Decorrelating your data and dimension reduction"
   ]
  },
  {
   "cell_type": "markdown",
   "id": "f993b9a4",
   "metadata": {},
   "source": [
    "## Dimension reduction summarizes a dataset using its common occuring patterns. In this chapter, you'll learn about the most fundamental of dimension reduction techniques, \"Principal Component Analysis\" (\"PCA\"). PCA is often used before supervised learning to improve model performance and generalization. It can also be useful for unsupervised learning. For example, you'll employ a variant of PCA will allow you to cluster Wikipedia articles by their content!"
   ]
  },
  {
   "cell_type": "markdown",
   "id": "2e93a492",
   "metadata": {},
   "source": [
    "### Correlated data in nature\n",
    "You are given an array grains giving the width and length of samples of grain. You suspect that width and length will be correlated. To confirm this, make a scatter plot of width vs length and measure their Pearson correlation."
   ]
  },
  {
   "cell_type": "code",
   "execution_count": 46,
   "id": "133e9dac",
   "metadata": {},
   "outputs": [
    {
     "data": {
      "text/html": [
       "<div>\n",
       "<style scoped>\n",
       "    .dataframe tbody tr th:only-of-type {\n",
       "        vertical-align: middle;\n",
       "    }\n",
       "\n",
       "    .dataframe tbody tr th {\n",
       "        vertical-align: top;\n",
       "    }\n",
       "\n",
       "    .dataframe thead th {\n",
       "        text-align: right;\n",
       "    }\n",
       "</style>\n",
       "<table border=\"1\" class=\"dataframe\">\n",
       "  <thead>\n",
       "    <tr style=\"text-align: right;\">\n",
       "      <th></th>\n",
       "      <th>0</th>\n",
       "      <th>1</th>\n",
       "    </tr>\n",
       "  </thead>\n",
       "  <tbody>\n",
       "    <tr>\n",
       "      <th>0</th>\n",
       "      <td>3.312</td>\n",
       "      <td>5.763</td>\n",
       "    </tr>\n",
       "    <tr>\n",
       "      <th>1</th>\n",
       "      <td>3.333</td>\n",
       "      <td>5.554</td>\n",
       "    </tr>\n",
       "    <tr>\n",
       "      <th>2</th>\n",
       "      <td>3.337</td>\n",
       "      <td>5.291</td>\n",
       "    </tr>\n",
       "    <tr>\n",
       "      <th>3</th>\n",
       "      <td>3.379</td>\n",
       "      <td>5.324</td>\n",
       "    </tr>\n",
       "    <tr>\n",
       "      <th>4</th>\n",
       "      <td>3.562</td>\n",
       "      <td>5.658</td>\n",
       "    </tr>\n",
       "  </tbody>\n",
       "</table>\n",
       "</div>"
      ],
      "text/plain": [
       "       0      1\n",
       "0  3.312  5.763\n",
       "1  3.333  5.554\n",
       "2  3.337  5.291\n",
       "3  3.379  5.324\n",
       "4  3.562  5.658"
      ]
     },
     "execution_count": 46,
     "metadata": {},
     "output_type": "execute_result"
    }
   ],
   "source": [
    "grains = pd.read_csv('Grains/seeds-width-vs-length.csv', header = None)\n",
    "grains.head()"
   ]
  },
  {
   "cell_type": "code",
   "execution_count": 47,
   "id": "f2ddaaaa",
   "metadata": {},
   "outputs": [],
   "source": [
    "grains = grains.values"
   ]
  },
  {
   "cell_type": "code",
   "execution_count": 48,
   "id": "5a5d9a67",
   "metadata": {},
   "outputs": [
    {
     "data": {
      "text/plain": [
       "0.8604149377143466"
      ]
     },
     "execution_count": 48,
     "metadata": {},
     "output_type": "execute_result"
    },
    {
     "data": {
      "image/png": "[encoded data removed]",
      "text/plain": [
       "<Figure size 432x288 with 1 Axes>"
      ]
     },
     "metadata": {
      "needs_background": "light"
     },
     "output_type": "display_data"
    }
   ],
   "source": [
    "# Perform the necessary imports\n",
    "from scipy.stats import pearsonr\n",
    "\n",
    "# Assign the 0th column of grains: width\n",
    "width = grains[:, 0]\n",
    "\n",
    "# Assign the 1st column of grains: length\n",
    "length = grains[:, 1]\n",
    "\n",
    "# Scatter plot width vs length\n",
    "plt.scatter(width, length)\n",
    "plt.axis('equal')\n",
    "\n",
    "# Calculate the Pearson correlation\n",
    "correlation, pvalue = pearsonr(width, length)\n",
    "\n",
    "# Display the correlation\n",
    "correlation"
   ]
  },
  {
   "cell_type": "raw",
   "id": "592e6854",
   "metadata": {},
   "source": [
    "Great work! As you would expect, the width and length of the grain samples are highly correlated."
   ]
  },
  {
   "cell_type": "markdown",
   "id": "20e1e2ed",
   "metadata": {},
   "source": [
    "### Decorrelating the grain measurements with PCA\n",
    "You observed in the previous exercise that the width and length measurements of the grain are correlated. Now, you'll use PCA to decorrelate these measurements, then plot the decorrelated points and measure their Pearson correlation."
   ]
  },
  {
   "cell_type": "code",
   "execution_count": 49,
   "id": "96c4da74",
   "metadata": {},
   "outputs": [
    {
     "data": {
      "text/plain": [
       "-5.204170427930421e-18"
      ]
     },
     "execution_count": 49,
     "metadata": {},
     "output_type": "execute_result"
    },
    {
     "data": {
      "image/png": "[encoded data removed]",
      "text/plain": [
       "<Figure size 432x288 with 1 Axes>"
      ]
     },
     "metadata": {
      "needs_background": "light"
     },
     "output_type": "display_data"
    }
   ],
   "source": [
    "# Import PCA\n",
    "from sklearn.decomposition import PCA\n",
    "\n",
    "# Create PCA instance: model\n",
    "model = PCA()\n",
    "\n",
    "# Apply the fit_transform method of model to grains: pca_features\n",
    "pca_features = model.fit_transform(grains)\n",
    "\n",
    "# Assign 0th column of pca_features: xs\n",
    "xs = pca_features[:,0]\n",
    "\n",
    "# Assign 1st column of pca_features: ys\n",
    "ys = pca_features[:,1]\n",
    "\n",
    "# Scatter plot xs vs ys\n",
    "plt.scatter(xs, ys)\n",
    "plt.axis('equal')\n",
    "\n",
    "# Calculate the Pearson correlation of xs and ys\n",
    "correlation, pvalue = pearsonr(xs, ys)\n",
    "\n",
    "# Display the correlation\n",
    "correlation"
   ]
  },
  {
   "cell_type": "raw",
   "id": "18cb6e49",
   "metadata": {},
   "source": [
    "Excellent! You've successfully decorrelated the grain measurements with PCA!"
   ]
  },
  {
   "cell_type": "markdown",
   "id": "9db161ac",
   "metadata": {},
   "source": [
    "### The first principal component\n",
    "The first principal component of the data is the direction in which the data varies the most. In this exercise, your job is to use PCA to find the first principal component of the length and width measurements of the grain samples, and represent it as an arrow on the scatter plot."
   ]
  },
  {
   "cell_type": "markdown",
   "id": "72137bea",
   "metadata": {},
   "source": [
    "__Instructions__\n",
    "- Make a scatter plot of the grain measurements.\n",
    "- Create a PCA instance called model.\n",
    "- Fit the model to the grains data.\n",
    "- Extract the coordinates of the mean of the data using the .mean_ attribute of model.\n",
    "- Get the first principal component of model using the .components_[0,:] attribute.\n",
    "- Plot the first principal component as an arrow on the scatter plot, using the plt.arrow() function. You have to specify the first two arguments - mean[0] and mean[1]."
   ]
  },
  {
   "cell_type": "code",
   "execution_count": 50,
   "id": "f77036a0",
   "metadata": {},
   "outputs": [
    {
     "data": {
      "text/plain": [
       "(2.55985, 4.10315, 4.8102, 6.7638)"
      ]
     },
     "execution_count": 50,
     "metadata": {},
     "output_type": "execute_result"
    },
    {
     "data": {
      "image/png": "[encoded data removed]",
      "text/plain": [
       "<Figure size 432x288 with 1 Axes>"
      ]
     },
     "metadata": {
      "needs_background": "light"
     },
     "output_type": "display_data"
    }
   ],
   "source": [
    "# Make a scatter plot of the untransformed points\n",
    "plt.scatter(grains[:,0], grains[:,1])\n",
    "\n",
    "# Create a PCA instance: model\n",
    "model = PCA()\n",
    "\n",
    "# Fit model to points\n",
    "model.fit(grains)\n",
    "\n",
    "# Get the mean of the grain samples: mean\n",
    "mean = model.mean_\n",
    "\n",
    "# Get the first principal component: first_pc\n",
    "first_pc = model.components_[0, :]\n",
    "\n",
    "# Plot first_pc as an arrow, starting at mean\n",
    "plt.arrow(mean[0], mean[1], first_pc[0], first_pc[1], color='red', width=0.01)\n",
    "\n",
    "# Keep axes on same scale\n",
    "plt.axis('equal')"
   ]
  },
  {
   "cell_type": "raw",
   "id": "6b21c103",
   "metadata": {},
   "source": [
    "Excellent job! This is the direction in which the grain data varies the most."
   ]
  },
  {
   "cell_type": "markdown",
   "id": "36677377",
   "metadata": {},
   "source": [
    "### Variance of the PCA features\n",
    "The fish dataset is 6-dimensional. But what is its intrinsic dimension? Make a plot of the variances of the PCA features to find out. As before, samples is a 2D array, where each row represents a fish. You'll need to standardize the features first."
   ]
  },
  {
   "cell_type": "markdown",
   "id": "b4039923",
   "metadata": {},
   "source": [
    "__Instructions__\n",
    "- Create an instance of StandardScaler called scaler.\n",
    "- Create a PCA instance called pca.\n",
    "- Use the make_pipeline() function to create a pipeline chaining scaler and pca.\n",
    "- Use the .fit() method of pipeline to fit it to the fish samples samples.\n",
    "- Extract the number of components used using the .n_components_ attribute of pca. Place this inside a range() function and store the result as features.\n",
    "- Use the plt.bar() function to plot the explained variances, with features on the x-axis and pca.explained_variance_ on the y-axis."
   ]
  },
  {
   "cell_type": "code",
   "execution_count": 51,
   "id": "32923443",
   "metadata": {},
   "outputs": [
    {
     "data": {
      "text/html": [
       "<div>\n",
       "<style scoped>\n",
       "    .dataframe tbody tr th:only-of-type {\n",
       "        vertical-align: middle;\n",
       "    }\n",
       "\n",
       "    .dataframe tbody tr th {\n",
       "        vertical-align: top;\n",
       "    }\n",
       "\n",
       "    .dataframe thead th {\n",
       "        text-align: right;\n",
       "    }\n",
       "</style>\n",
       "<table border=\"1\" class=\"dataframe\">\n",
       "  <thead>\n",
       "    <tr style=\"text-align: right;\">\n",
       "      <th></th>\n",
       "      <th>0</th>\n",
       "      <th>1</th>\n",
       "      <th>2</th>\n",
       "      <th>3</th>\n",
       "      <th>4</th>\n",
       "      <th>5</th>\n",
       "      <th>6</th>\n",
       "    </tr>\n",
       "  </thead>\n",
       "  <tbody>\n",
       "    <tr>\n",
       "      <th>0</th>\n",
       "      <td>Bream</td>\n",
       "      <td>242.0</td>\n",
       "      <td>23.2</td>\n",
       "      <td>25.4</td>\n",
       "      <td>30.0</td>\n",
       "      <td>38.4</td>\n",
       "      <td>13.4</td>\n",
       "    </tr>\n",
       "    <tr>\n",
       "      <th>1</th>\n",
       "      <td>Bream</td>\n",
       "      <td>290.0</td>\n",
       "      <td>24.0</td>\n",
       "      <td>26.3</td>\n",
       "      <td>31.2</td>\n",
       "      <td>40.0</td>\n",
       "      <td>13.8</td>\n",
       "    </tr>\n",
       "    <tr>\n",
       "      <th>2</th>\n",
       "      <td>Bream</td>\n",
       "      <td>340.0</td>\n",
       "      <td>23.9</td>\n",
       "      <td>26.5</td>\n",
       "      <td>31.1</td>\n",
       "      <td>39.8</td>\n",
       "      <td>15.1</td>\n",
       "    </tr>\n",
       "    <tr>\n",
       "      <th>3</th>\n",
       "      <td>Bream</td>\n",
       "      <td>363.0</td>\n",
       "      <td>26.3</td>\n",
       "      <td>29.0</td>\n",
       "      <td>33.5</td>\n",
       "      <td>38.0</td>\n",
       "      <td>13.3</td>\n",
       "    </tr>\n",
       "    <tr>\n",
       "      <th>4</th>\n",
       "      <td>Bream</td>\n",
       "      <td>430.0</td>\n",
       "      <td>26.5</td>\n",
       "      <td>29.0</td>\n",
       "      <td>34.0</td>\n",
       "      <td>36.6</td>\n",
       "      <td>15.1</td>\n",
       "    </tr>\n",
       "  </tbody>\n",
       "</table>\n",
       "</div>"
      ],
      "text/plain": [
       "       0      1     2     3     4     5     6\n",
       "0  Bream  242.0  23.2  25.4  30.0  38.4  13.4\n",
       "1  Bream  290.0  24.0  26.3  31.2  40.0  13.8\n",
       "2  Bream  340.0  23.9  26.5  31.1  39.8  15.1\n",
       "3  Bream  363.0  26.3  29.0  33.5  38.0  13.3\n",
       "4  Bream  430.0  26.5  29.0  34.0  36.6  15.1"
      ]
     },
     "execution_count": 51,
     "metadata": {},
     "output_type": "execute_result"
    }
   ],
   "source": [
    "fish = pd.read_csv('fish.csv', header = None)\n",
    "fish.head()"
   ]
  },
  {
   "cell_type": "code",
   "execution_count": 52,
   "id": "4d0c6373",
   "metadata": {},
   "outputs": [],
   "source": [
    "samples = fish.iloc[:, 1:].values"
   ]
  },
  {
   "cell_type": "code",
   "execution_count": 53,
   "id": "ca7198a6",
   "metadata": {},
   "outputs": [
    {
     "data": {
      "image/png": "[encoded data removed]",
      "text/plain": [
       "<Figure size 432x288 with 1 Axes>"
      ]
     },
     "metadata": {
      "needs_background": "light"
     },
     "output_type": "display_data"
    }
   ],
   "source": [
    "# Perform the necessary imports\n",
    "from sklearn.decomposition import PCA\n",
    "from sklearn.preprocessing import StandardScaler\n",
    "from sklearn.pipeline import make_pipeline\n",
    "import matplotlib.pyplot as plt\n",
    "\n",
    "# Create scaler: scaler\n",
    "scaler = StandardScaler()\n",
    "\n",
    "# Create a PCA instance: pca\n",
    "pca = PCA()\n",
    "\n",
    "# Create pipeline: pipeline\n",
    "pipeline = make_pipeline(scaler, pca)\n",
    "\n",
    "# Fit the pipeline to 'samples'\n",
    "pipeline.fit(samples)\n",
    "\n",
    "# Plot the explained variances\n",
    "features = range(pca.n_components_)\n",
    "plt.bar(features, pca.explained_variance_)\n",
    "plt.xlabel('PCA feature')\n",
    "plt.ylabel('variance')\n",
    "plt.xticks(features)\n",
    "plt.show()"
   ]
  },
  {
   "cell_type": "raw",
   "id": "3cc0847b",
   "metadata": {},
   "source": [
    "Great work! It looks like PCA features 0 and 1 have significant variance."
   ]
  },
  {
   "cell_type": "code",
   "execution_count": 54,
   "id": "71bf41d0",
   "metadata": {},
   "outputs": [
    {
     "data": {
      "text/plain": [
       "array([3.94616746e+00, 1.78097907e+00, 2.43235593e-01, 1.00351845e-01,\n",
       "       5.63140996e-04, 1.31462706e-04])"
      ]
     },
     "execution_count": 54,
     "metadata": {},
     "output_type": "execute_result"
    }
   ],
   "source": [
    "pca.explained_variance_"
   ]
  },
  {
   "cell_type": "markdown",
   "id": "4c9fd95b",
   "metadata": {},
   "source": [
    "### Dimension reduction of the fish measurements\n",
    "In a previous exercise, you saw that 2 was a reasonable choice for the \"intrinsic dimension\" of the fish measurements. Now use PCA for dimensionality reduction of the fish measurements, retaining only the 2 most important components.\n",
    "\n",
    "The fish measurements have already been scaled for you, and are available as samples."
   ]
  },
  {
   "cell_type": "code",
   "execution_count": 55,
   "id": "1cd0fd15",
   "metadata": {},
   "outputs": [],
   "source": [
    "scaler = StandardScaler()\n",
    "samples = scaler.fit_transform(samples)"
   ]
  },
  {
   "cell_type": "code",
   "execution_count": 56,
   "id": "c4327ce6",
   "metadata": {},
   "outputs": [
    {
     "data": {
      "text/plain": [
       "(85, 6)"
      ]
     },
     "execution_count": 56,
     "metadata": {},
     "output_type": "execute_result"
    }
   ],
   "source": [
    "samples.shape"
   ]
  },
  {
   "cell_type": "code",
   "execution_count": 57,
   "id": "f5f19517",
   "metadata": {},
   "outputs": [
    {
     "data": {
      "text/plain": [
       "(85, 2)"
      ]
     },
     "execution_count": 57,
     "metadata": {},
     "output_type": "execute_result"
    }
   ],
   "source": [
    "# Create a PCA model with 2 components: pca\n",
    "pca = PCA(n_components = 2)\n",
    "\n",
    "# Fit the PCA instance to the scaled samples\n",
    "pca.fit(samples)\n",
    "\n",
    "# Transform the scaled samples: pca_features\n",
    "pca_features = pca.transform(samples)\n",
    "\n",
    "# Print the shape of pca_features\n",
    "pca_features.shape"
   ]
  },
  {
   "cell_type": "markdown",
   "id": "95bc4ae6",
   "metadata": {},
   "source": [
    "<b> Superb! You've successfully reduced the dimensionality from 6 to 2."
   ]
  },
  {
   "cell_type": "markdown",
   "id": "2726e0ad",
   "metadata": {},
   "source": [
    "### A tf-idf word-frequency array\n",
    "In this exercise, you'll create a tf-idf word frequency array for a toy collection of documents. For this, use the TfidfVectorizer from sklearn. It transforms a list of documents into a word frequency array, which it outputs as a csr_matrix. It has fit() and transform() methods like other sklearn objects.\n",
    "\n",
    "You are given a list documents of toy documents about pets. Its contents have been printed in the IPython Shell."
   ]
  },
  {
   "cell_type": "code",
   "execution_count": 58,
   "id": "6412c724",
   "metadata": {},
   "outputs": [],
   "source": [
    "documents = ['cats say meow', 'dogs say woof', 'dogs chase cats']"
   ]
  },
  {
   "cell_type": "markdown",
   "id": "df5c9ef9",
   "metadata": {},
   "source": [
    "__Instructions__\n",
    "- Import TfidfVectorizer from sklearn.feature_extraction.text.\n",
    "- Create a TfidfVectorizer instance called tfidf.\n",
    "- Apply .fit_transform() method of tfidf to documents and assign the result to csr_mat. This is a word-frequency array in csr_matrix format.\n",
    "- Inspect csr_mat by calling its .toarray() method and printing the result.\n",
    "- The columns of the array correspond to words. Get the list of words by calling the .get_feature_names() method of tfidf, and assign the result to words."
   ]
  },
  {
   "cell_type": "code",
   "execution_count": 59,
   "id": "c5129d11",
   "metadata": {},
   "outputs": [
    {
     "name": "stdout",
     "output_type": "stream",
     "text": [
      "[[0.51785612 0.         0.         0.68091856 0.51785612 0.        ]\n",
      " [0.         0.         0.51785612 0.         0.51785612 0.68091856]\n",
      " [0.51785612 0.68091856 0.51785612 0.         0.         0.        ]]\n"
     ]
    },
    {
     "data": {
      "text/plain": [
       "['cats', 'chase', 'dogs', 'meow', 'say', 'woof']"
      ]
     },
     "execution_count": 59,
     "metadata": {},
     "output_type": "execute_result"
    }
   ],
   "source": [
    "# Import TfidfVectorizer\n",
    "from sklearn.feature_extraction.text import TfidfVectorizer\n",
    "\n",
    "# Create a TfidfVectorizer: tfidf\n",
    "tfidf = TfidfVectorizer()\n",
    "\n",
    "# Apply fit_transform to document: csr_mat\n",
    "csr_mat = tfidf.fit_transform(documents)\n",
    "\n",
    "# Print result of toarray() method\n",
    "print(csr_mat.toarray())\n",
    "\n",
    "# Get the words: words\n",
    "words = tfidf.get_feature_names()\n",
    "\n",
    "# Print words\n",
    "words"
   ]
  },
  {
   "cell_type": "raw",
   "id": "c3258b07",
   "metadata": {},
   "source": [
    "Great work! You'll now move to clustering Wikipedia articles!"
   ]
  },
  {
   "cell_type": "markdown",
   "id": "8b80036a",
   "metadata": {},
   "source": [
    "### Clustering Wikipedia part I\n",
    "`TruncatedSVD` is able to perform PCA on sparse arrays in csr_matrix format, such as word-frequency arrays. Combine your knowledge of TruncatedSVD and k-means to cluster some popular pages from Wikipedia. In this exercise, build the pipeline. In the next exercise, you'll apply it to the word-frequency array of some Wikipedia articles.\n",
    "\n",
    "Create a Pipeline object consisting of a TruncatedSVD followed by KMeans. (This time, we've precomputed the word-frequency matrix for you, so there's no need for a TfidfVectorizer).\n",
    "\n",
    "The Wikipedia dataset you will be working with was obtained from [here](https://blog.lateral.io/2015/06/the-unknown-perils-of-mining-wikipedia/)."
   ]
  },
  {
   "cell_type": "markdown",
   "id": "648ffdb4",
   "metadata": {},
   "source": [
    "__Instructions__\n",
    "- Import:\n",
    "    - TruncatedSVD from sklearn.decomposition.\n",
    "    - KMeans from sklearn.cluster.\n",
    "    - make_pipeline from sklearn.pipeline.\n",
    "- Create a TruncatedSVD instance called svd with n_components=50.\n",
    "- Create a KMeans instance called kmeans with n_clusters=6.\n",
    "- Create a pipeline called pipeline consisting of svd and kmeans."
   ]
  },
  {
   "cell_type": "code",
   "execution_count": 60,
   "id": "1b42879c",
   "metadata": {},
   "outputs": [],
   "source": [
    "# Perform the necessary imports\n",
    "from sklearn.decomposition import TruncatedSVD\n",
    "from sklearn.cluster import KMeans\n",
    "from sklearn.pipeline import make_pipeline\n",
    "\n",
    "# Create a TruncatedSVD instance: svd\n",
    "svd = TruncatedSVD(n_components = 50)\n",
    "\n",
    "# Create a KMeans instance: kmeans\n",
    "kmeans = KMeans(n_clusters = 6)\n",
    "\n",
    "# Create a pipeline: pipeline\n",
    "pipeline = make_pipeline(svd, kmeans)"
   ]
  },
  {
   "cell_type": "raw",
   "id": "9ee7174e",
   "metadata": {},
   "source": [
    "Excellent! Now that you have set up your pipeline, you will use it in the next exercise to cluster the articles."
   ]
  },
  {
   "cell_type": "markdown",
   "id": "84daefeb",
   "metadata": {},
   "source": [
    "### Clustering Wikipedia part II\n",
    "It is now time to put your pipeline from the previous exercise to work! You are given an array articles of tf-idf word-frequencies of some popular Wikipedia articles, and a list titles of their titles. Use your pipeline to cluster the Wikipedia articles."
   ]
  },
  {
   "cell_type": "markdown",
   "id": "8d6adab0",
   "metadata": {},
   "source": [
    "To preprocess `wikipedia-vectors.csv` into the format in which you used it in the exercises, you have to take its transpose:\n",
    "\n",
    "```python\n",
    "import pandas as pd\n",
    "from scipy.sparse import csr_matrix\n",
    "\n",
    "df = pd.read_csv('wikipedia-vectors.csv', index_col=0)\n",
    "articles = csr_matrix(df.transpose())\n",
    "titles = list(df.columns)\n",
    "```\n",
    "\n",
    "The reason for taking this transpose is that without it, there would be 13,000 columns (corresponding to the 13,000 words in the file), which is a lot of columns for a CSV to have.\n"
   ]
  },
  {
   "cell_type": "code",
   "execution_count": 61,
   "id": "14bcbe43",
   "metadata": {},
   "outputs": [],
   "source": [
    "from scipy.sparse import csr_matrix"
   ]
  },
  {
   "cell_type": "code",
   "execution_count": 62,
   "id": "ae5e8c03",
   "metadata": {},
   "outputs": [
    {
     "data": {
      "text/html": [
       "<div>\n",
       "<style scoped>\n",
       "    .dataframe tbody tr th:only-of-type {\n",
       "        vertical-align: middle;\n",
       "    }\n",
       "\n",
       "    .dataframe tbody tr th {\n",
       "        vertical-align: top;\n",
       "    }\n",
       "\n",
       "    .dataframe thead th {\n",
       "        text-align: right;\n",
       "    }\n",
       "</style>\n",
       "<table border=\"1\" class=\"dataframe\">\n",
       "  <thead>\n",
       "    <tr style=\"text-align: right;\">\n",
       "      <th></th>\n",
       "      <th>HTTP 404</th>\n",
       "      <th>Alexa Internet</th>\n",
       "      <th>Internet Explorer</th>\n",
       "      <th>HTTP cookie</th>\n",
       "      <th>Google Search</th>\n",
       "      <th>Tumblr</th>\n",
       "      <th>Hypertext Transfer Protocol</th>\n",
       "      <th>Social search</th>\n",
       "      <th>Firefox</th>\n",
       "      <th>LinkedIn</th>\n",
       "      <th>...</th>\n",
       "      <th>Chad Kroeger</th>\n",
       "      <th>Nate Ruess</th>\n",
       "      <th>The Wanted</th>\n",
       "      <th>Stevie Nicks</th>\n",
       "      <th>Arctic Monkeys</th>\n",
       "      <th>Black Sabbath</th>\n",
       "      <th>Skrillex</th>\n",
       "      <th>Red Hot Chili Peppers</th>\n",
       "      <th>Sepsis</th>\n",
       "      <th>Adam Levine</th>\n",
       "    </tr>\n",
       "  </thead>\n",
       "  <tbody>\n",
       "    <tr>\n",
       "      <th>0</th>\n",
       "      <td>0.0</td>\n",
       "      <td>0.000000</td>\n",
       "      <td>0.0</td>\n",
       "      <td>0.0</td>\n",
       "      <td>0.0</td>\n",
       "      <td>0.0</td>\n",
       "      <td>0.0</td>\n",
       "      <td>0.0</td>\n",
       "      <td>0.0</td>\n",
       "      <td>0.0</td>\n",
       "      <td>...</td>\n",
       "      <td>0.0</td>\n",
       "      <td>0.0</td>\n",
       "      <td>0.0</td>\n",
       "      <td>0.008878</td>\n",
       "      <td>0.0</td>\n",
       "      <td>0.0</td>\n",
       "      <td>0.049502</td>\n",
       "      <td>0.000000</td>\n",
       "      <td>0.00000</td>\n",
       "      <td>0.0</td>\n",
       "    </tr>\n",
       "    <tr>\n",
       "      <th>1</th>\n",
       "      <td>0.0</td>\n",
       "      <td>0.000000</td>\n",
       "      <td>0.0</td>\n",
       "      <td>0.0</td>\n",
       "      <td>0.0</td>\n",
       "      <td>0.0</td>\n",
       "      <td>0.0</td>\n",
       "      <td>0.0</td>\n",
       "      <td>0.0</td>\n",
       "      <td>0.0</td>\n",
       "      <td>...</td>\n",
       "      <td>0.0</td>\n",
       "      <td>0.0</td>\n",
       "      <td>0.0</td>\n",
       "      <td>0.000000</td>\n",
       "      <td>0.0</td>\n",
       "      <td>0.0</td>\n",
       "      <td>0.000000</td>\n",
       "      <td>0.000000</td>\n",
       "      <td>0.00611</td>\n",
       "      <td>0.0</td>\n",
       "    </tr>\n",
       "    <tr>\n",
       "      <th>2</th>\n",
       "      <td>0.0</td>\n",
       "      <td>0.029607</td>\n",
       "      <td>0.0</td>\n",
       "      <td>0.0</td>\n",
       "      <td>0.0</td>\n",
       "      <td>0.0</td>\n",
       "      <td>0.0</td>\n",
       "      <td>0.0</td>\n",
       "      <td>0.0</td>\n",
       "      <td>0.0</td>\n",
       "      <td>...</td>\n",
       "      <td>0.0</td>\n",
       "      <td>0.0</td>\n",
       "      <td>0.0</td>\n",
       "      <td>0.000000</td>\n",
       "      <td>0.0</td>\n",
       "      <td>0.0</td>\n",
       "      <td>0.000000</td>\n",
       "      <td>0.000000</td>\n",
       "      <td>0.00000</td>\n",
       "      <td>0.0</td>\n",
       "    </tr>\n",
       "    <tr>\n",
       "      <th>3</th>\n",
       "      <td>0.0</td>\n",
       "      <td>0.000000</td>\n",
       "      <td>0.0</td>\n",
       "      <td>0.0</td>\n",
       "      <td>0.0</td>\n",
       "      <td>0.0</td>\n",
       "      <td>0.0</td>\n",
       "      <td>0.0</td>\n",
       "      <td>0.0</td>\n",
       "      <td>0.0</td>\n",
       "      <td>...</td>\n",
       "      <td>0.0</td>\n",
       "      <td>0.0</td>\n",
       "      <td>0.0</td>\n",
       "      <td>0.000000</td>\n",
       "      <td>0.0</td>\n",
       "      <td>0.0</td>\n",
       "      <td>0.000000</td>\n",
       "      <td>0.005646</td>\n",
       "      <td>0.00000</td>\n",
       "      <td>0.0</td>\n",
       "    </tr>\n",
       "    <tr>\n",
       "      <th>4</th>\n",
       "      <td>0.0</td>\n",
       "      <td>0.000000</td>\n",
       "      <td>0.0</td>\n",
       "      <td>0.0</td>\n",
       "      <td>0.0</td>\n",
       "      <td>0.0</td>\n",
       "      <td>0.0</td>\n",
       "      <td>0.0</td>\n",
       "      <td>0.0</td>\n",
       "      <td>0.0</td>\n",
       "      <td>...</td>\n",
       "      <td>0.0</td>\n",
       "      <td>0.0</td>\n",
       "      <td>0.0</td>\n",
       "      <td>0.000000</td>\n",
       "      <td>0.0</td>\n",
       "      <td>0.0</td>\n",
       "      <td>0.000000</td>\n",
       "      <td>0.000000</td>\n",
       "      <td>0.00000</td>\n",
       "      <td>0.0</td>\n",
       "    </tr>\n",
       "  </tbody>\n",
       "</table>\n",
       "<p>5 rows × 60 columns</p>\n",
       "</div>"
      ],
      "text/plain": [
       "   HTTP 404  Alexa Internet  Internet Explorer  HTTP cookie  Google Search  \\\n",
       "0       0.0        0.000000                0.0          0.0            0.0   \n",
       "1       0.0        0.000000                0.0          0.0            0.0   \n",
       "2       0.0        0.029607                0.0          0.0            0.0   \n",
       "3       0.0        0.000000                0.0          0.0            0.0   \n",
       "4       0.0        0.000000                0.0          0.0            0.0   \n",
       "\n",
       "   Tumblr  Hypertext Transfer Protocol  Social search  Firefox  LinkedIn  ...  \\\n",
       "0     0.0                          0.0            0.0      0.0       0.0  ...   \n",
       "1     0.0                          0.0            0.0      0.0       0.0  ...   \n",
       "2     0.0                          0.0            0.0      0.0       0.0  ...   \n",
       "3     0.0                          0.0            0.0      0.0       0.0  ...   \n",
       "4     0.0                          0.0            0.0      0.0       0.0  ...   \n",
       "\n",
       "   Chad Kroeger  Nate Ruess  The Wanted  Stevie Nicks  Arctic Monkeys  \\\n",
       "0           0.0         0.0         0.0      0.008878             0.0   \n",
       "1           0.0         0.0         0.0      0.000000             0.0   \n",
       "2           0.0         0.0         0.0      0.000000             0.0   \n",
       "3           0.0         0.0         0.0      0.000000             0.0   \n",
       "4           0.0         0.0         0.0      0.000000             0.0   \n",
       "\n",
       "   Black Sabbath  Skrillex  Red Hot Chili Peppers   Sepsis  Adam Levine  \n",
       "0            0.0  0.049502               0.000000  0.00000          0.0  \n",
       "1            0.0  0.000000               0.000000  0.00611          0.0  \n",
       "2            0.0  0.000000               0.000000  0.00000          0.0  \n",
       "3            0.0  0.000000               0.005646  0.00000          0.0  \n",
       "4            0.0  0.000000               0.000000  0.00000          0.0  \n",
       "\n",
       "[5 rows x 60 columns]"
      ]
     },
     "execution_count": 62,
     "metadata": {},
     "output_type": "execute_result"
    }
   ],
   "source": [
    "df = pd.read_csv('Wikipedia articles/wikipedia-vectors.csv', index_col = 0)\n",
    "df.head()"
   ]
  },
  {
   "cell_type": "code",
   "execution_count": 63,
   "id": "f695dd28",
   "metadata": {},
   "outputs": [],
   "source": [
    "articles = csr_matrix(df.transpose())\n",
    "titles = list(df.columns)"
   ]
  },
  {
   "cell_type": "code",
   "execution_count": 64,
   "id": "7ec3f750",
   "metadata": {},
   "outputs": [
    {
     "data": {
      "text/plain": [
       "<60x13125 sparse matrix of type '<class 'numpy.float64'>'\n",
       "\twith 42091 stored elements in Compressed Sparse Row format>"
      ]
     },
     "execution_count": 64,
     "metadata": {},
     "output_type": "execute_result"
    }
   ],
   "source": [
    "articles"
   ]
  },
  {
   "cell_type": "code",
   "execution_count": 65,
   "id": "2e130a80",
   "metadata": {},
   "outputs": [
    {
     "data": {
      "text/html": [
       "<div>\n",
       "<style scoped>\n",
       "    .dataframe tbody tr th:only-of-type {\n",
       "        vertical-align: middle;\n",
       "    }\n",
       "\n",
       "    .dataframe tbody tr th {\n",
       "        vertical-align: top;\n",
       "    }\n",
       "\n",
       "    .dataframe thead th {\n",
       "        text-align: right;\n",
       "    }\n",
       "</style>\n",
       "<table border=\"1\" class=\"dataframe\">\n",
       "  <thead>\n",
       "    <tr style=\"text-align: right;\">\n",
       "      <th></th>\n",
       "      <th>label</th>\n",
       "      <th>article</th>\n",
       "    </tr>\n",
       "  </thead>\n",
       "  <tbody>\n",
       "    <tr>\n",
       "      <th>29</th>\n",
       "      <td>0</td>\n",
       "      <td>Jennifer Aniston</td>\n",
       "    </tr>\n",
       "    <tr>\n",
       "      <th>26</th>\n",
       "      <td>0</td>\n",
       "      <td>Mila Kunis</td>\n",
       "    </tr>\n",
       "    <tr>\n",
       "      <th>25</th>\n",
       "      <td>0</td>\n",
       "      <td>Russell Crowe</td>\n",
       "    </tr>\n",
       "    <tr>\n",
       "      <th>24</th>\n",
       "      <td>0</td>\n",
       "      <td>Jessica Biel</td>\n",
       "    </tr>\n",
       "    <tr>\n",
       "      <th>23</th>\n",
       "      <td>0</td>\n",
       "      <td>Catherine Zeta-Jones</td>\n",
       "    </tr>\n",
       "    <tr>\n",
       "      <th>22</th>\n",
       "      <td>0</td>\n",
       "      <td>Denzel Washington</td>\n",
       "    </tr>\n",
       "    <tr>\n",
       "      <th>21</th>\n",
       "      <td>0</td>\n",
       "      <td>Michael Fassbender</td>\n",
       "    </tr>\n",
       "    <tr>\n",
       "      <th>20</th>\n",
       "      <td>0</td>\n",
       "      <td>Angelina Jolie</td>\n",
       "    </tr>\n",
       "    <tr>\n",
       "      <th>27</th>\n",
       "      <td>0</td>\n",
       "      <td>Dakota Fanning</td>\n",
       "    </tr>\n",
       "    <tr>\n",
       "      <th>28</th>\n",
       "      <td>0</td>\n",
       "      <td>Anne Hathaway</td>\n",
       "    </tr>\n",
       "    <tr>\n",
       "      <th>48</th>\n",
       "      <td>1</td>\n",
       "      <td>Gabapentin</td>\n",
       "    </tr>\n",
       "    <tr>\n",
       "      <th>49</th>\n",
       "      <td>1</td>\n",
       "      <td>Lymphoma</td>\n",
       "    </tr>\n",
       "    <tr>\n",
       "      <th>40</th>\n",
       "      <td>1</td>\n",
       "      <td>Tonsillitis</td>\n",
       "    </tr>\n",
       "    <tr>\n",
       "      <th>41</th>\n",
       "      <td>1</td>\n",
       "      <td>Hepatitis B</td>\n",
       "    </tr>\n",
       "    <tr>\n",
       "      <th>42</th>\n",
       "      <td>1</td>\n",
       "      <td>Doxycycline</td>\n",
       "    </tr>\n",
       "    <tr>\n",
       "      <th>44</th>\n",
       "      <td>1</td>\n",
       "      <td>Gout</td>\n",
       "    </tr>\n",
       "    <tr>\n",
       "      <th>45</th>\n",
       "      <td>1</td>\n",
       "      <td>Hepatitis C</td>\n",
       "    </tr>\n",
       "    <tr>\n",
       "      <th>46</th>\n",
       "      <td>1</td>\n",
       "      <td>Prednisone</td>\n",
       "    </tr>\n",
       "    <tr>\n",
       "      <th>47</th>\n",
       "      <td>1</td>\n",
       "      <td>Fever</td>\n",
       "    </tr>\n",
       "    <tr>\n",
       "      <th>43</th>\n",
       "      <td>1</td>\n",
       "      <td>Leukemia</td>\n",
       "    </tr>\n",
       "    <tr>\n",
       "      <th>50</th>\n",
       "      <td>2</td>\n",
       "      <td>Chad Kroeger</td>\n",
       "    </tr>\n",
       "    <tr>\n",
       "      <th>51</th>\n",
       "      <td>2</td>\n",
       "      <td>Nate Ruess</td>\n",
       "    </tr>\n",
       "    <tr>\n",
       "      <th>52</th>\n",
       "      <td>2</td>\n",
       "      <td>The Wanted</td>\n",
       "    </tr>\n",
       "    <tr>\n",
       "      <th>53</th>\n",
       "      <td>2</td>\n",
       "      <td>Stevie Nicks</td>\n",
       "    </tr>\n",
       "    <tr>\n",
       "      <th>54</th>\n",
       "      <td>2</td>\n",
       "      <td>Arctic Monkeys</td>\n",
       "    </tr>\n",
       "    <tr>\n",
       "      <th>55</th>\n",
       "      <td>2</td>\n",
       "      <td>Black Sabbath</td>\n",
       "    </tr>\n",
       "    <tr>\n",
       "      <th>56</th>\n",
       "      <td>2</td>\n",
       "      <td>Skrillex</td>\n",
       "    </tr>\n",
       "    <tr>\n",
       "      <th>57</th>\n",
       "      <td>2</td>\n",
       "      <td>Red Hot Chili Peppers</td>\n",
       "    </tr>\n",
       "    <tr>\n",
       "      <th>58</th>\n",
       "      <td>2</td>\n",
       "      <td>Sepsis</td>\n",
       "    </tr>\n",
       "    <tr>\n",
       "      <th>59</th>\n",
       "      <td>2</td>\n",
       "      <td>Adam Levine</td>\n",
       "    </tr>\n",
       "    <tr>\n",
       "      <th>0</th>\n",
       "      <td>3</td>\n",
       "      <td>HTTP 404</td>\n",
       "    </tr>\n",
       "    <tr>\n",
       "      <th>1</th>\n",
       "      <td>3</td>\n",
       "      <td>Alexa Internet</td>\n",
       "    </tr>\n",
       "    <tr>\n",
       "      <th>2</th>\n",
       "      <td>3</td>\n",
       "      <td>Internet Explorer</td>\n",
       "    </tr>\n",
       "    <tr>\n",
       "      <th>3</th>\n",
       "      <td>3</td>\n",
       "      <td>HTTP cookie</td>\n",
       "    </tr>\n",
       "    <tr>\n",
       "      <th>4</th>\n",
       "      <td>3</td>\n",
       "      <td>Google Search</td>\n",
       "    </tr>\n",
       "    <tr>\n",
       "      <th>5</th>\n",
       "      <td>3</td>\n",
       "      <td>Tumblr</td>\n",
       "    </tr>\n",
       "    <tr>\n",
       "      <th>6</th>\n",
       "      <td>3</td>\n",
       "      <td>Hypertext Transfer Protocol</td>\n",
       "    </tr>\n",
       "    <tr>\n",
       "      <th>7</th>\n",
       "      <td>3</td>\n",
       "      <td>Social search</td>\n",
       "    </tr>\n",
       "    <tr>\n",
       "      <th>8</th>\n",
       "      <td>3</td>\n",
       "      <td>Firefox</td>\n",
       "    </tr>\n",
       "    <tr>\n",
       "      <th>9</th>\n",
       "      <td>3</td>\n",
       "      <td>LinkedIn</td>\n",
       "    </tr>\n",
       "    <tr>\n",
       "      <th>30</th>\n",
       "      <td>4</td>\n",
       "      <td>France national football team</td>\n",
       "    </tr>\n",
       "    <tr>\n",
       "      <th>38</th>\n",
       "      <td>4</td>\n",
       "      <td>Neymar</td>\n",
       "    </tr>\n",
       "    <tr>\n",
       "      <th>31</th>\n",
       "      <td>4</td>\n",
       "      <td>Cristiano Ronaldo</td>\n",
       "    </tr>\n",
       "    <tr>\n",
       "      <th>32</th>\n",
       "      <td>4</td>\n",
       "      <td>Arsenal F.C.</td>\n",
       "    </tr>\n",
       "    <tr>\n",
       "      <th>33</th>\n",
       "      <td>4</td>\n",
       "      <td>Radamel Falcao</td>\n",
       "    </tr>\n",
       "    <tr>\n",
       "      <th>34</th>\n",
       "      <td>4</td>\n",
       "      <td>Zlatan Ibrahimović</td>\n",
       "    </tr>\n",
       "    <tr>\n",
       "      <th>35</th>\n",
       "      <td>4</td>\n",
       "      <td>Colombia national football team</td>\n",
       "    </tr>\n",
       "    <tr>\n",
       "      <th>36</th>\n",
       "      <td>4</td>\n",
       "      <td>2014 FIFA World Cup qualification</td>\n",
       "    </tr>\n",
       "    <tr>\n",
       "      <th>37</th>\n",
       "      <td>4</td>\n",
       "      <td>Football</td>\n",
       "    </tr>\n",
       "    <tr>\n",
       "      <th>39</th>\n",
       "      <td>4</td>\n",
       "      <td>Franck Ribéry</td>\n",
       "    </tr>\n",
       "    <tr>\n",
       "      <th>17</th>\n",
       "      <td>5</td>\n",
       "      <td>Greenhouse gas emissions by the United States</td>\n",
       "    </tr>\n",
       "    <tr>\n",
       "      <th>10</th>\n",
       "      <td>5</td>\n",
       "      <td>Global warming</td>\n",
       "    </tr>\n",
       "    <tr>\n",
       "      <th>11</th>\n",
       "      <td>5</td>\n",
       "      <td>Nationally Appropriate Mitigation Action</td>\n",
       "    </tr>\n",
       "    <tr>\n",
       "      <th>12</th>\n",
       "      <td>5</td>\n",
       "      <td>Nigel Lawson</td>\n",
       "    </tr>\n",
       "    <tr>\n",
       "      <th>13</th>\n",
       "      <td>5</td>\n",
       "      <td>Connie Hedegaard</td>\n",
       "    </tr>\n",
       "    <tr>\n",
       "      <th>19</th>\n",
       "      <td>5</td>\n",
       "      <td>2007 United Nations Climate Change Conference</td>\n",
       "    </tr>\n",
       "    <tr>\n",
       "      <th>15</th>\n",
       "      <td>5</td>\n",
       "      <td>Kyoto Protocol</td>\n",
       "    </tr>\n",
       "    <tr>\n",
       "      <th>16</th>\n",
       "      <td>5</td>\n",
       "      <td>350.org</td>\n",
       "    </tr>\n",
       "    <tr>\n",
       "      <th>18</th>\n",
       "      <td>5</td>\n",
       "      <td>2010 United Nations Climate Change Conference</td>\n",
       "    </tr>\n",
       "    <tr>\n",
       "      <th>14</th>\n",
       "      <td>5</td>\n",
       "      <td>Climate change</td>\n",
       "    </tr>\n",
       "  </tbody>\n",
       "</table>\n",
       "</div>"
      ],
      "text/plain": [
       "    label                                        article\n",
       "29      0                               Jennifer Aniston\n",
       "26      0                                     Mila Kunis\n",
       "25      0                                  Russell Crowe\n",
       "24      0                                   Jessica Biel\n",
       "23      0                           Catherine Zeta-Jones\n",
       "22      0                              Denzel Washington\n",
       "21      0                             Michael Fassbender\n",
       "20      0                                 Angelina Jolie\n",
       "27      0                                 Dakota Fanning\n",
       "28      0                                  Anne Hathaway\n",
       "48      1                                     Gabapentin\n",
       "49      1                                       Lymphoma\n",
       "40      1                                    Tonsillitis\n",
       "41      1                                    Hepatitis B\n",
       "42      1                                    Doxycycline\n",
       "44      1                                           Gout\n",
       "45      1                                    Hepatitis C\n",
       "46      1                                     Prednisone\n",
       "47      1                                          Fever\n",
       "43      1                                       Leukemia\n",
       "50      2                                   Chad Kroeger\n",
       "51      2                                     Nate Ruess\n",
       "52      2                                     The Wanted\n",
       "53      2                                   Stevie Nicks\n",
       "54      2                                 Arctic Monkeys\n",
       "55      2                                  Black Sabbath\n",
       "56      2                                       Skrillex\n",
       "57      2                          Red Hot Chili Peppers\n",
       "58      2                                         Sepsis\n",
       "59      2                                    Adam Levine\n",
       "0       3                                       HTTP 404\n",
       "1       3                                 Alexa Internet\n",
       "2       3                              Internet Explorer\n",
       "3       3                                    HTTP cookie\n",
       "4       3                                  Google Search\n",
       "5       3                                         Tumblr\n",
       "6       3                    Hypertext Transfer Protocol\n",
       "7       3                                  Social search\n",
       "8       3                                        Firefox\n",
       "9       3                                       LinkedIn\n",
       "30      4                  France national football team\n",
       "38      4                                         Neymar\n",
       "31      4                              Cristiano Ronaldo\n",
       "32      4                                   Arsenal F.C.\n",
       "33      4                                 Radamel Falcao\n",
       "34      4                             Zlatan Ibrahimović\n",
       "35      4                Colombia national football team\n",
       "36      4              2014 FIFA World Cup qualification\n",
       "37      4                                       Football\n",
       "39      4                                  Franck Ribéry\n",
       "17      5  Greenhouse gas emissions by the United States\n",
       "10      5                                 Global warming\n",
       "11      5       Nationally Appropriate Mitigation Action\n",
       "12      5                                   Nigel Lawson\n",
       "13      5                               Connie Hedegaard\n",
       "19      5  2007 United Nations Climate Change Conference\n",
       "15      5                                 Kyoto Protocol\n",
       "16      5                                        350.org\n",
       "18      5  2010 United Nations Climate Change Conference\n",
       "14      5                                 Climate change"
      ]
     },
     "execution_count": 65,
     "metadata": {},
     "output_type": "execute_result"
    }
   ],
   "source": [
    "# Fit the pipeline to articles\n",
    "pipeline.fit(articles)\n",
    "\n",
    "# Calculate the cluster labels: labels\n",
    "labels = pipeline.predict(articles)\n",
    "\n",
    "# Create a DataFrame aligning labels and titles: df\n",
    "df = pd.DataFrame({'label': labels, 'article': titles})\n",
    "\n",
    "# Display df sorted by cluster label\n",
    "df.sort_values('label')"
   ]
  },
  {
   "cell_type": "markdown",
   "id": "10015bc9",
   "metadata": {},
   "source": [
    "<b>Fantastic! Take a look at the cluster labels and see if you can identify any patterns!"
   ]
  },
  {
   "cell_type": "markdown",
   "id": "4d7ed729",
   "metadata": {},
   "source": [
    "---"
   ]
  },
  {
   "cell_type": "markdown",
   "id": "61251c9d",
   "metadata": {},
   "source": [
    "# Chapter 4 - Discovering interpretable features"
   ]
  },
  {
   "cell_type": "markdown",
   "id": "2cfa7a8d",
   "metadata": {},
   "source": [
    "## In this chapter, you'll learn about a dimension reduction technique called \"Non-negative matrix factorization\" (\"NMF\") that expresses samples as combinations of interpretable parts. For example, it expresses documents as combinations of topics, and images in terms of commonly occurring visual patterns. You'll also learn to use NMF to build recommender systems that can find you similar articles to read, or musical artists that match your listening history!"
   ]
  },
  {
   "cell_type": "markdown",
   "id": "8189f654",
   "metadata": {},
   "source": [
    "### NMF applied to Wikipedia articles\n",
    "In the video, you saw NMF applied to transform a toy word-frequency array. Now it's your turn to apply NMF, this time using the tf-idf word-frequency array of Wikipedia articles, given as a csr matrix articles. Here, fit the model and transform the articles. In the next exercise, you'll explore the result."
   ]
  },
  {
   "cell_type": "code",
   "execution_count": 66,
   "id": "270684ac",
   "metadata": {},
   "outputs": [
    {
     "data": {
      "text/plain": [
       "array([[0.00000000e+00, 0.00000000e+00, 0.00000000e+00, 0.00000000e+00,\n",
       "        0.00000000e+00, 4.40471199e-01],\n",
       "       [0.00000000e+00, 0.00000000e+00, 0.00000000e+00, 0.00000000e+00,\n",
       "        0.00000000e+00, 5.66612813e-01],\n",
       "       [3.82055074e-03, 0.00000000e+00, 0.00000000e+00, 0.00000000e+00,\n",
       "        0.00000000e+00, 3.98651947e-01],\n",
       "       [0.00000000e+00, 0.00000000e+00, 0.00000000e+00, 0.00000000e+00,\n",
       "        0.00000000e+00, 3.81744868e-01],\n",
       "       [0.00000000e+00, 0.00000000e+00, 0.00000000e+00, 0.00000000e+00,\n",
       "        0.00000000e+00, 4.85524107e-01],\n",
       "       [1.29289727e-02, 1.37895911e-02, 7.76331040e-03, 3.34462687e-02,\n",
       "        0.00000000e+00, 3.34526889e-01],\n",
       "       [0.00000000e+00, 0.00000000e+00, 2.06745222e-02, 0.00000000e+00,\n",
       "        6.04522535e-03, 3.59065698e-01],\n",
       "       [0.00000000e+00, 0.00000000e+00, 0.00000000e+00, 0.00000000e+00,\n",
       "        0.00000000e+00, 4.90983810e-01],\n",
       "       [1.54273073e-02, 1.42823988e-02, 3.76639585e-03, 2.37095420e-02,\n",
       "        2.62634538e-02, 4.80781006e-01],\n",
       "       [1.11737720e-02, 3.13692091e-02, 3.09489103e-02, 6.56953671e-02,\n",
       "        1.96687633e-02, 3.38293784e-01],\n",
       "       [0.00000000e+00, 0.00000000e+00, 5.30725803e-01, 0.00000000e+00,\n",
       "        2.83695152e-02, 0.00000000e+00],\n",
       "       [0.00000000e+00, 0.00000000e+00, 3.56513588e-01, 0.00000000e+00,\n",
       "        0.00000000e+00, 0.00000000e+00],\n",
       "       [1.20126518e-02, 6.50065787e-03, 3.12248998e-01, 6.09728919e-02,\n",
       "        1.13867635e-02, 1.92605169e-02],\n",
       "       [3.93483116e-03, 6.24462701e-03, 3.42377364e-01, 1.10761390e-02,\n",
       "        0.00000000e+00, 0.00000000e+00],\n",
       "       [4.63818376e-03, 0.00000000e+00, 4.34920269e-01, 0.00000000e+00,\n",
       "        3.84296278e-02, 3.08138877e-03],\n",
       "       [0.00000000e+00, 0.00000000e+00, 4.83294909e-01, 0.00000000e+00,\n",
       "        0.00000000e+00, 0.00000000e+00],\n",
       "       [5.65013150e-03, 1.83541394e-02, 3.76537508e-01, 3.25438522e-02,\n",
       "        0.00000000e+00, 1.13336536e-02],\n",
       "       [0.00000000e+00, 0.00000000e+00, 4.80919543e-01, 0.00000000e+00,\n",
       "        0.00000000e+00, 0.00000000e+00],\n",
       "       [0.00000000e+00, 9.01893235e-03, 5.51014543e-01, 0.00000000e+00,\n",
       "        0.00000000e+00, 0.00000000e+00],\n",
       "       [0.00000000e+00, 0.00000000e+00, 4.65975221e-01, 0.00000000e+00,\n",
       "        0.00000000e+00, 0.00000000e+00],\n",
       "       [0.00000000e+00, 1.14084626e-02, 2.08658205e-02, 5.17731853e-01,\n",
       "        5.81440654e-02, 1.37856556e-02],\n",
       "       [0.00000000e+00, 0.00000000e+00, 0.00000000e+00, 5.10440336e-01,\n",
       "        0.00000000e+00, 0.00000000e+00],\n",
       "       [0.00000000e+00, 5.60123262e-03, 0.00000000e+00, 4.22350938e-01,\n",
       "        0.00000000e+00, 0.00000000e+00],\n",
       "       [0.00000000e+00, 0.00000000e+00, 0.00000000e+00, 4.36721361e-01,\n",
       "        0.00000000e+00, 0.00000000e+00],\n",
       "       [0.00000000e+00, 0.00000000e+00, 0.00000000e+00, 4.98057943e-01,\n",
       "        0.00000000e+00, 0.00000000e+00],\n",
       "       [9.88387739e-02, 8.60071321e-02, 3.91040788e-03, 3.80991412e-01,\n",
       "        4.39265372e-04, 5.22162976e-03],\n",
       "       [0.00000000e+00, 0.00000000e+00, 0.00000000e+00, 5.72130705e-01,\n",
       "        0.00000000e+00, 7.13558695e-03],\n",
       "       [1.31467994e-02, 1.04856787e-02, 0.00000000e+00, 4.68873933e-01,\n",
       "        0.00000000e+00, 1.16312021e-02],\n",
       "       [3.84548125e-03, 0.00000000e+00, 0.00000000e+00, 5.75671133e-01,\n",
       "        0.00000000e+00, 0.00000000e+00],\n",
       "       [2.25244493e-03, 1.38742163e-03, 0.00000000e+00, 5.27909599e-01,\n",
       "        1.20271317e-02, 1.49486855e-02],\n",
       "       [0.00000000e+00, 4.07560778e-01, 1.85716810e-03, 0.00000000e+00,\n",
       "        2.96626969e-03, 4.52346773e-04],\n",
       "       [1.53420129e-03, 6.08191841e-01, 5.22283572e-04, 6.24810097e-03,\n",
       "        1.18451187e-03, 4.40083234e-04],\n",
       "       [5.38816092e-03, 2.65025258e-01, 5.38517476e-04, 1.86912943e-02,\n",
       "        6.38686619e-03, 2.90109374e-03],\n",
       "       [0.00000000e+00, 6.44935840e-01, 0.00000000e+00, 0.00000000e+00,\n",
       "        0.00000000e+00, 0.00000000e+00],\n",
       "       [0.00000000e+00, 6.08925800e-01, 0.00000000e+00, 0.00000000e+00,\n",
       "        0.00000000e+00, 0.00000000e+00],\n",
       "       [0.00000000e+00, 3.43695876e-01, 0.00000000e+00, 0.00000000e+00,\n",
       "        3.97816972e-03, 0.00000000e+00],\n",
       "       [6.10504673e-03, 3.15322565e-01, 1.54881848e-02, 0.00000000e+00,\n",
       "        5.06272554e-03, 4.74342426e-03],\n",
       "       [6.47369982e-03, 2.13335166e-01, 9.49507466e-03, 4.56949688e-02,\n",
       "        1.71924039e-02, 9.52076543e-03],\n",
       "       [7.99142081e-03, 4.67609628e-01, 0.00000000e+00, 2.43408649e-02,\n",
       "        0.00000000e+00, 0.00000000e+00],\n",
       "       [0.00000000e+00, 6.42839990e-01, 0.00000000e+00, 2.35838395e-03,\n",
       "        0.00000000e+00, 0.00000000e+00],\n",
       "       [0.00000000e+00, 0.00000000e+00, 0.00000000e+00, 0.00000000e+00,\n",
       "        4.77106521e-01, 0.00000000e+00],\n",
       "       [0.00000000e+00, 0.00000000e+00, 0.00000000e+00, 0.00000000e+00,\n",
       "        4.94280551e-01, 0.00000000e+00],\n",
       "       [0.00000000e+00, 2.99076995e-04, 2.14490616e-03, 0.00000000e+00,\n",
       "        3.81797493e-01, 5.83789852e-03],\n",
       "       [0.00000000e+00, 0.00000000e+00, 0.00000000e+00, 5.64654505e-03,\n",
       "        5.42268229e-01, 0.00000000e+00],\n",
       "       [1.78058370e-03, 7.84437981e-04, 1.41629703e-02, 4.59784746e-04,\n",
       "        4.24323367e-01, 0.00000000e+00],\n",
       "       [0.00000000e+00, 0.00000000e+00, 0.00000000e+00, 0.00000000e+00,\n",
       "        5.11417113e-01, 0.00000000e+00],\n",
       "       [0.00000000e+00, 0.00000000e+00, 3.28390391e-03, 0.00000000e+00,\n",
       "        3.72905233e-01, 0.00000000e+00],\n",
       "       [0.00000000e+00, 2.62092610e-04, 3.61108956e-02, 2.32321175e-04,\n",
       "        2.30522109e-01, 0.00000000e+00],\n",
       "       [1.12516941e-02, 2.12334050e-03, 1.60974514e-02, 1.02477762e-02,\n",
       "        3.25477645e-01, 3.75886154e-02],\n",
       "       [0.00000000e+00, 0.00000000e+00, 0.00000000e+00, 0.00000000e+00,\n",
       "        4.18978938e-01, 3.57708980e-04],\n",
       "       [3.08371435e-01, 0.00000000e+00, 0.00000000e+00, 0.00000000e+00,\n",
       "        0.00000000e+00, 0.00000000e+00],\n",
       "       [3.68179159e-01, 0.00000000e+00, 0.00000000e+00, 0.00000000e+00,\n",
       "        0.00000000e+00, 0.00000000e+00],\n",
       "       [3.97950600e-01, 2.81711789e-02, 3.67016556e-03, 1.70054942e-02,\n",
       "        1.95977183e-03, 2.11647578e-02],\n",
       "       [3.75800027e-01, 2.07526963e-03, 0.00000000e+00, 3.72128750e-02,\n",
       "        0.00000000e+00, 5.85936373e-03],\n",
       "       [4.38034519e-01, 0.00000000e+00, 0.00000000e+00, 0.00000000e+00,\n",
       "        0.00000000e+00, 0.00000000e+00],\n",
       "       [4.57887619e-01, 0.00000000e+00, 0.00000000e+00, 0.00000000e+00,\n",
       "        0.00000000e+00, 0.00000000e+00],\n",
       "       [2.75481207e-01, 4.46970541e-03, 0.00000000e+00, 5.29619024e-02,\n",
       "        0.00000000e+00, 1.91000378e-02],\n",
       "       [4.45200345e-01, 0.00000000e+00, 0.00000000e+00, 0.00000000e+00,\n",
       "        5.48725994e-03, 0.00000000e+00],\n",
       "       [2.92744614e-01, 1.33668920e-02, 1.14264857e-02, 1.05192766e-02,\n",
       "        1.87705765e-01, 9.23978518e-03],\n",
       "       [3.78271952e-01, 1.43974743e-02, 0.00000000e+00, 9.85171819e-02,\n",
       "        1.35907190e-02, 0.00000000e+00]])"
      ]
     },
     "execution_count": 66,
     "metadata": {},
     "output_type": "execute_result"
    }
   ],
   "source": [
    "# Import NMF\n",
    "from sklearn.decomposition import NMF\n",
    "\n",
    "# Create an NMF instance: model\n",
    "model = NMF(n_components = 6)\n",
    "\n",
    "# Fit the model to articles\n",
    "model.fit(articles)\n",
    "\n",
    "# Transform the articles: nmf_features\n",
    "nmf_features = model.transform(articles)\n",
    "\n",
    "# Print the NMF features\n",
    "nmf_features"
   ]
  },
  {
   "cell_type": "raw",
   "id": "a2132f81",
   "metadata": {},
   "source": [
    "Fantastic - these NMF features don't make much sense at this point, but you will explore them in the next exercise!"
   ]
  },
  {
   "cell_type": "markdown",
   "id": "75c72155",
   "metadata": {},
   "source": [
    "### NMF features of the Wikipedia articles\n",
    "Now you will explore the NMF features you created in the previous exercise.  \n",
    "\n",
    "When investigating the features, notice that for both actors, the NMF feature 3 has by far the highest value. This means that both articles are reconstructed using mainly the 3rd NMF component."
   ]
  },
  {
   "cell_type": "code",
   "execution_count": 67,
   "id": "01265cfd",
   "metadata": {},
   "outputs": [
    {
     "name": "stdout",
     "output_type": "stream",
     "text": [
      "0    0.003845\n",
      "1    0.000000\n",
      "2    0.000000\n",
      "3    0.575671\n",
      "4    0.000000\n",
      "5    0.000000\n",
      "Name: Anne Hathaway, dtype: float64\n",
      "0    0.000000\n",
      "1    0.005601\n",
      "2    0.000000\n",
      "3    0.422351\n",
      "4    0.000000\n",
      "5    0.000000\n",
      "Name: Denzel Washington, dtype: float64\n"
     ]
    }
   ],
   "source": [
    "# Create a pandas DataFrame: df\n",
    "df = pd.DataFrame(nmf_features, index = titles)\n",
    "\n",
    "# Print the row for 'Anne Hathaway'\n",
    "print(df.loc['Anne Hathaway'])\n",
    "\n",
    "# Print the row for 'Denzel Washington'\n",
    "print(df.loc['Denzel Washington'])"
   ]
  },
  {
   "cell_type": "raw",
   "id": "5ecdbd56",
   "metadata": {},
   "source": [
    "Great work! Notice that for both actors, the NMF feature 3 has by far the highest value. This means that both articles are reconstructed using mainly the 3rd NMF component. "
   ]
  },
  {
   "cell_type": "markdown",
   "id": "d7b87720",
   "metadata": {},
   "source": [
    "### NMF learns topics of documents\n",
    "In the video, you learned when NMF is applied to documents, the components correspond to topics of documents, and the NMF features reconstruct the documents from the topics. Verify this for yourself for the NMF model that you built earlier using the Wikipedia articles. Previously, you saw that the 3rd NMF feature value was high for the articles about actors Anne Hathaway and Denzel Washington. In this exercise, identify the topic of the corresponding NMF component.\n",
    "\n",
    "The NMF model you built earlier is available as model, while words is a list of the words that label the columns of the word-frequency array.\n",
    "\n",
    "After you are done, take a moment to recognise the topic that the articles about Anne Hathaway and Denzel Washington have in common!"
   ]
  },
  {
   "cell_type": "code",
   "execution_count": 68,
   "id": "2bc02e49",
   "metadata": {},
   "outputs": [],
   "source": [
    "words = pd.read_csv('Wikipedia articles/wikipedia-vocabulary-utf8.txt', header = None)"
   ]
  },
  {
   "cell_type": "code",
   "execution_count": 69,
   "id": "5e5885b3",
   "metadata": {},
   "outputs": [
    {
     "data": {
      "text/plain": [
       "array([['aaron'],\n",
       "       ['abandon'],\n",
       "       ['abandoned'],\n",
       "       ...,\n",
       "       ['zone'],\n",
       "       ['zones'],\n",
       "       ['zoo']], dtype=object)"
      ]
     },
     "execution_count": 69,
     "metadata": {},
     "output_type": "execute_result"
    }
   ],
   "source": [
    "words = words.values\n",
    "words"
   ]
  },
  {
   "cell_type": "code",
   "execution_count": 70,
   "id": "655f1236",
   "metadata": {},
   "outputs": [
    {
     "name": "stdout",
     "output_type": "stream",
     "text": [
      "(6, 13125)\n",
      "(film,)       0.627920\n",
      "(award,)      0.253149\n",
      "(starred,)    0.245301\n",
      "(role,)       0.211465\n",
      "(actress,)    0.186411\n",
      "Name: 3, dtype: float64\n"
     ]
    }
   ],
   "source": [
    "# Create a DataFrame: components_df\n",
    "components_df = pd.DataFrame(model.components_, columns = words)\n",
    "\n",
    "# Print the shape of the DataFrame\n",
    "print(components_df.shape)\n",
    "\n",
    "# Select row 3: component\n",
    "component = components_df.iloc[3]\n",
    "\n",
    "# Print result of nlargest\n",
    "print(component.nlargest())"
   ]
  },
  {
   "cell_type": "raw",
   "id": "84198865",
   "metadata": {},
   "source": [
    "Great work! Take a moment to recognise the topics that the articles about Anne Hathaway and Denzel Washington have in common!"
   ]
  },
  {
   "cell_type": "markdown",
   "id": "02afcb6f",
   "metadata": {},
   "source": [
    "### Explore the LED digits dataset\n",
    "In the following exercises, you'll use NMF to decompose grayscale images into their commonly occurring patterns. Firstly, explore the image dataset and see how it is encoded as an array. You are given 100 images as a 2D array samples, where each row represents a single 13x8 image. The images in your dataset are pictures of a LED digital display."
   ]
  },
  {
   "cell_type": "code",
   "execution_count": 71,
   "id": "94ba3f11",
   "metadata": {},
   "outputs": [
    {
     "data": {
      "text/html": [
       "<div>\n",
       "<style scoped>\n",
       "    .dataframe tbody tr th:only-of-type {\n",
       "        vertical-align: middle;\n",
       "    }\n",
       "\n",
       "    .dataframe tbody tr th {\n",
       "        vertical-align: top;\n",
       "    }\n",
       "\n",
       "    .dataframe thead th {\n",
       "        text-align: right;\n",
       "    }\n",
       "</style>\n",
       "<table border=\"1\" class=\"dataframe\">\n",
       "  <thead>\n",
       "    <tr style=\"text-align: right;\">\n",
       "      <th></th>\n",
       "      <th>0</th>\n",
       "      <th>1</th>\n",
       "      <th>2</th>\n",
       "      <th>3</th>\n",
       "      <th>4</th>\n",
       "      <th>5</th>\n",
       "      <th>6</th>\n",
       "      <th>7</th>\n",
       "      <th>8</th>\n",
       "      <th>9</th>\n",
       "      <th>...</th>\n",
       "      <th>94</th>\n",
       "      <th>95</th>\n",
       "      <th>96</th>\n",
       "      <th>97</th>\n",
       "      <th>98</th>\n",
       "      <th>99</th>\n",
       "      <th>100</th>\n",
       "      <th>101</th>\n",
       "      <th>102</th>\n",
       "      <th>103</th>\n",
       "    </tr>\n",
       "  </thead>\n",
       "  <tbody>\n",
       "    <tr>\n",
       "      <th>0</th>\n",
       "      <td>0.0</td>\n",
       "      <td>0.0</td>\n",
       "      <td>0.0</td>\n",
       "      <td>0.0</td>\n",
       "      <td>0.0</td>\n",
       "      <td>0.0</td>\n",
       "      <td>0.0</td>\n",
       "      <td>0.0</td>\n",
       "      <td>0.0</td>\n",
       "      <td>0.0</td>\n",
       "      <td>...</td>\n",
       "      <td>0.0</td>\n",
       "      <td>0.0</td>\n",
       "      <td>0.0</td>\n",
       "      <td>0.0</td>\n",
       "      <td>0.0</td>\n",
       "      <td>0.0</td>\n",
       "      <td>0.0</td>\n",
       "      <td>0.0</td>\n",
       "      <td>0.0</td>\n",
       "      <td>0.0</td>\n",
       "    </tr>\n",
       "    <tr>\n",
       "      <th>1</th>\n",
       "      <td>0.0</td>\n",
       "      <td>0.0</td>\n",
       "      <td>0.0</td>\n",
       "      <td>0.0</td>\n",
       "      <td>0.0</td>\n",
       "      <td>0.0</td>\n",
       "      <td>0.0</td>\n",
       "      <td>0.0</td>\n",
       "      <td>0.0</td>\n",
       "      <td>0.0</td>\n",
       "      <td>...</td>\n",
       "      <td>0.0</td>\n",
       "      <td>0.0</td>\n",
       "      <td>0.0</td>\n",
       "      <td>0.0</td>\n",
       "      <td>0.0</td>\n",
       "      <td>0.0</td>\n",
       "      <td>0.0</td>\n",
       "      <td>0.0</td>\n",
       "      <td>0.0</td>\n",
       "      <td>0.0</td>\n",
       "    </tr>\n",
       "    <tr>\n",
       "      <th>2</th>\n",
       "      <td>0.0</td>\n",
       "      <td>0.0</td>\n",
       "      <td>0.0</td>\n",
       "      <td>0.0</td>\n",
       "      <td>0.0</td>\n",
       "      <td>0.0</td>\n",
       "      <td>0.0</td>\n",
       "      <td>0.0</td>\n",
       "      <td>0.0</td>\n",
       "      <td>0.0</td>\n",
       "      <td>...</td>\n",
       "      <td>0.0</td>\n",
       "      <td>0.0</td>\n",
       "      <td>0.0</td>\n",
       "      <td>0.0</td>\n",
       "      <td>0.0</td>\n",
       "      <td>0.0</td>\n",
       "      <td>0.0</td>\n",
       "      <td>0.0</td>\n",
       "      <td>0.0</td>\n",
       "      <td>0.0</td>\n",
       "    </tr>\n",
       "    <tr>\n",
       "      <th>3</th>\n",
       "      <td>0.0</td>\n",
       "      <td>0.0</td>\n",
       "      <td>0.0</td>\n",
       "      <td>0.0</td>\n",
       "      <td>0.0</td>\n",
       "      <td>0.0</td>\n",
       "      <td>0.0</td>\n",
       "      <td>0.0</td>\n",
       "      <td>0.0</td>\n",
       "      <td>0.0</td>\n",
       "      <td>...</td>\n",
       "      <td>0.0</td>\n",
       "      <td>0.0</td>\n",
       "      <td>0.0</td>\n",
       "      <td>0.0</td>\n",
       "      <td>0.0</td>\n",
       "      <td>0.0</td>\n",
       "      <td>0.0</td>\n",
       "      <td>0.0</td>\n",
       "      <td>0.0</td>\n",
       "      <td>0.0</td>\n",
       "    </tr>\n",
       "    <tr>\n",
       "      <th>4</th>\n",
       "      <td>0.0</td>\n",
       "      <td>0.0</td>\n",
       "      <td>0.0</td>\n",
       "      <td>0.0</td>\n",
       "      <td>0.0</td>\n",
       "      <td>0.0</td>\n",
       "      <td>0.0</td>\n",
       "      <td>0.0</td>\n",
       "      <td>0.0</td>\n",
       "      <td>0.0</td>\n",
       "      <td>...</td>\n",
       "      <td>0.0</td>\n",
       "      <td>0.0</td>\n",
       "      <td>0.0</td>\n",
       "      <td>0.0</td>\n",
       "      <td>0.0</td>\n",
       "      <td>0.0</td>\n",
       "      <td>0.0</td>\n",
       "      <td>0.0</td>\n",
       "      <td>0.0</td>\n",
       "      <td>0.0</td>\n",
       "    </tr>\n",
       "  </tbody>\n",
       "</table>\n",
       "<p>5 rows × 104 columns</p>\n",
       "</div>"
      ],
      "text/plain": [
       "   0    1    2    3    4    5    6    7    8    9    ...  94   95   96   97   \\\n",
       "0  0.0  0.0  0.0  0.0  0.0  0.0  0.0  0.0  0.0  0.0  ...  0.0  0.0  0.0  0.0   \n",
       "1  0.0  0.0  0.0  0.0  0.0  0.0  0.0  0.0  0.0  0.0  ...  0.0  0.0  0.0  0.0   \n",
       "2  0.0  0.0  0.0  0.0  0.0  0.0  0.0  0.0  0.0  0.0  ...  0.0  0.0  0.0  0.0   \n",
       "3  0.0  0.0  0.0  0.0  0.0  0.0  0.0  0.0  0.0  0.0  ...  0.0  0.0  0.0  0.0   \n",
       "4  0.0  0.0  0.0  0.0  0.0  0.0  0.0  0.0  0.0  0.0  ...  0.0  0.0  0.0  0.0   \n",
       "\n",
       "   98   99   100  101  102  103  \n",
       "0  0.0  0.0  0.0  0.0  0.0  0.0  \n",
       "1  0.0  0.0  0.0  0.0  0.0  0.0  \n",
       "2  0.0  0.0  0.0  0.0  0.0  0.0  \n",
       "3  0.0  0.0  0.0  0.0  0.0  0.0  \n",
       "4  0.0  0.0  0.0  0.0  0.0  0.0  \n",
       "\n",
       "[5 rows x 104 columns]"
      ]
     },
     "execution_count": 71,
     "metadata": {},
     "output_type": "execute_result"
    }
   ],
   "source": [
    "samples = pd.read_csv('lcd-digits.csv', header = None)\n",
    "samples.head()"
   ]
  },
  {
   "cell_type": "code",
   "execution_count": 72,
   "id": "6391b2f8",
   "metadata": {},
   "outputs": [],
   "source": [
    "samples = samples.values"
   ]
  },
  {
   "cell_type": "markdown",
   "id": "b633e61e",
   "metadata": {},
   "source": [
    "__Instructions__\n",
    "- Select row 0 of samples and assign the result to digit. For example, to select column 2 of an array a, you could use a[:,2]. Remember that since samples is a NumPy array, you can't use the .loc[] or iloc[] accessors to select specific rows or columns.\n",
    "- Print digit. This has been done for you. Notice that it is a 1D array of 0s and 1s.\n",
    "- Use the .reshape() method of digit to get a 2D array with shape (13, 8). Assign the result to bitmap.\n",
    "- Print bitmap, and notice that the 1s show the digit 7!\n",
    "- Use the plt.imshow() function to display bitmap as an image."
   ]
  },
  {
   "cell_type": "code",
   "execution_count": 73,
   "id": "c30baa7d",
   "metadata": {},
   "outputs": [
    {
     "name": "stdout",
     "output_type": "stream",
     "text": [
      "[0. 0. 0. 0. 0. 0. 0. 0. 0. 0. 1. 1. 1. 1. 0. 0. 0. 0. 0. 0. 0. 0. 1. 0.\n",
      " 0. 0. 0. 0. 0. 0. 1. 0. 0. 0. 0. 0. 0. 0. 1. 0. 0. 0. 0. 0. 0. 0. 1. 0.\n",
      " 0. 0. 0. 0. 0. 0. 0. 0. 0. 0. 0. 0. 0. 0. 1. 0. 0. 0. 0. 0. 0. 0. 1. 0.\n",
      " 0. 0. 0. 0. 0. 0. 1. 0. 0. 0. 0. 0. 0. 0. 1. 0. 0. 0. 0. 0. 0. 0. 0. 0.\n",
      " 0. 0. 0. 0. 0. 0. 0. 0.]\n",
      "[[0. 0. 0. 0. 0. 0. 0. 0.]\n",
      " [0. 0. 1. 1. 1. 1. 0. 0.]\n",
      " [0. 0. 0. 0. 0. 0. 1. 0.]\n",
      " [0. 0. 0. 0. 0. 0. 1. 0.]\n",
      " [0. 0. 0. 0. 0. 0. 1. 0.]\n",
      " [0. 0. 0. 0. 0. 0. 1. 0.]\n",
      " [0. 0. 0. 0. 0. 0. 0. 0.]\n",
      " [0. 0. 0. 0. 0. 0. 1. 0.]\n",
      " [0. 0. 0. 0. 0. 0. 1. 0.]\n",
      " [0. 0. 0. 0. 0. 0. 1. 0.]\n",
      " [0. 0. 0. 0. 0. 0. 1. 0.]\n",
      " [0. 0. 0. 0. 0. 0. 0. 0.]\n",
      " [0. 0. 0. 0. 0. 0. 0. 0.]]\n"
     ]
    },
    {
     "data": {
      "text/plain": [
       "<matplotlib.colorbar.Colorbar at 0x1cae71456d0>"
      ]
     },
     "execution_count": 73,
     "metadata": {},
     "output_type": "execute_result"
    },
    {
     "data": {
      "image/png": "[encoded data removed]",
      "text/plain": [
       "<Figure size 432x288 with 2 Axes>"
      ]
     },
     "metadata": {
      "needs_background": "light"
     },
     "output_type": "display_data"
    }
   ],
   "source": [
    "# Select the 0th row: digit\n",
    "digit = samples[0]\n",
    "\n",
    "# Print digit\n",
    "print(digit)\n",
    "\n",
    "# Reshape digit to a 13x8 array: bitmap\n",
    "bitmap = digit.reshape(13,8)\n",
    "\n",
    "# Print bitmap\n",
    "print(bitmap)\n",
    "\n",
    "# Use plt.imshow to display bitmap\n",
    "plt.imshow(bitmap, cmap='gray', interpolation='nearest')\n",
    "plt.colorbar()"
   ]
  },
  {
   "cell_type": "raw",
   "id": "3b95f32f",
   "metadata": {},
   "source": [
    "Excellent job! You'll explore this dataset further in the next exercise and see for yourself how NMF can learn the parts of images."
   ]
  },
  {
   "cell_type": "markdown",
   "id": "41681baa",
   "metadata": {},
   "source": [
    "### NMF learns the parts of images\n",
    "Now use what you've learned about NMF to decompose the digits dataset. You are again given the digit images as a 2D array samples. This time, you are also provided with a function show_as_image() that displays the image encoded by any 1D array:\n",
    "\n",
    "```python\n",
    "def show_as_image(sample):\n",
    "    bitmap = sample.reshape((13, 8))\n",
    "    plt.figure()\n",
    "    plt.imshow(bitmap, cmap='gray', interpolation='nearest')\n",
    "    plt.colorbar()\n",
    "    plt.show()\n",
    "```  \n",
    "After you are done, take a moment to look through the plots and notice how NMF has expressed the digit as a sum of the components!"
   ]
  },
  {
   "cell_type": "code",
   "execution_count": 74,
   "id": "a0a3cd30",
   "metadata": {},
   "outputs": [],
   "source": [
    "def show_as_image(sample):\n",
    "    bitmap = sample.reshape((13, 8))\n",
    "    plt.figure()\n",
    "    plt.imshow(bitmap, cmap='gray', interpolation='nearest')\n",
    "    plt.colorbar()\n",
    "    plt.show()"
   ]
  },
  {
   "cell_type": "markdown",
   "id": "61152c74",
   "metadata": {},
   "source": [
    "__Instructions__\n",
    "- Import NMF from sklearn.decomposition.\n",
    "- Create an NMF instance called model with 7 components. (7 is the number of cells in an LED display).\n",
    "- Apply the .fit_transform() method of model to samples. Assign the result to features.\n",
    "- To each component of the model (accessed via model.components_), apply the show_as_image() function to that component inside the loop.\n",
    "- Assign the row 0 of features to digit_features.\n",
    "- Print digit_features"
   ]
  },
  {
   "cell_type": "code",
   "execution_count": 75,
   "id": "f47facc7",
   "metadata": {},
   "outputs": [
    {
     "data": {
      "image/png": "[encoded data removed]",
      "text/plain": [
       "<Figure size 432x288 with 2 Axes>"
      ]
     },
     "metadata": {
      "needs_background": "light"
     },
     "output_type": "display_data"
    },
    {
     "data": {
      "image/png": "[encoded data removed]",
      "text/plain": [
       "<Figure size 432x288 with 2 Axes>"
      ]
     },
     "metadata": {
      "needs_background": "light"
     },
     "output_type": "display_data"
    },
    {
     "data": {
      "image/png": "[encoded data removed]",
      "text/plain": [
       "<Figure size 432x288 with 2 Axes>"
      ]
     },
     "metadata": {
      "needs_background": "light"
     },
     "output_type": "display_data"
    },
    {
     "data": {
      "image/png": "[encoded data removed]",
      "text/plain": [
       "<Figure size 432x288 with 2 Axes>"
      ]
     },
     "metadata": {
      "needs_background": "light"
     },
     "output_type": "display_data"
    },
    {
     "data": {
      "image/png": "[encoded data removed]",
      "text/plain": [
       "<Figure size 432x288 with 2 Axes>"
      ]
     },
     "metadata": {
      "needs_background": "light"
     },
     "output_type": "display_data"
    },
    {
     "data": {
      "image/png": "[encoded data removed]",
      "text/plain": [
       "<Figure size 432x288 with 2 Axes>"
      ]
     },
     "metadata": {
      "needs_background": "light"
     },
     "output_type": "display_data"
    },
    {
     "data": {
      "image/png": "[encoded data removed]",
      "text/plain": [
       "<Figure size 432x288 with 2 Axes>"
      ]
     },
     "metadata": {
      "needs_background": "light"
     },
     "output_type": "display_data"
    },
    {
     "name": "stdout",
     "output_type": "stream",
     "text": [
      "[4.76823559e-01 0.00000000e+00 0.00000000e+00 5.90605054e-01\n",
      " 4.81559442e-01 0.00000000e+00 7.37557191e-16]\n"
     ]
    }
   ],
   "source": [
    "# Import NMF\n",
    "from sklearn.decomposition import NMF\n",
    "\n",
    "# Create an NMF model: model\n",
    "model = NMF(n_components = 7)\n",
    "\n",
    "# Apply fit_transform to samples: features\n",
    "features = model.fit_transform(samples)\n",
    "\n",
    "# Call show_as_image on each component\n",
    "for component in model.components_:\n",
    "    show_as_image(component)\n",
    "\n",
    "# Assign the 0th row of features: digit_features\n",
    "digit_features = features[0]\n",
    "\n",
    "# Print digit_features\n",
    "print(digit_features)"
   ]
  },
  {
   "cell_type": "raw",
   "id": "048ff211",
   "metadata": {},
   "source": [
    "Great work! Take a moment to look through the plots and notice how NMF has expressed the digit as a sum of the components!"
   ]
  },
  {
   "cell_type": "markdown",
   "id": "aca8bd1e",
   "metadata": {},
   "source": [
    "### PCA doesn't learn parts\n",
    "Unlike NMF, PCA doesn't learn the parts of things. Its components do not correspond to topics (in the case of documents) or to parts of images, when trained on images. Verify this for yourself by inspecting the components of a PCA model fit to the dataset of LED digit images from the previous exercise. The images are available as a 2D array samples. Also available is a modified version of the show_as_image() function which colors a pixel red if the value is negative.\n",
    "\n",
    "After submitting the answer, notice that the components of PCA do not represent meaningful parts of images of LED digits!"
   ]
  },
  {
   "cell_type": "code",
   "execution_count": 76,
   "id": "d2d541ad",
   "metadata": {},
   "outputs": [
    {
     "data": {
      "image/png": "[encoded data removed]",
      "text/plain": [
       "<Figure size 432x288 with 2 Axes>"
      ]
     },
     "metadata": {
      "needs_background": "light"
     },
     "output_type": "display_data"
    },
    {
     "data": {
      "image/png": "[encoded data removed]",
      "text/plain": [
       "<Figure size 432x288 with 2 Axes>"
      ]
     },
     "metadata": {
      "needs_background": "light"
     },
     "output_type": "display_data"
    },
    {
     "data": {
      "image/png": "[encoded data removed]",
      "text/plain": [
       "<Figure size 432x288 with 2 Axes>"
      ]
     },
     "metadata": {
      "needs_background": "light"
     },
     "output_type": "display_data"
    },
    {
     "data": {
      "image/png": "[encoded data removed]",
      "text/plain": [
       "<Figure size 432x288 with 2 Axes>"
      ]
     },
     "metadata": {
      "needs_background": "light"
     },
     "output_type": "display_data"
    },
    {
     "data": {
      "image/png": "[encoded data removed]",
      "text/plain": [
       "<Figure size 432x288 with 2 Axes>"
      ]
     },
     "metadata": {
      "needs_background": "light"
     },
     "output_type": "display_data"
    },
    {
     "data": {
      "image/png": "[encoded data removed]",
      "text/plain": [
       "<Figure size 432x288 with 2 Axes>"
      ]
     },
     "metadata": {
      "needs_background": "light"
     },
     "output_type": "display_data"
    },
    {
     "data": {
      "image/png": "[encoded data removed]",
      "text/plain": [
       "<Figure size 432x288 with 2 Axes>"
      ]
     },
     "metadata": {
      "needs_background": "light"
     },
     "output_type": "display_data"
    }
   ],
   "source": [
    "# Import PCA\n",
    "from sklearn.decomposition import PCA\n",
    "\n",
    "# Create a PCA instance: model\n",
    "model = PCA(n_components = 7)\n",
    "\n",
    "# Apply fit_transform to samples: features\n",
    "features = model.fit_transform(samples)\n",
    "\n",
    "# Call show_as_image on each component\n",
    "for component in model.components_:\n",
    "    show_as_image(component)\n",
    "    "
   ]
  },
  {
   "cell_type": "markdown",
   "id": "439c55be",
   "metadata": {},
   "source": [
    "#### Great work! Notice that the components of PCA do not represent meaningful parts of images of LED digits!"
   ]
  },
  {
   "cell_type": "markdown",
   "id": "747c3a27",
   "metadata": {},
   "source": [
    "### Which articles are similar to 'Cristiano Ronaldo'?\n",
    "In the video, you learned how to use NMF features and the cosine similarity to find similar articles. Apply this to your NMF model for popular Wikipedia articles, by finding the articles most similar to the article about the footballer Cristiano Ronaldo. The NMF features you obtained earlier are available as nmf_features, while titles is a list of the article titles."
   ]
  },
  {
   "cell_type": "markdown",
   "id": "651e8e2f",
   "metadata": {},
   "source": [
    "__Instructions__\n",
    "- Apply the normalize() function to nmf_features. Store the result as norm_features.\n",
    "- Create a DataFrame df from norm_features, using titles as an index.\n",
    "- Use the .loc[] accessor of df to select the row of 'Cristiano Ronaldo'. Assign the result to article.\n",
    "- Apply the .dot() method of df to article to calculate the cosine similarity of every row with article.\n",
    "- Print the result of the .nlargest() method of similarities to display the most similiar articles. "
   ]
  },
  {
   "cell_type": "code",
   "execution_count": 77,
   "id": "d6a36b6e",
   "metadata": {},
   "outputs": [
    {
     "name": "stdout",
     "output_type": "stream",
     "text": [
      "Cristiano Ronaldo                1.000000\n",
      "Franck Ribéry                    0.999972\n",
      "Radamel Falcao                   0.999942\n",
      "Zlatan Ibrahimović               0.999942\n",
      "France national football team    0.999923\n",
      "dtype: float64\n"
     ]
    }
   ],
   "source": [
    "# Perform the necessary imports\n",
    "from sklearn.preprocessing import normalize\n",
    "\n",
    "# Normalize the NMF features: norm_features\n",
    "norm_features = normalize(nmf_features)\n",
    "\n",
    "# Create a DataFrame: df\n",
    "df = pd.DataFrame(norm_features, index = titles)\n",
    "\n",
    "# Select the row corresponding to 'Cristiano Ronaldo': article\n",
    "article = df.loc['Cristiano Ronaldo']\n",
    "\n",
    "# Compute the dot products: similarities\n",
    "similarities = df.dot(article)\n",
    "\n",
    "# Display those with the largest cosine similarity\n",
    "print(similarities.nlargest())"
   ]
  },
  {
   "cell_type": "markdown",
   "id": "25d8043c",
   "metadata": {},
   "source": [
    "#### Great work - although you may need to know a little about football (or soccer, depending on where you're from!) to be able to evaluate for yourself the quality of the computed similarities!"
   ]
  },
  {
   "cell_type": "markdown",
   "id": "338afb26",
   "metadata": {},
   "source": [
    "### Recommend musical artists part I\n",
    "In this exercise and the next, you'll use what you've learned about NMF to recommend popular music artists! You are given a sparse array artists whose rows correspond to artists and whose column correspond to users. The entries give the number of times each artist was listened to by each user.\n",
    "\n",
    "In this exercise, build a pipeline and transform the array into normalized NMF features. The first step in the pipeline, MaxAbsScaler, transforms the data so that all users have the same influence on the model, regardless of how many different artists they've listened to. In the next exercise, you'll use the resulting normalized NMF features for recommendation!"
   ]
  },
  {
   "cell_type": "code",
   "execution_count": 78,
   "id": "daf61f44",
   "metadata": {},
   "outputs": [],
   "source": [
    "df = pd.read_csv('Musical artists/scrobbler-small-sample.csv', index_col = 0)\n",
    "#artists = csr_matrix(df.transpose())"
   ]
  },
  {
   "cell_type": "code",
   "execution_count": 79,
   "id": "7a8430e2",
   "metadata": {},
   "outputs": [
    {
     "data": {
      "text/html": [
       "<div>\n",
       "<style scoped>\n",
       "    .dataframe tbody tr th:only-of-type {\n",
       "        vertical-align: middle;\n",
       "    }\n",
       "\n",
       "    .dataframe tbody tr th {\n",
       "        vertical-align: top;\n",
       "    }\n",
       "\n",
       "    .dataframe thead th {\n",
       "        text-align: right;\n",
       "    }\n",
       "</style>\n",
       "<table border=\"1\" class=\"dataframe\">\n",
       "  <thead>\n",
       "    <tr style=\"text-align: right;\">\n",
       "      <th></th>\n",
       "      <th>artist_offset</th>\n",
       "      <th>playcount</th>\n",
       "    </tr>\n",
       "    <tr>\n",
       "      <th>user_offset</th>\n",
       "      <th></th>\n",
       "      <th></th>\n",
       "    </tr>\n",
       "  </thead>\n",
       "  <tbody>\n",
       "    <tr>\n",
       "      <th>1</th>\n",
       "      <td>79</td>\n",
       "      <td>58</td>\n",
       "    </tr>\n",
       "    <tr>\n",
       "      <th>1</th>\n",
       "      <td>84</td>\n",
       "      <td>80</td>\n",
       "    </tr>\n",
       "    <tr>\n",
       "      <th>1</th>\n",
       "      <td>86</td>\n",
       "      <td>317</td>\n",
       "    </tr>\n",
       "    <tr>\n",
       "      <th>1</th>\n",
       "      <td>89</td>\n",
       "      <td>64</td>\n",
       "    </tr>\n",
       "    <tr>\n",
       "      <th>1</th>\n",
       "      <td>96</td>\n",
       "      <td>159</td>\n",
       "    </tr>\n",
       "  </tbody>\n",
       "</table>\n",
       "</div>"
      ],
      "text/plain": [
       "             artist_offset  playcount\n",
       "user_offset                          \n",
       "1                       79         58\n",
       "1                       84         80\n",
       "1                       86        317\n",
       "1                       89         64\n",
       "1                       96        159"
      ]
     },
     "execution_count": 79,
     "metadata": {},
     "output_type": "execute_result"
    }
   ],
   "source": [
    "df.head()"
   ]
  },
  {
   "cell_type": "code",
   "execution_count": 80,
   "id": "c0dbacd8",
   "metadata": {},
   "outputs": [],
   "source": [
    "df = df.pivot(columns = 'artist_offset', values = 'playcount')"
   ]
  },
  {
   "cell_type": "code",
   "execution_count": 81,
   "id": "6b943e54",
   "metadata": {},
   "outputs": [],
   "source": [
    "df = df.fillna(0)"
   ]
  },
  {
   "cell_type": "code",
   "execution_count": 82,
   "id": "b14ddebd",
   "metadata": {},
   "outputs": [],
   "source": [
    "artists = csr_matrix(df.transpose())"
   ]
  },
  {
   "cell_type": "markdown",
   "id": "17342a93",
   "metadata": {},
   "source": [
    "__Instructions__\n",
    "- Import:\n",
    "    - NMF from sklearn.decomposition.\n",
    "    - Normalizer and MaxAbsScaler from sklearn.preprocessing.\n",
    "    - make_pipeline from sklearn.pipeline.\n",
    "- Create an instance of MaxAbsScaler called scaler.\n",
    "- Create an NMF instance with 20 components called nmf.\n",
    "- Create an instance of Normalizer called normalizer.\n",
    "- Create a pipeline called pipeline that chains together scaler, nmf, and normalizer.\n",
    "- Apply the .fit_transform() method of pipeline t"
   ]
  },
  {
   "cell_type": "code",
   "execution_count": 83,
   "id": "9b847532",
   "metadata": {},
   "outputs": [],
   "source": [
    "# Perform the necessary imports\n",
    "from sklearn.decomposition import NMF\n",
    "from sklearn.preprocessing import Normalizer, MaxAbsScaler\n",
    "from sklearn.pipeline import make_pipeline\n",
    "\n",
    "# Create a MaxAbsScaler: scaler\n",
    "scaler = MaxAbsScaler()\n",
    "\n",
    "# Create an NMF model: nmf\n",
    "nmf = NMF(n_components = 20)\n",
    "\n",
    "# Create a Normalizer: normalizer\n",
    "normalizer = Normalizer()\n",
    "\n",
    "# Create a pipeline: pipeline\n",
    "pipeline = make_pipeline(scaler, nmf, normalizer)\n",
    "\n",
    "# Apply fit_transform to artists: norm_features\n",
    "norm_features = pipeline.fit_transform(artists)\n"
   ]
  },
  {
   "cell_type": "raw",
   "id": "dafeb007",
   "metadata": {},
   "source": [
    "Excellent work - now that you've computed the normalized NMF features, you'll use them in the next exercise to recommend musical artists!"
   ]
  },
  {
   "cell_type": "markdown",
   "id": "0586b0b7",
   "metadata": {},
   "source": [
    "### Recommend musical artists part II\n",
    "Suppose you were a big fan of Bruce Springsteen - which other musicial artists might you like? Use your NMF features from the previous exercise and the cosine similarity to find similar musical artists. A solution to the previous exercise has been run, so norm_features is an array containing the normalized NMF features as rows. The names of the musical artists are available as the list artist_names."
   ]
  },
  {
   "cell_type": "code",
   "execution_count": 84,
   "id": "1ce2c6ed",
   "metadata": {},
   "outputs": [],
   "source": [
    "artist_names = pd.read_csv('Musical artists/artists.csv', header = None)"
   ]
  },
  {
   "cell_type": "code",
   "execution_count": 85,
   "id": "5236a336",
   "metadata": {},
   "outputs": [],
   "source": [
    "artist_names = artist_names[0].values"
   ]
  },
  {
   "cell_type": "markdown",
   "id": "0abfbabd",
   "metadata": {},
   "source": [
    "__Instructions__\n",
    "- Create a DataFrame df from norm_features, using artist_names as an index.\n",
    "- Use the .loc[] accessor of df to select the row of 'Bruce Springsteen'. Assign the result to artist.\n",
    "- Apply the .dot() method of df to artist to calculate the dot product of every row with artist. Save the result as similarities.\n",
    "- Print the result of the .nlargest() method of similarities to display the artists most similar to 'Bruce Springsteen'."
   ]
  },
  {
   "cell_type": "code",
   "execution_count": 86,
   "id": "d9fb663e",
   "metadata": {},
   "outputs": [
    {
     "name": "stdout",
     "output_type": "stream",
     "text": [
      "Bruce Springsteen    1.000000\n",
      "Neil Young           0.957878\n",
      "Leonard Cohen        0.914911\n",
      "Van Morrison         0.871361\n",
      "Bob Dylan            0.862843\n",
      "dtype: float64\n"
     ]
    }
   ],
   "source": [
    "\n",
    "# Create a DataFrame: df\n",
    "df = pd.DataFrame(norm_features, index=artist_names)\n",
    "\n",
    "# Select row of 'Bruce Springsteen': artist\n",
    "artist = df.loc['Bruce Springsteen']\n",
    "\n",
    "# Compute cosine similarities: similarities\n",
    "similarities = df.dot(artist)\n",
    "\n",
    "# Display those with highest cosine similarity\n",
    "print(similarities.nlargest())\n"
   ]
  },
  {
   "cell_type": "markdown",
   "id": "a487b7c1",
   "metadata": {},
   "source": [
    "<b> Well done, and congratulations on reaching the end of the course!"
   ]
  }
 ],
 "metadata": {
  "kernelspec": {
   "display_name": "Python 3 (ipykernel)",
   "language": "python",
   "name": "python3"
  },
  "language_info": {
   "codemirror_mode": {
    "name": "ipython",
    "version": 3
   },
   "file_extension": ".py",
   "mimetype": "text/x-python",
   "name": "python",
   "nbconvert_exporter": "python",
   "pygments_lexer": "ipython3",
   "version": "3.9.7"
  }
 },
 "nbformat": 4,
 "nbformat_minor": 5
}
